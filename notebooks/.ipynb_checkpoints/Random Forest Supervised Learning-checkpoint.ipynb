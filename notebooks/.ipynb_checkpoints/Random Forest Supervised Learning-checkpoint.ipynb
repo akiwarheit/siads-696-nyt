{
 "cells": [
  {
   "cell_type": "markdown",
   "id": "28301e2f",
   "metadata": {},
   "source": [
    "# Random Forest Classifier - Supervised Learning"
   ]
  },
  {
   "cell_type": "code",
   "execution_count": 1,
   "id": "6b6c338a",
   "metadata": {
    "scrolled": true
   },
   "outputs": [],
   "source": [
    "import numpy as np\n",
    "import pandas as pd\n",
    "import pickle\n",
    "from sklearn.ensemble import RandomForestClassifier\n",
    "from sklearn.model_selection import train_test_split\n",
    "from sklearn.metrics import accuracy_score\n",
    "from sklearn.metrics import f1_score\n",
    "from sklearn.metrics import precision_score\n",
    "from sklearn.metrics import recall_score\n",
    "from sklearn.metrics import roc_auc_score\n",
    "from sklearn.model_selection import cross_val_score\n",
    "from imblearn.over_sampling import SMOTE\n",
    "from sklearn.model_selection import GridSearchCV\n",
    "from sklearn.metrics import confusion_matrix\n",
    "from matplotlib import pyplot as plt\n",
    "import seaborn as sns"
   ]
  },
  {
   "cell_type": "code",
   "execution_count": 2,
   "id": "d21a83e1",
   "metadata": {},
   "outputs": [],
   "source": [
    "with open('out/df_final.pkl', 'rb') as f:\n",
    "    df = pickle.load(f)"
   ]
  },
  {
   "cell_type": "code",
   "execution_count": 3,
   "id": "8c3a0882",
   "metadata": {},
   "outputs": [
    {
     "data": {
      "text/html": [
       "<div>\n",
       "<style scoped>\n",
       "    .dataframe tbody tr th:only-of-type {\n",
       "        vertical-align: middle;\n",
       "    }\n",
       "\n",
       "    .dataframe tbody tr th {\n",
       "        vertical-align: top;\n",
       "    }\n",
       "\n",
       "    .dataframe thead th {\n",
       "        text-align: right;\n",
       "    }\n",
       "</style>\n",
       "<table border=\"1\" class=\"dataframe\">\n",
       "  <thead>\n",
       "    <tr style=\"text-align: right;\">\n",
       "      <th></th>\n",
       "      <th>topic_label</th>\n",
       "      <th>type_of_material_Biography</th>\n",
       "      <th>type_of_material_Brief</th>\n",
       "      <th>type_of_material_Correction</th>\n",
       "      <th>type_of_material_Editorial</th>\n",
       "      <th>type_of_material_First Chapter</th>\n",
       "      <th>type_of_material_Interview</th>\n",
       "      <th>type_of_material_Letter</th>\n",
       "      <th>type_of_material_List</th>\n",
       "      <th>type_of_material_News</th>\n",
       "      <th>...</th>\n",
       "      <th>world</th>\n",
       "      <th>would</th>\n",
       "      <th>write</th>\n",
       "      <th>writer</th>\n",
       "      <th>writing</th>\n",
       "      <th>yankee</th>\n",
       "      <th>yankees</th>\n",
       "      <th>yearold</th>\n",
       "      <th>yet</th>\n",
       "      <th>young</th>\n",
       "    </tr>\n",
       "  </thead>\n",
       "  <tbody>\n",
       "    <tr>\n",
       "      <th>0</th>\n",
       "      <td>Lifestyle</td>\n",
       "      <td>False</td>\n",
       "      <td>False</td>\n",
       "      <td>False</td>\n",
       "      <td>False</td>\n",
       "      <td>False</td>\n",
       "      <td>False</td>\n",
       "      <td>False</td>\n",
       "      <td>False</td>\n",
       "      <td>True</td>\n",
       "      <td>...</td>\n",
       "      <td>0.0</td>\n",
       "      <td>0.0</td>\n",
       "      <td>0.0</td>\n",
       "      <td>0.0</td>\n",
       "      <td>0.0</td>\n",
       "      <td>0.0</td>\n",
       "      <td>0.0</td>\n",
       "      <td>0.0</td>\n",
       "      <td>0.000000</td>\n",
       "      <td>0.0</td>\n",
       "    </tr>\n",
       "    <tr>\n",
       "      <th>1</th>\n",
       "      <td>Lifestyle</td>\n",
       "      <td>False</td>\n",
       "      <td>False</td>\n",
       "      <td>False</td>\n",
       "      <td>False</td>\n",
       "      <td>False</td>\n",
       "      <td>False</td>\n",
       "      <td>False</td>\n",
       "      <td>False</td>\n",
       "      <td>True</td>\n",
       "      <td>...</td>\n",
       "      <td>0.0</td>\n",
       "      <td>0.0</td>\n",
       "      <td>0.0</td>\n",
       "      <td>0.0</td>\n",
       "      <td>0.0</td>\n",
       "      <td>0.0</td>\n",
       "      <td>0.0</td>\n",
       "      <td>0.0</td>\n",
       "      <td>0.000000</td>\n",
       "      <td>0.0</td>\n",
       "    </tr>\n",
       "    <tr>\n",
       "      <th>2</th>\n",
       "      <td>Lifestyle</td>\n",
       "      <td>False</td>\n",
       "      <td>False</td>\n",
       "      <td>False</td>\n",
       "      <td>False</td>\n",
       "      <td>False</td>\n",
       "      <td>False</td>\n",
       "      <td>False</td>\n",
       "      <td>False</td>\n",
       "      <td>True</td>\n",
       "      <td>...</td>\n",
       "      <td>0.0</td>\n",
       "      <td>0.0</td>\n",
       "      <td>0.0</td>\n",
       "      <td>0.0</td>\n",
       "      <td>0.0</td>\n",
       "      <td>0.0</td>\n",
       "      <td>0.0</td>\n",
       "      <td>0.0</td>\n",
       "      <td>0.000000</td>\n",
       "      <td>0.0</td>\n",
       "    </tr>\n",
       "    <tr>\n",
       "      <th>3</th>\n",
       "      <td>Politics</td>\n",
       "      <td>False</td>\n",
       "      <td>False</td>\n",
       "      <td>False</td>\n",
       "      <td>False</td>\n",
       "      <td>False</td>\n",
       "      <td>False</td>\n",
       "      <td>False</td>\n",
       "      <td>False</td>\n",
       "      <td>True</td>\n",
       "      <td>...</td>\n",
       "      <td>0.0</td>\n",
       "      <td>0.0</td>\n",
       "      <td>0.0</td>\n",
       "      <td>0.0</td>\n",
       "      <td>0.0</td>\n",
       "      <td>0.0</td>\n",
       "      <td>0.0</td>\n",
       "      <td>0.0</td>\n",
       "      <td>0.159553</td>\n",
       "      <td>0.0</td>\n",
       "    </tr>\n",
       "    <tr>\n",
       "      <th>4</th>\n",
       "      <td>Lifestyle</td>\n",
       "      <td>False</td>\n",
       "      <td>False</td>\n",
       "      <td>False</td>\n",
       "      <td>False</td>\n",
       "      <td>False</td>\n",
       "      <td>False</td>\n",
       "      <td>False</td>\n",
       "      <td>False</td>\n",
       "      <td>True</td>\n",
       "      <td>...</td>\n",
       "      <td>0.0</td>\n",
       "      <td>0.0</td>\n",
       "      <td>0.0</td>\n",
       "      <td>0.0</td>\n",
       "      <td>0.0</td>\n",
       "      <td>0.0</td>\n",
       "      <td>0.0</td>\n",
       "      <td>0.0</td>\n",
       "      <td>0.000000</td>\n",
       "      <td>0.0</td>\n",
       "    </tr>\n",
       "  </tbody>\n",
       "</table>\n",
       "<p>5 rows × 1065 columns</p>\n",
       "</div>"
      ],
      "text/plain": [
       "  topic_label  type_of_material_Biography  type_of_material_Brief  \\\n",
       "0   Lifestyle                       False                   False   \n",
       "1   Lifestyle                       False                   False   \n",
       "2   Lifestyle                       False                   False   \n",
       "3    Politics                       False                   False   \n",
       "4   Lifestyle                       False                   False   \n",
       "\n",
       "   type_of_material_Correction  type_of_material_Editorial  \\\n",
       "0                        False                       False   \n",
       "1                        False                       False   \n",
       "2                        False                       False   \n",
       "3                        False                       False   \n",
       "4                        False                       False   \n",
       "\n",
       "   type_of_material_First Chapter  type_of_material_Interview  \\\n",
       "0                           False                       False   \n",
       "1                           False                       False   \n",
       "2                           False                       False   \n",
       "3                           False                       False   \n",
       "4                           False                       False   \n",
       "\n",
       "   type_of_material_Letter  type_of_material_List  type_of_material_News  ...  \\\n",
       "0                    False                  False                   True  ...   \n",
       "1                    False                  False                   True  ...   \n",
       "2                    False                  False                   True  ...   \n",
       "3                    False                  False                   True  ...   \n",
       "4                    False                  False                   True  ...   \n",
       "\n",
       "   world  would  write  writer  writing  yankee  yankees  yearold       yet  \\\n",
       "0    0.0    0.0    0.0     0.0      0.0     0.0      0.0      0.0  0.000000   \n",
       "1    0.0    0.0    0.0     0.0      0.0     0.0      0.0      0.0  0.000000   \n",
       "2    0.0    0.0    0.0     0.0      0.0     0.0      0.0      0.0  0.000000   \n",
       "3    0.0    0.0    0.0     0.0      0.0     0.0      0.0      0.0  0.159553   \n",
       "4    0.0    0.0    0.0     0.0      0.0     0.0      0.0      0.0  0.000000   \n",
       "\n",
       "   young  \n",
       "0    0.0  \n",
       "1    0.0  \n",
       "2    0.0  \n",
       "3    0.0  \n",
       "4    0.0  \n",
       "\n",
       "[5 rows x 1065 columns]"
      ]
     },
     "execution_count": 3,
     "metadata": {},
     "output_type": "execute_result"
    }
   ],
   "source": [
    "df.head()"
   ]
  },
  {
   "cell_type": "code",
   "execution_count": 4,
   "id": "a124b9f9",
   "metadata": {},
   "outputs": [],
   "source": [
    "#Set Random State\n",
    "random_state = 696"
   ]
  },
  {
   "cell_type": "code",
   "execution_count": 5,
   "id": "7a01c7bd",
   "metadata": {},
   "outputs": [],
   "source": [
    "#Separate the features and labels from the original df\n",
    "features = df.loc[:, df.columns != 'topic_label']\n",
    "labels = df['topic_label']"
   ]
  },
  {
   "cell_type": "markdown",
   "id": "9d0ca8bf",
   "metadata": {},
   "source": [
    "**Start off with exploring the Random Forest Classifier with default parameters:**"
   ]
  },
  {
   "cell_type": "code",
   "execution_count": 6,
   "id": "8df8a45d",
   "metadata": {},
   "outputs": [],
   "source": [
    "#Split the data in to train and test data\n",
    "X_train, X_test, y_train, y_test = train_test_split(features, labels, random_state = random_state)"
   ]
  },
  {
   "cell_type": "code",
   "execution_count": 7,
   "id": "d48fa4e0",
   "metadata": {},
   "outputs": [
    {
     "data": {
      "text/html": [
       "<style>#sk-container-id-1 {color: black;background-color: white;}#sk-container-id-1 pre{padding: 0;}#sk-container-id-1 div.sk-toggleable {background-color: white;}#sk-container-id-1 label.sk-toggleable__label {cursor: pointer;display: block;width: 100%;margin-bottom: 0;padding: 0.3em;box-sizing: border-box;text-align: center;}#sk-container-id-1 label.sk-toggleable__label-arrow:before {content: \"▸\";float: left;margin-right: 0.25em;color: #696969;}#sk-container-id-1 label.sk-toggleable__label-arrow:hover:before {color: black;}#sk-container-id-1 div.sk-estimator:hover label.sk-toggleable__label-arrow:before {color: black;}#sk-container-id-1 div.sk-toggleable__content {max-height: 0;max-width: 0;overflow: hidden;text-align: left;background-color: #f0f8ff;}#sk-container-id-1 div.sk-toggleable__content pre {margin: 0.2em;color: black;border-radius: 0.25em;background-color: #f0f8ff;}#sk-container-id-1 input.sk-toggleable__control:checked~div.sk-toggleable__content {max-height: 200px;max-width: 100%;overflow: auto;}#sk-container-id-1 input.sk-toggleable__control:checked~label.sk-toggleable__label-arrow:before {content: \"▾\";}#sk-container-id-1 div.sk-estimator input.sk-toggleable__control:checked~label.sk-toggleable__label {background-color: #d4ebff;}#sk-container-id-1 div.sk-label input.sk-toggleable__control:checked~label.sk-toggleable__label {background-color: #d4ebff;}#sk-container-id-1 input.sk-hidden--visually {border: 0;clip: rect(1px 1px 1px 1px);clip: rect(1px, 1px, 1px, 1px);height: 1px;margin: -1px;overflow: hidden;padding: 0;position: absolute;width: 1px;}#sk-container-id-1 div.sk-estimator {font-family: monospace;background-color: #f0f8ff;border: 1px dotted black;border-radius: 0.25em;box-sizing: border-box;margin-bottom: 0.5em;}#sk-container-id-1 div.sk-estimator:hover {background-color: #d4ebff;}#sk-container-id-1 div.sk-parallel-item::after {content: \"\";width: 100%;border-bottom: 1px solid gray;flex-grow: 1;}#sk-container-id-1 div.sk-label:hover label.sk-toggleable__label {background-color: #d4ebff;}#sk-container-id-1 div.sk-serial::before {content: \"\";position: absolute;border-left: 1px solid gray;box-sizing: border-box;top: 0;bottom: 0;left: 50%;z-index: 0;}#sk-container-id-1 div.sk-serial {display: flex;flex-direction: column;align-items: center;background-color: white;padding-right: 0.2em;padding-left: 0.2em;position: relative;}#sk-container-id-1 div.sk-item {position: relative;z-index: 1;}#sk-container-id-1 div.sk-parallel {display: flex;align-items: stretch;justify-content: center;background-color: white;position: relative;}#sk-container-id-1 div.sk-item::before, #sk-container-id-1 div.sk-parallel-item::before {content: \"\";position: absolute;border-left: 1px solid gray;box-sizing: border-box;top: 0;bottom: 0;left: 50%;z-index: -1;}#sk-container-id-1 div.sk-parallel-item {display: flex;flex-direction: column;z-index: 1;position: relative;background-color: white;}#sk-container-id-1 div.sk-parallel-item:first-child::after {align-self: flex-end;width: 50%;}#sk-container-id-1 div.sk-parallel-item:last-child::after {align-self: flex-start;width: 50%;}#sk-container-id-1 div.sk-parallel-item:only-child::after {width: 0;}#sk-container-id-1 div.sk-dashed-wrapped {border: 1px dashed gray;margin: 0 0.4em 0.5em 0.4em;box-sizing: border-box;padding-bottom: 0.4em;background-color: white;}#sk-container-id-1 div.sk-label label {font-family: monospace;font-weight: bold;display: inline-block;line-height: 1.2em;}#sk-container-id-1 div.sk-label-container {text-align: center;}#sk-container-id-1 div.sk-container {/* jupyter's `normalize.less` sets `[hidden] { display: none; }` but bootstrap.min.css set `[hidden] { display: none !important; }` so we also need the `!important` here to be able to override the default hidden behavior on the sphinx rendered scikit-learn.org. See: https://github.com/scikit-learn/scikit-learn/issues/21755 */display: inline-block !important;position: relative;}#sk-container-id-1 div.sk-text-repr-fallback {display: none;}</style><div id=\"sk-container-id-1\" class=\"sk-top-container\"><div class=\"sk-text-repr-fallback\"><pre>RandomForestClassifier(random_state=696)</pre><b>In a Jupyter environment, please rerun this cell to show the HTML representation or trust the notebook. <br />On GitHub, the HTML representation is unable to render, please try loading this page with nbviewer.org.</b></div><div class=\"sk-container\" hidden><div class=\"sk-item\"><div class=\"sk-estimator sk-toggleable\"><input class=\"sk-toggleable__control sk-hidden--visually\" id=\"sk-estimator-id-1\" type=\"checkbox\" checked><label for=\"sk-estimator-id-1\" class=\"sk-toggleable__label sk-toggleable__label-arrow\">RandomForestClassifier</label><div class=\"sk-toggleable__content\"><pre>RandomForestClassifier(random_state=696)</pre></div></div></div></div></div>"
      ],
      "text/plain": [
       "RandomForestClassifier(random_state=696)"
      ]
     },
     "execution_count": 7,
     "metadata": {},
     "output_type": "execute_result"
    }
   ],
   "source": [
    "#Initialize and fit the default Random Forest Classifier\n",
    "clf = RandomForestClassifier(random_state = random_state)\n",
    "clf.fit(X_train, y_train)"
   ]
  },
  {
   "cell_type": "code",
   "execution_count": 8,
   "id": "c1c4c85d",
   "metadata": {},
   "outputs": [],
   "source": [
    "#Predict test data labels with the trained classifer\n",
    "preds = clf.predict(X_test)"
   ]
  },
  {
   "cell_type": "code",
   "execution_count": 9,
   "id": "f35eb14f",
   "metadata": {},
   "outputs": [
    {
     "name": "stdout",
     "output_type": "stream",
     "text": [
      "Accuracy Score: 0.9309173272933182\n",
      "Precision Score: 0.9485263515845465\n",
      "Recall Score: 0.9035452077754095\n",
      "F1 Score: 0.9245062732228585\n",
      "ROC/AUC Score: 0.9896394765247493\n"
     ]
    }
   ],
   "source": [
    "#Obtain the evaluation metrics for the trained classifier\n",
    "accuracy = accuracy_score(y_test, preds)\n",
    "precision = precision_score(y_test, preds, average = 'macro')\n",
    "recall = recall_score(y_test, preds, average = 'macro')\n",
    "f1 = f1_score(y_test, preds, average = 'macro')\n",
    "\n",
    "#multi_class = 'ovr' for roc_auc_score is better for imbalance\n",
    "roc_auc = roc_auc_score(y_test, clf.predict_proba(X_test), multi_class = 'ovr', average = 'macro') \n",
    "\n",
    "print('Accuracy Score:', accuracy)\n",
    "print('Precision Score:', precision)\n",
    "print('Recall Score:', recall)\n",
    "print('F1 Score:', f1)\n",
    "print('ROC/AUC Score:', roc_auc)"
   ]
  },
  {
   "cell_type": "code",
   "execution_count": 10,
   "id": "d9f414db",
   "metadata": {},
   "outputs": [
    {
     "name": "stdout",
     "output_type": "stream",
     "text": [
      "Mean CV Score: 0.9367243463669007\n"
     ]
    }
   ],
   "source": [
    "#5 Fold Cross Validation of Model\n",
    "cv_clf = RandomForestClassifier(random_state = random_state)\n",
    "mean_cv_score = cross_val_score(cv_clf, features, labels, cv = 5).mean()\n",
    "print('Mean CV Score:', mean_cv_score)"
   ]
  },
  {
   "cell_type": "code",
   "execution_count": 11,
   "id": "2c1fb87e",
   "metadata": {},
   "outputs": [
    {
     "data": {
      "image/png": "[encoded data removed]",
      "text/plain": [
       "<Figure size 1000x800 with 2 Axes>"
      ]
     },
     "metadata": {},
     "output_type": "display_data"
    }
   ],
   "source": [
    "#Visualize results w/ Confusion Matrix\n",
    "c_matrix = confusion_matrix(y_test, preds)\n",
    "#Normalized Confusion Matrix\n",
    "c_matrix = c_matrix / c_matrix.astype(float).sum(axis=1)\n",
    "#Plot Confusion Matrix\n",
    "plt.figure(figsize=(10, 8))\n",
    "sns.heatmap(c_matrix, annot=True, fmt='.2f', cmap='Blues', \n",
    "            xticklabels=clf.classes_, yticklabels=clf.classes_)\n",
    "plt.xlabel('Predicted Labels')\n",
    "plt.ylabel('True Labels')\n",
    "plt.title('Confusion Matrix For Default Hyperparameters')\n",
    "plt.show()"
   ]
  },
  {
   "cell_type": "markdown",
   "id": "e856b8b7",
   "metadata": {},
   "source": [
    "Looks like with default hyperparameters all metrics have high scores. However, this could be indicative of overfitting, especially since we have class imbalance present in our data. Next, we will try to address the class imbalance using Synthetic Minority Over-sampling Technique (SMOTE). SMOTE allows us to oversample the minority classes in our imbalanced data to match the samples in the majority class, creating a more balanced data set to train our model on. "
   ]
  },
  {
   "cell_type": "markdown",
   "id": "d673b66e",
   "metadata": {},
   "source": [
    "**Balance the data using SMOTE:**"
   ]
  },
  {
   "cell_type": "code",
   "execution_count": 12,
   "id": "1080b820",
   "metadata": {},
   "outputs": [],
   "source": [
    "#Needed to do this to get imblearn to work properly on my machine -- results will be pickled so no need to run this\n",
    "#!pip uninstall sklearn\n",
    "#!pip install scikit-learn==1.2.2"
   ]
  },
  {
   "cell_type": "code",
   "execution_count": 13,
   "id": "8024ade6",
   "metadata": {},
   "outputs": [],
   "source": [
    "#Use SMOTE to transform features and labels to account for class imbalance\n",
    "balancer = SMOTE(random_state = random_state)\n",
    "balanced_features, balanced_labels = balancer.fit_resample(features, labels)"
   ]
  },
  {
   "cell_type": "code",
   "execution_count": 14,
   "id": "2c5fb3a0",
   "metadata": {},
   "outputs": [],
   "source": [
    "#Create new train/test split with the SMOTE transformed data\n",
    "X_b_train, X_b_test, y_b_train, y_b_test = train_test_split(balanced_features, balanced_labels, \n",
    "                                                            random_state = random_state)"
   ]
  },
  {
   "cell_type": "code",
   "execution_count": 15,
   "id": "97139734",
   "metadata": {},
   "outputs": [
    {
     "data": {
      "text/html": [
       "<style>#sk-container-id-2 {color: black;background-color: white;}#sk-container-id-2 pre{padding: 0;}#sk-container-id-2 div.sk-toggleable {background-color: white;}#sk-container-id-2 label.sk-toggleable__label {cursor: pointer;display: block;width: 100%;margin-bottom: 0;padding: 0.3em;box-sizing: border-box;text-align: center;}#sk-container-id-2 label.sk-toggleable__label-arrow:before {content: \"▸\";float: left;margin-right: 0.25em;color: #696969;}#sk-container-id-2 label.sk-toggleable__label-arrow:hover:before {color: black;}#sk-container-id-2 div.sk-estimator:hover label.sk-toggleable__label-arrow:before {color: black;}#sk-container-id-2 div.sk-toggleable__content {max-height: 0;max-width: 0;overflow: hidden;text-align: left;background-color: #f0f8ff;}#sk-container-id-2 div.sk-toggleable__content pre {margin: 0.2em;color: black;border-radius: 0.25em;background-color: #f0f8ff;}#sk-container-id-2 input.sk-toggleable__control:checked~div.sk-toggleable__content {max-height: 200px;max-width: 100%;overflow: auto;}#sk-container-id-2 input.sk-toggleable__control:checked~label.sk-toggleable__label-arrow:before {content: \"▾\";}#sk-container-id-2 div.sk-estimator input.sk-toggleable__control:checked~label.sk-toggleable__label {background-color: #d4ebff;}#sk-container-id-2 div.sk-label input.sk-toggleable__control:checked~label.sk-toggleable__label {background-color: #d4ebff;}#sk-container-id-2 input.sk-hidden--visually {border: 0;clip: rect(1px 1px 1px 1px);clip: rect(1px, 1px, 1px, 1px);height: 1px;margin: -1px;overflow: hidden;padding: 0;position: absolute;width: 1px;}#sk-container-id-2 div.sk-estimator {font-family: monospace;background-color: #f0f8ff;border: 1px dotted black;border-radius: 0.25em;box-sizing: border-box;margin-bottom: 0.5em;}#sk-container-id-2 div.sk-estimator:hover {background-color: #d4ebff;}#sk-container-id-2 div.sk-parallel-item::after {content: \"\";width: 100%;border-bottom: 1px solid gray;flex-grow: 1;}#sk-container-id-2 div.sk-label:hover label.sk-toggleable__label {background-color: #d4ebff;}#sk-container-id-2 div.sk-serial::before {content: \"\";position: absolute;border-left: 1px solid gray;box-sizing: border-box;top: 0;bottom: 0;left: 50%;z-index: 0;}#sk-container-id-2 div.sk-serial {display: flex;flex-direction: column;align-items: center;background-color: white;padding-right: 0.2em;padding-left: 0.2em;position: relative;}#sk-container-id-2 div.sk-item {position: relative;z-index: 1;}#sk-container-id-2 div.sk-parallel {display: flex;align-items: stretch;justify-content: center;background-color: white;position: relative;}#sk-container-id-2 div.sk-item::before, #sk-container-id-2 div.sk-parallel-item::before {content: \"\";position: absolute;border-left: 1px solid gray;box-sizing: border-box;top: 0;bottom: 0;left: 50%;z-index: -1;}#sk-container-id-2 div.sk-parallel-item {display: flex;flex-direction: column;z-index: 1;position: relative;background-color: white;}#sk-container-id-2 div.sk-parallel-item:first-child::after {align-self: flex-end;width: 50%;}#sk-container-id-2 div.sk-parallel-item:last-child::after {align-self: flex-start;width: 50%;}#sk-container-id-2 div.sk-parallel-item:only-child::after {width: 0;}#sk-container-id-2 div.sk-dashed-wrapped {border: 1px dashed gray;margin: 0 0.4em 0.5em 0.4em;box-sizing: border-box;padding-bottom: 0.4em;background-color: white;}#sk-container-id-2 div.sk-label label {font-family: monospace;font-weight: bold;display: inline-block;line-height: 1.2em;}#sk-container-id-2 div.sk-label-container {text-align: center;}#sk-container-id-2 div.sk-container {/* jupyter's `normalize.less` sets `[hidden] { display: none; }` but bootstrap.min.css set `[hidden] { display: none !important; }` so we also need the `!important` here to be able to override the default hidden behavior on the sphinx rendered scikit-learn.org. See: https://github.com/scikit-learn/scikit-learn/issues/21755 */display: inline-block !important;position: relative;}#sk-container-id-2 div.sk-text-repr-fallback {display: none;}</style><div id=\"sk-container-id-2\" class=\"sk-top-container\"><div class=\"sk-text-repr-fallback\"><pre>RandomForestClassifier(random_state=696)</pre><b>In a Jupyter environment, please rerun this cell to show the HTML representation or trust the notebook. <br />On GitHub, the HTML representation is unable to render, please try loading this page with nbviewer.org.</b></div><div class=\"sk-container\" hidden><div class=\"sk-item\"><div class=\"sk-estimator sk-toggleable\"><input class=\"sk-toggleable__control sk-hidden--visually\" id=\"sk-estimator-id-2\" type=\"checkbox\" checked><label for=\"sk-estimator-id-2\" class=\"sk-toggleable__label sk-toggleable__label-arrow\">RandomForestClassifier</label><div class=\"sk-toggleable__content\"><pre>RandomForestClassifier(random_state=696)</pre></div></div></div></div></div>"
      ],
      "text/plain": [
       "RandomForestClassifier(random_state=696)"
      ]
     },
     "execution_count": 15,
     "metadata": {},
     "output_type": "execute_result"
    }
   ],
   "source": [
    "#Initialize and fit the default Random Forest Classifier with SMOTE transformed train data\n",
    "b_clf = RandomForestClassifier(random_state = random_state)\n",
    "b_clf.fit(X_b_train, y_b_train)"
   ]
  },
  {
   "cell_type": "code",
   "execution_count": 16,
   "id": "c2ede7f3",
   "metadata": {},
   "outputs": [],
   "source": [
    "#Predict test data labels with the trained classifer\n",
    "preds = b_clf.predict(X_b_test)"
   ]
  },
  {
   "cell_type": "code",
   "execution_count": 17,
   "id": "a55ce1ab",
   "metadata": {},
   "outputs": [
    {
     "name": "stdout",
     "output_type": "stream",
     "text": [
      "Accuracy Score: 0.9757375241246209\n",
      "Precision Score: 0.9756948518734808\n",
      "Recall Score: 0.9756678820925245\n",
      "F1 Score: 0.9756390601265831\n",
      "ROC/AUC Score: 0.9986938946152497\n"
     ]
    }
   ],
   "source": [
    "#Obtain the evaluation metrics for the trained classifier\n",
    "accuracy = accuracy_score(y_b_test, preds)\n",
    "precision = precision_score(y_b_test, preds, average = 'macro')\n",
    "recall = recall_score(y_b_test, preds, average = 'macro')\n",
    "f1 = f1_score(y_b_test, preds, average = 'macro')\n",
    "\n",
    "roc_auc = roc_auc_score(y_b_test, b_clf.predict_proba(X_b_test), multi_class = 'ovr', average = 'macro') \n",
    "\n",
    "print('Accuracy Score:', accuracy)\n",
    "print('Precision Score:', precision)\n",
    "print('Recall Score:', recall)\n",
    "print('F1 Score:', f1)\n",
    "print('ROC/AUC Score:', roc_auc)"
   ]
  },
  {
   "cell_type": "code",
   "execution_count": 18,
   "id": "eb9e59d0",
   "metadata": {},
   "outputs": [
    {
     "name": "stdout",
     "output_type": "stream",
     "text": [
      "Mean CV Score: 0.9693209238193725\n"
     ]
    }
   ],
   "source": [
    "#5 Fold Cross Validation of Model\n",
    "cv_clf = RandomForestClassifier(random_state = random_state)\n",
    "mean_cv_score = cross_val_score(cv_clf, balanced_features, balanced_labels, cv = 5).mean()\n",
    "print('Mean CV Score:', mean_cv_score)"
   ]
  },
  {
   "cell_type": "markdown",
   "id": "0c99ef9f",
   "metadata": {},
   "source": [
    "Looks like overall after balancing the dataset using SMOTE, the evaluation metrics increased for the default model. To futher optimize model performance, we will now perform hyperparameter tuning using GridSearchCV. This will allow us to test a number of different hyperparameter combinations in order to maximize the f1 score. Once this model has been identified we can further analyze the evaluation metrics and compare to the default model."
   ]
  },
  {
   "cell_type": "markdown",
   "id": "fa42cac9",
   "metadata": {},
   "source": [
    "**Hyperparameter tuning/analysis with SMOTE Balanced Data:**"
   ]
  },
  {
   "cell_type": "markdown",
   "id": "810ff107",
   "metadata": {},
   "source": [
    "We chose to focus on the n_estimators and max_features parameters for our hyperparameter tuning. The n_estimators parameter specifies the number of decision trees that are considered when making a classification, and the max_features parameters determines how many features are provided to each decision tree in the random forest. "
   ]
  },
  {
   "cell_type": "code",
   "execution_count": 19,
   "id": "15211d2d",
   "metadata": {},
   "outputs": [],
   "source": [
    "parameters = {'n_estimators': np.arange(100,450,50),\n",
    "              'max_features': ['sqrt', 'log2', None]}"
   ]
  },
  {
   "cell_type": "code",
   "execution_count": 20,
   "id": "a7589bf0",
   "metadata": {},
   "outputs": [
    {
     "name": "stdout",
     "output_type": "stream",
     "text": [
      "Fitting 5 folds for each of 21 candidates, totalling 105 fits\n",
      "Best parameters: {'max_features': 'log2', 'n_estimators': 400}\n",
      "Best CV score: 0.9768261342117691\n",
      "Best Model: RandomForestClassifier(max_features='log2', n_estimators=400, random_state=696)\n"
     ]
    }
   ],
   "source": [
    "#GridsearchCV to determine best hyper parameters\n",
    "grid_search = GridSearchCV(clf, parameters, verbose = 1, scoring = 'f1_weighted', cv = 5)\n",
    "grid_search.fit(X_b_train, y_b_train)\n",
    "sm_best_model = grid_search.best_estimator_\n",
    "\n",
    "print('Best parameters:', grid_search.best_params_)\n",
    "print('Best CV score:', grid_search.best_score_)\n",
    "print('Best Model:', sm_best_model)"
   ]
  },
  {
   "cell_type": "code",
   "execution_count": 21,
   "id": "748995b3",
   "metadata": {},
   "outputs": [
    {
     "name": "stdout",
     "output_type": "stream",
     "text": [
      "Accuracy Score: 0.9809760132340778\n",
      "Precision Score: 0.9809250415646679\n",
      "Recall Score: 0.9808990197516511\n",
      "F1 Score: 0.9809065529801299\n",
      "ROC/AUC Score: 0.9989576687670055\n"
     ]
    }
   ],
   "source": [
    "#Obtain evaluation metrics for best model peformance with test_data\n",
    "b_preds = sm_best_model.predict(X_b_test)\n",
    "accuracy = accuracy_score(y_b_test, b_preds)\n",
    "precision = precision_score(y_b_test, b_preds, average = 'macro')\n",
    "recall = recall_score(y_b_test, b_preds, average = 'macro')\n",
    "f1 = f1_score(y_b_test, b_preds, average = 'macro')\n",
    "\n",
    "roc_auc = roc_auc_score(y_b_test, sm_best_model.predict_proba(X_b_test), multi_class = 'ovr', average = 'macro') \n",
    "\n",
    "print('Accuracy Score:', accuracy)\n",
    "print('Precision Score:', precision)\n",
    "print('Recall Score:', recall)\n",
    "print('F1 Score:', f1)\n",
    "print('ROC/AUC Score:', roc_auc)"
   ]
  },
  {
   "cell_type": "markdown",
   "id": "73e39267",
   "metadata": {},
   "source": [
    "**Visualize Best Model Metrics**"
   ]
  },
  {
   "cell_type": "code",
   "execution_count": 22,
   "id": "e3afaab1",
   "metadata": {
    "scrolled": false
   },
   "outputs": [
    {
     "data": {
      "image/png": "[encoded data removed]",
      "text/plain": [
       "<Figure size 1000x800 with 2 Axes>"
      ]
     },
     "metadata": {},
     "output_type": "display_data"
    }
   ],
   "source": [
    "#Visualize results w/ Confusion Matrix\n",
    "c_matrix = confusion_matrix(y_b_test, b_preds)\n",
    "#Normalized Confusion Matrix\n",
    "c_matrix = c_matrix / c_matrix.astype(float).sum(axis=1)\n",
    "#Plot Confusion Matrix\n",
    "plt.figure(figsize=(10, 8))\n",
    "sns.heatmap(c_matrix, annot=True, fmt='.2f', cmap='Blues', \n",
    "            xticklabels=sm_best_model.classes_, yticklabels=sm_best_model.classes_)\n",
    "plt.xlabel('Predicted Labels')\n",
    "plt.ylabel('True Labels')\n",
    "plt.title('Confusion Matrix for SMOTE Balanced Data Best Model')\n",
    "plt.show()"
   ]
  },
  {
   "cell_type": "markdown",
   "id": "4eb66a42",
   "metadata": {},
   "source": [
    "After balancing the data using SMOTE and performing hyperparameter tuning, the best Random Forest Classifier model was with n_estimators = 400 and max_features = 'log2'. Compared to the default model, the hyperparameters all increased, and as we can see from the confusion matrix, the proportion of correct predictions for all labels greatly increased."
   ]
  },
  {
   "cell_type": "markdown",
   "id": "f574ba7c",
   "metadata": {},
   "source": [
    "**Hyperparamter tuning/analysis with Stratified Data Set**"
   ]
  },
  {
   "cell_type": "code",
   "execution_count": 23,
   "id": "b0c34090",
   "metadata": {},
   "outputs": [],
   "source": [
    "#Get stratified data set\n",
    "with open(\"supervised_train_test_data/train_test_data.pkl\", \"rb\") as f:\n",
    "    data = pickle.load(f)\n",
    "\n",
    "X_s_train = data['X_train']\n",
    "X_s_test = data['X_test']\n",
    "y_s_train = data['y_train']\n",
    "y_s_test = data['y_test']"
   ]
  },
  {
   "cell_type": "code",
   "execution_count": 24,
   "id": "97f4f0b7",
   "metadata": {},
   "outputs": [],
   "source": [
    "clf = RandomForestClassifier(random_state = random_state)"
   ]
  },
  {
   "cell_type": "code",
   "execution_count": 25,
   "id": "091ba823",
   "metadata": {},
   "outputs": [
    {
     "name": "stdout",
     "output_type": "stream",
     "text": [
      "Fitting 5 folds for each of 21 candidates, totalling 105 fits\n",
      "Best parameters: {'max_features': 'sqrt', 'n_estimators': 350}\n",
      "Best CV score: 0.9400986302066741\n",
      "Best Model: RandomForestClassifier(n_estimators=350, random_state=696)\n"
     ]
    }
   ],
   "source": [
    "grid_search = GridSearchCV(clf, parameters, verbose = 1, scoring = 'f1_weighted', cv = 5)\n",
    "grid_search.fit(X_s_train, y_s_train)\n",
    "st_best_model = grid_search.best_estimator_\n",
    "\n",
    "print('Best parameters:', grid_search.best_params_)\n",
    "print('Best CV score:', grid_search.best_score_)\n",
    "print('Best Model:', st_best_model)"
   ]
  },
  {
   "cell_type": "code",
   "execution_count": 26,
   "id": "84088338",
   "metadata": {},
   "outputs": [
    {
     "name": "stdout",
     "output_type": "stream",
     "text": [
      "Accuracy Score: 0.9412597310686482\n",
      "Precision Score: 0.9459980661796304\n",
      "Recall Score: 0.9161791484194156\n",
      "F1 Score: 0.930196276564018\n",
      "ROC/AUC Score: 0.9896566240585711\n"
     ]
    }
   ],
   "source": [
    "#Obtain evaluation metrics for best model peformance with test_data\n",
    "s_preds = st_best_model.predict(X_s_test)\n",
    "accuracy = accuracy_score(y_s_test, s_preds)\n",
    "precision = precision_score(y_s_test, s_preds, average = 'macro')\n",
    "recall = recall_score(y_s_test, s_preds, average = 'macro')\n",
    "f1 = f1_score(y_s_test, s_preds, average = 'macro')\n",
    "\n",
    "roc_auc = roc_auc_score(y_s_test, st_best_model.predict_proba(X_s_test), multi_class = 'ovr', average = 'macro') \n",
    "\n",
    "print('Accuracy Score:', accuracy)\n",
    "print('Precision Score:', precision)\n",
    "print('Recall Score:', recall)\n",
    "print('F1 Score:', f1)\n",
    "print('ROC/AUC Score:', roc_auc)"
   ]
  },
  {
   "cell_type": "code",
   "execution_count": 27,
   "id": "9809818e",
   "metadata": {},
   "outputs": [
    {
     "data": {
      "image/png": "[encoded data removed]",
      "text/plain": [
       "<Figure size 1000x800 with 2 Axes>"
      ]
     },
     "metadata": {},
     "output_type": "display_data"
    }
   ],
   "source": [
    "#Visualize results w/ Confusion Matrix\n",
    "c_matrix = confusion_matrix(y_s_test, s_preds)\n",
    "#Normalized Confusion Matrix\n",
    "c_matrix = c_matrix / c_matrix.astype(float).sum(axis=1)\n",
    "#Plot Confusion Matrix\n",
    "plt.figure(figsize=(10, 8))\n",
    "sns.heatmap(c_matrix, annot=True, fmt='.2f', cmap='Blues', \n",
    "            xticklabels=st_best_model.classes_, yticklabels=st_best_model.classes_)\n",
    "plt.xlabel('Predicted Labels')\n",
    "plt.ylabel('True Labels')\n",
    "plt.title('Confusion Matrix for Stratified Data Best Model')\n",
    "plt.show()"
   ]
  },
  {
   "cell_type": "markdown",
   "id": "84e98865",
   "metadata": {},
   "source": [
    "With the stratified data set the best model was with n_estimators = 350 and max_features = 'sqrt'. The confusion matrix above shows similar performance for classification of the labels with the original data set and default hyperparameters. "
   ]
  },
  {
   "cell_type": "markdown",
   "id": "0ad184c3",
   "metadata": {},
   "source": [
    "**Overall Findings**"
   ]
  },
  {
   "cell_type": "markdown",
   "id": "385d2565",
   "metadata": {},
   "source": [
    "In summary, using two different balancing methods yielded two different optimal models with differing performance metrics. Overall it seems that balancing the data set using SMOTE provides data and a Random Forest model that performs very well on the test data. "
   ]
  },
  {
   "cell_type": "markdown",
   "id": "833fbc52",
   "metadata": {},
   "source": [
    "**Pickle Best Models and SMOTE Balanced Data for Future Use**"
   ]
  },
  {
   "cell_type": "code",
   "execution_count": 28,
   "id": "e9e3b4ec",
   "metadata": {},
   "outputs": [],
   "source": [
    "#Pickle Best Models\n",
    "with open(\"out/best_SMOTE_rf.pkl\", \"wb\") as f:\n",
    "    pickle.dump(sm_best_model, f)\n",
    "    \n",
    "with open(\"out/best_Stratified_rf.pkl\", \"wb\")as f:\n",
    "    pickle.dump(st_best_model,f)"
   ]
  },
  {
   "cell_type": "code",
   "execution_count": 30,
   "id": "75bffcd6",
   "metadata": {},
   "outputs": [],
   "source": [
    "#Pickle SMOTE Balanced Data\n",
    "smote_data = {'X_train': X_b_train, 'X_test': X_b_test, 'y_train': y_b_train, 'y_test': y_b_test}\n",
    "with open(\"out/smote_Xtrain.pkl\", \"wb\") as f:\n",
    "    pickle.dump(smote_data['X_train'], f)\n",
    "with open(\"out/smote_Xtest.pkl\", \"wb\") as f:\n",
    "    pickle.dump(smote_data['X_test'], f)\n",
    "with open(\"out/smote_ytrain.pkl\", \"wb\") as f:\n",
    "    pickle.dump(smote_data['y_train'], f)\n",
    "with open(\"out/smote_ytest.pkl\", \"wb\") as f:\n",
    "    pickle.dump(smote_data['y_test'], f)\n"
   ]
  },
  {
   "cell_type": "markdown",
   "id": "6f600968",
   "metadata": {},
   "source": [
    "**References**\n",
    "<p>https://medium.com/sfu-cspmp/surviving-in-a-random-forest-with-imbalanced-datasets-b98b963d52eb</p>\n",
    "<p>https://imbalanced-learn.org/stable/references/generated/imblearn.over_sampling.SMOTE.html</p>\n",
    "<p>https://www.analyticsvidhya.com/blog/2015/06/tuning-random-forest-model/</p>\n",
    "<p>https://machinelearningmastery.com/tune-number-size-decision-trees-xgboost-python/</p>\n",
    "<p>https://www.analyticsvidhya.com/blog/2020/03/beginners-guide-random-forest-hyperparameter-tuning/</p>"
   ]
  }
 ],
 "metadata": {
  "kernelspec": {
   "display_name": "Python 3 (ipykernel)",
   "language": "python",
   "name": "python3"
  },
  "language_info": {
   "codemirror_mode": {
    "name": "ipython",
    "version": 3
   },
   "file_extension": ".py",
   "mimetype": "text/x-python",
   "name": "python",
   "nbconvert_exporter": "python",
   "pygments_lexer": "ipython3",
   "version": "3.8.13"
  },
  "toc": {
   "base_numbering": 1,
   "nav_menu": {},
   "number_sections": false,
   "sideBar": true,
   "skip_h1_title": false,
   "title_cell": "Table of Contents",
   "title_sidebar": "Contents",
   "toc_cell": false,
   "toc_position": {},
   "toc_section_display": true,
   "toc_window_display": false
  }
 },
 "nbformat": 4,
 "nbformat_minor": 5
}
