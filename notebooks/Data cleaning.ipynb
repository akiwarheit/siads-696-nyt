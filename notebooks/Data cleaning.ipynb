{
 "cells": [
  {
   "cell_type": "code",
   "execution_count": 1,
   "id": "5a205521",
   "metadata": {},
   "outputs": [],
   "source": [
    "import pandas as pd\n",
    "import numpy as np"
   ]
  },
  {
   "cell_type": "code",
   "execution_count": 2,
   "id": "a2980975",
   "metadata": {},
   "outputs": [],
   "source": [
    "df = pd.read_csv('combined_nyt_articles.csv')"
   ]
  },
  {
   "cell_type": "code",
   "execution_count": 3,
   "id": "4dda4bdb",
   "metadata": {},
   "outputs": [
    {
     "data": {
      "text/html": [
       "<div>\n",
       "<style scoped>\n",
       "    .dataframe tbody tr th:only-of-type {\n",
       "        vertical-align: middle;\n",
       "    }\n",
       "\n",
       "    .dataframe tbody tr th {\n",
       "        vertical-align: top;\n",
       "    }\n",
       "\n",
       "    .dataframe thead th {\n",
       "        text-align: right;\n",
       "    }\n",
       "</style>\n",
       "<table border=\"1\" class=\"dataframe\">\n",
       "  <thead>\n",
       "    <tr style=\"text-align: right;\">\n",
       "      <th></th>\n",
       "      <th>abstract</th>\n",
       "      <th>web_url</th>\n",
       "      <th>snippet</th>\n",
       "      <th>lead_paragraph</th>\n",
       "      <th>print_section</th>\n",
       "      <th>print_page</th>\n",
       "      <th>source</th>\n",
       "      <th>multimedia</th>\n",
       "      <th>headline</th>\n",
       "      <th>keywords</th>\n",
       "      <th>...</th>\n",
       "      <th>document_type</th>\n",
       "      <th>news_desk</th>\n",
       "      <th>section_name</th>\n",
       "      <th>byline</th>\n",
       "      <th>type_of_material</th>\n",
       "      <th>_id</th>\n",
       "      <th>word_count</th>\n",
       "      <th>uri</th>\n",
       "      <th>subsection_name</th>\n",
       "      <th>slideshow_credits</th>\n",
       "    </tr>\n",
       "  </thead>\n",
       "  <tbody>\n",
       "    <tr>\n",
       "      <th>1134</th>\n",
       "      <td>The bride is a candidate for two graduate degr...</td>\n",
       "      <td>https://www.nytimes.com/2012/12/02/fashion/wed...</td>\n",
       "      <td>The bride is a candidate for two graduate degr...</td>\n",
       "      <td>Valerie Miriam Baron and Ari Benjamin Gerstman...</td>\n",
       "      <td>ST</td>\n",
       "      <td>22</td>\n",
       "      <td>The New York Times</td>\n",
       "      <td>[{'rank': 0, 'subtype': 'blog480', 'caption': ...</td>\n",
       "      <td>{'main': 'Valerie Baron, Ari Gerstman', 'kicke...</td>\n",
       "      <td>[{'name': 'subject', 'value': 'Weddings and En...</td>\n",
       "      <td>...</td>\n",
       "      <td>article</td>\n",
       "      <td>Society</td>\n",
       "      <td>Fashion &amp; Style</td>\n",
       "      <td>{'original': None, 'person': [], 'organization...</td>\n",
       "      <td>News</td>\n",
       "      <td>nyt://article/b300dbd8-d96e-596f-bf53-4573a5fe...</td>\n",
       "      <td>274</td>\n",
       "      <td>nyt://article/b300dbd8-d96e-596f-bf53-4573a5fe...</td>\n",
       "      <td>Weddings</td>\n",
       "      <td>NaN</td>\n",
       "    </tr>\n",
       "    <tr>\n",
       "      <th>492</th>\n",
       "      <td>One apartment building will be allowed in the ...</td>\n",
       "      <td>https://www.nytimes.com/2011/08/02/nyregion/ho...</td>\n",
       "      <td>One apartment building will be allowed in the ...</td>\n",
       "      <td>After months of uncertainty over the fate of t...</td>\n",
       "      <td>A</td>\n",
       "      <td>20.0</td>\n",
       "      <td>The New York Times</td>\n",
       "      <td>[]</td>\n",
       "      <td>{'main': 'Housing Deal Ensures Park in Brookly...</td>\n",
       "      <td>[{'name': 'glocations', 'value': 'Brooklyn Bri...</td>\n",
       "      <td>...</td>\n",
       "      <td>article</td>\n",
       "      <td>Metro</td>\n",
       "      <td>New York</td>\n",
       "      <td>{'original': 'By Lisa W. Foderaro', 'person': ...</td>\n",
       "      <td>News</td>\n",
       "      <td>nyt://article/09b8802a-1777-52b2-8bd5-5bad2e02...</td>\n",
       "      <td>656</td>\n",
       "      <td>nyt://article/09b8802a-1777-52b2-8bd5-5bad2e02...</td>\n",
       "      <td>NaN</td>\n",
       "      <td>NaN</td>\n",
       "    </tr>\n",
       "    <tr>\n",
       "      <th>1504</th>\n",
       "      <td>After more than a decade in which San Francisc...</td>\n",
       "      <td>https://www.nytimes.com/2012/01/01/us/an-unlik...</td>\n",
       "      <td>After more than a decade in which San Francisc...</td>\n",
       "      <td>Susan Beckstead stepped out of her sky-blue, t...</td>\n",
       "      <td>A</td>\n",
       "      <td>25A</td>\n",
       "      <td>The New York Times</td>\n",
       "      <td>[{'rank': 0, 'subtype': 'xlarge', 'caption': N...</td>\n",
       "      <td>{'main': 'An Unlikely Group Rebels Against Pre...</td>\n",
       "      <td>[{'name': 'subject', 'value': 'Historic Buildi...</td>\n",
       "      <td>...</td>\n",
       "      <td>article</td>\n",
       "      <td>National</td>\n",
       "      <td>U.S.</td>\n",
       "      <td>{'original': 'By Matt Smith', 'person': [{'fir...</td>\n",
       "      <td>News</td>\n",
       "      <td>nyt://article/d22bc19c-f690-514c-bb55-d78a9928...</td>\n",
       "      <td>1164</td>\n",
       "      <td>nyt://article/d22bc19c-f690-514c-bb55-d78a9928...</td>\n",
       "      <td>NaN</td>\n",
       "      <td>NaN</td>\n",
       "    </tr>\n",
       "    <tr>\n",
       "      <th>1644</th>\n",
       "      <td>The stresses of school exams and parenthood co...</td>\n",
       "      <td>https://www.nytimes.com/2014/01/01/nyregion/co...</td>\n",
       "      <td>The stresses of school exams and parenthood co...</td>\n",
       "      <td>The load on a full-time college student is a h...</td>\n",
       "      <td>A</td>\n",
       "      <td>17.0</td>\n",
       "      <td>The New York Times</td>\n",
       "      <td>[{'rank': 0, 'subtype': 'wide', 'caption': Non...</td>\n",
       "      <td>{'main': 'College, Not Just for Himself, but f...</td>\n",
       "      <td>[{'name': 'subject', 'value': 'Philanthropy', ...</td>\n",
       "      <td>...</td>\n",
       "      <td>article</td>\n",
       "      <td>Metro</td>\n",
       "      <td>New York</td>\n",
       "      <td>{'original': 'By Sandra E. Garcia', 'person': ...</td>\n",
       "      <td>News</td>\n",
       "      <td>nyt://article/c4e1a1ee-b06b-5e9c-8682-85e456a3...</td>\n",
       "      <td>917</td>\n",
       "      <td>nyt://article/c4e1a1ee-b06b-5e9c-8682-85e456a3...</td>\n",
       "      <td>NaN</td>\n",
       "      <td>NaN</td>\n",
       "    </tr>\n",
       "    <tr>\n",
       "      <th>3455</th>\n",
       "      <td>President Viktor F. Yanukovich’s control over ...</td>\n",
       "      <td>https://www.nytimes.com/2010/10/02/world/europ...</td>\n",
       "      <td>President Viktor F. Yanukovich’s control over ...</td>\n",
       "      <td>President Viktor F. Yanukovich’s control over...</td>\n",
       "      <td>A</td>\n",
       "      <td>8.0</td>\n",
       "      <td>The New York Times</td>\n",
       "      <td>[]</td>\n",
       "      <td>{'main': 'Ukraine: Court Gives President Some ...</td>\n",
       "      <td>[{'name': 'subject', 'value': 'Legislatures an...</td>\n",
       "      <td>...</td>\n",
       "      <td>article</td>\n",
       "      <td>Foreign</td>\n",
       "      <td>World</td>\n",
       "      <td>{'original': 'By Clifford J. Levy', 'person': ...</td>\n",
       "      <td>Brief</td>\n",
       "      <td>nyt://article/880b9086-a312-5be4-b162-9949ef31...</td>\n",
       "      <td>117</td>\n",
       "      <td>nyt://article/880b9086-a312-5be4-b162-9949ef31...</td>\n",
       "      <td>Europe</td>\n",
       "      <td>NaN</td>\n",
       "    </tr>\n",
       "  </tbody>\n",
       "</table>\n",
       "<p>5 rows × 21 columns</p>\n",
       "</div>"
      ],
      "text/plain": [
       "                                               abstract  \\\n",
       "1134  The bride is a candidate for two graduate degr...   \n",
       "492   One apartment building will be allowed in the ...   \n",
       "1504  After more than a decade in which San Francisc...   \n",
       "1644  The stresses of school exams and parenthood co...   \n",
       "3455  President Viktor F. Yanukovich’s control over ...   \n",
       "\n",
       "                                                web_url  \\\n",
       "1134  https://www.nytimes.com/2012/12/02/fashion/wed...   \n",
       "492   https://www.nytimes.com/2011/08/02/nyregion/ho...   \n",
       "1504  https://www.nytimes.com/2012/01/01/us/an-unlik...   \n",
       "1644  https://www.nytimes.com/2014/01/01/nyregion/co...   \n",
       "3455  https://www.nytimes.com/2010/10/02/world/europ...   \n",
       "\n",
       "                                                snippet  \\\n",
       "1134  The bride is a candidate for two graduate degr...   \n",
       "492   One apartment building will be allowed in the ...   \n",
       "1504  After more than a decade in which San Francisc...   \n",
       "1644  The stresses of school exams and parenthood co...   \n",
       "3455  President Viktor F. Yanukovich’s control over ...   \n",
       "\n",
       "                                         lead_paragraph print_section  \\\n",
       "1134  Valerie Miriam Baron and Ari Benjamin Gerstman...            ST   \n",
       "492   After months of uncertainty over the fate of t...             A   \n",
       "1504  Susan Beckstead stepped out of her sky-blue, t...             A   \n",
       "1644  The load on a full-time college student is a h...             A   \n",
       "3455   President Viktor F. Yanukovich’s control over...             A   \n",
       "\n",
       "     print_page              source  \\\n",
       "1134         22  The New York Times   \n",
       "492        20.0  The New York Times   \n",
       "1504        25A  The New York Times   \n",
       "1644       17.0  The New York Times   \n",
       "3455        8.0  The New York Times   \n",
       "\n",
       "                                             multimedia  \\\n",
       "1134  [{'rank': 0, 'subtype': 'blog480', 'caption': ...   \n",
       "492                                                  []   \n",
       "1504  [{'rank': 0, 'subtype': 'xlarge', 'caption': N...   \n",
       "1644  [{'rank': 0, 'subtype': 'wide', 'caption': Non...   \n",
       "3455                                                 []   \n",
       "\n",
       "                                               headline  \\\n",
       "1134  {'main': 'Valerie Baron, Ari Gerstman', 'kicke...   \n",
       "492   {'main': 'Housing Deal Ensures Park in Brookly...   \n",
       "1504  {'main': 'An Unlikely Group Rebels Against Pre...   \n",
       "1644  {'main': 'College, Not Just for Himself, but f...   \n",
       "3455  {'main': 'Ukraine: Court Gives President Some ...   \n",
       "\n",
       "                                               keywords  ... document_type  \\\n",
       "1134  [{'name': 'subject', 'value': 'Weddings and En...  ...       article   \n",
       "492   [{'name': 'glocations', 'value': 'Brooklyn Bri...  ...       article   \n",
       "1504  [{'name': 'subject', 'value': 'Historic Buildi...  ...       article   \n",
       "1644  [{'name': 'subject', 'value': 'Philanthropy', ...  ...       article   \n",
       "3455  [{'name': 'subject', 'value': 'Legislatures an...  ...       article   \n",
       "\n",
       "     news_desk     section_name  \\\n",
       "1134   Society  Fashion & Style   \n",
       "492      Metro         New York   \n",
       "1504  National             U.S.   \n",
       "1644     Metro         New York   \n",
       "3455   Foreign            World   \n",
       "\n",
       "                                                 byline type_of_material  \\\n",
       "1134  {'original': None, 'person': [], 'organization...             News   \n",
       "492   {'original': 'By Lisa W. Foderaro', 'person': ...             News   \n",
       "1504  {'original': 'By Matt Smith', 'person': [{'fir...             News   \n",
       "1644  {'original': 'By Sandra E. Garcia', 'person': ...             News   \n",
       "3455  {'original': 'By Clifford J. Levy', 'person': ...            Brief   \n",
       "\n",
       "                                                    _id word_count  \\\n",
       "1134  nyt://article/b300dbd8-d96e-596f-bf53-4573a5fe...        274   \n",
       "492   nyt://article/09b8802a-1777-52b2-8bd5-5bad2e02...        656   \n",
       "1504  nyt://article/d22bc19c-f690-514c-bb55-d78a9928...       1164   \n",
       "1644  nyt://article/c4e1a1ee-b06b-5e9c-8682-85e456a3...        917   \n",
       "3455  nyt://article/880b9086-a312-5be4-b162-9949ef31...        117   \n",
       "\n",
       "                                                    uri subsection_name  \\\n",
       "1134  nyt://article/b300dbd8-d96e-596f-bf53-4573a5fe...        Weddings   \n",
       "492   nyt://article/09b8802a-1777-52b2-8bd5-5bad2e02...             NaN   \n",
       "1504  nyt://article/d22bc19c-f690-514c-bb55-d78a9928...             NaN   \n",
       "1644  nyt://article/c4e1a1ee-b06b-5e9c-8682-85e456a3...             NaN   \n",
       "3455  nyt://article/880b9086-a312-5be4-b162-9949ef31...          Europe   \n",
       "\n",
       "     slideshow_credits  \n",
       "1134               NaN  \n",
       "492                NaN  \n",
       "1504               NaN  \n",
       "1644               NaN  \n",
       "3455               NaN  \n",
       "\n",
       "[5 rows x 21 columns]"
      ]
     },
     "execution_count": 3,
     "metadata": {},
     "output_type": "execute_result"
    }
   ],
   "source": [
    "df.sample(5)"
   ]
  },
  {
   "cell_type": "code",
   "execution_count": 4,
   "id": "51e7dde2",
   "metadata": {},
   "outputs": [
    {
     "data": {
      "text/plain": [
       "(4100, 21)"
      ]
     },
     "execution_count": 4,
     "metadata": {},
     "output_type": "execute_result"
    }
   ],
   "source": [
    "df.shape"
   ]
  },
  {
   "cell_type": "code",
   "execution_count": 5,
   "id": "760e2ac6",
   "metadata": {},
   "outputs": [
    {
     "data": {
      "text/plain": [
       "source\n",
       "The New York Times              3796\n",
       "Reuters                           77\n",
       "Wirecutter                        13\n",
       "International Herald Tribune      10\n",
       "International New York Times       4\n",
       "Reuters UK                         2\n",
       "CNBC                               1\n",
       "Name: count, dtype: int64"
      ]
     },
     "execution_count": 5,
     "metadata": {},
     "output_type": "execute_result"
    }
   ],
   "source": [
    "df['source'].value_counts()"
   ]
  },
  {
   "cell_type": "code",
   "execution_count": 6,
   "id": "db0444b3",
   "metadata": {},
   "outputs": [
    {
     "name": "stdout",
     "output_type": "stream",
     "text": [
      "<class 'pandas.core.frame.DataFrame'>\n",
      "RangeIndex: 4100 entries, 0 to 4099\n",
      "Data columns (total 21 columns):\n",
      " #   Column             Non-Null Count  Dtype \n",
      "---  ------             --------------  ----- \n",
      " 0   abstract           3899 non-null   object\n",
      " 1   web_url            4100 non-null   object\n",
      " 2   snippet            3887 non-null   object\n",
      " 3   lead_paragraph     4010 non-null   object\n",
      " 4   print_section      2976 non-null   object\n",
      " 5   print_page         2978 non-null   object\n",
      " 6   source             3903 non-null   object\n",
      " 7   multimedia         4100 non-null   object\n",
      " 8   headline           4100 non-null   object\n",
      " 9   keywords           4100 non-null   object\n",
      " 10  pub_date           4100 non-null   object\n",
      " 11  document_type      4100 non-null   object\n",
      " 12  news_desk          3419 non-null   object\n",
      " 13  section_name       3890 non-null   object\n",
      " 14  byline             4100 non-null   object\n",
      " 15  type_of_material   3948 non-null   object\n",
      " 16  _id                4100 non-null   object\n",
      " 17  word_count         4100 non-null   int64 \n",
      " 18  uri                4100 non-null   object\n",
      " 19  subsection_name    1558 non-null   object\n",
      " 20  slideshow_credits  87 non-null     object\n",
      "dtypes: int64(1), object(20)\n",
      "memory usage: 672.8+ KB\n"
     ]
    }
   ],
   "source": [
    "df.info()"
   ]
  },
  {
   "cell_type": "code",
   "execution_count": 7,
   "id": "ce9a464d",
   "metadata": {},
   "outputs": [
    {
     "data": {
      "text/plain": [
       "Index(['abstract', 'web_url', 'snippet', 'lead_paragraph', 'print_section',\n",
       "       'print_page', 'source', 'multimedia', 'headline', 'keywords',\n",
       "       'pub_date', 'document_type', 'news_desk', 'section_name', 'byline',\n",
       "       'type_of_material', '_id', 'word_count', 'uri', 'subsection_name',\n",
       "       'slideshow_credits'],\n",
       "      dtype='object')"
      ]
     },
     "execution_count": 7,
     "metadata": {},
     "output_type": "execute_result"
    }
   ],
   "source": [
    "df.columns"
   ]
  },
  {
   "cell_type": "code",
   "execution_count": 8,
   "id": "3084d22a",
   "metadata": {},
   "outputs": [
    {
     "data": {
      "text/plain": [
       "0"
      ]
     },
     "execution_count": 8,
     "metadata": {},
     "output_type": "execute_result"
    }
   ],
   "source": [
    "df.duplicated().sum()"
   ]
  },
  {
   "cell_type": "code",
   "execution_count": 9,
   "id": "9453e8b4",
   "metadata": {},
   "outputs": [
    {
     "data": {
      "text/plain": [
       "0"
      ]
     },
     "execution_count": 9,
     "metadata": {},
     "output_type": "execute_result"
    }
   ],
   "source": [
    "df.drop_duplicates(inplace=True)\n",
    "df.duplicated().sum()"
   ]
  },
  {
   "cell_type": "code",
   "execution_count": 10,
   "id": "fa01ab3a",
   "metadata": {},
   "outputs": [
    {
     "data": {
      "text/plain": [
       "(4100, 21)"
      ]
     },
     "execution_count": 10,
     "metadata": {},
     "output_type": "execute_result"
    }
   ],
   "source": [
    "df.shape"
   ]
  },
  {
   "cell_type": "code",
   "execution_count": 11,
   "id": "0a6bd610",
   "metadata": {},
   "outputs": [
    {
     "data": {
      "text/plain": [
       "abstract              201\n",
       "web_url                 0\n",
       "snippet               213\n",
       "lead_paragraph         90\n",
       "print_section        1124\n",
       "print_page           1122\n",
       "source                197\n",
       "multimedia              0\n",
       "headline                0\n",
       "keywords                0\n",
       "pub_date                0\n",
       "document_type           0\n",
       "news_desk             681\n",
       "section_name          210\n",
       "byline                  0\n",
       "type_of_material      152\n",
       "_id                     0\n",
       "word_count              0\n",
       "uri                     0\n",
       "subsection_name      2542\n",
       "slideshow_credits    4013\n",
       "dtype: int64"
      ]
     },
     "execution_count": 11,
     "metadata": {},
     "output_type": "execute_result"
    }
   ],
   "source": [
    "df.isna().sum()"
   ]
  },
  {
   "cell_type": "code",
   "execution_count": 12,
   "id": "7a31df07",
   "metadata": {},
   "outputs": [],
   "source": [
    "columns_to_drop = ['snippet', 'print_section', 'print_page', 'source', 'subsection_name', 'slideshow_credits']\n",
    "df = df.drop(columns=columns_to_drop)"
   ]
  },
  {
   "cell_type": "code",
   "execution_count": 13,
   "id": "d625f2c5",
   "metadata": {},
   "outputs": [
    {
     "data": {
      "text/plain": [
       "(4100, 15)"
      ]
     },
     "execution_count": 13,
     "metadata": {},
     "output_type": "execute_result"
    }
   ],
   "source": [
    "df.shape"
   ]
  },
  {
   "cell_type": "code",
   "execution_count": 14,
   "id": "a63ab8ad",
   "metadata": {},
   "outputs": [
    {
     "data": {
      "text/plain": [
       "abstract            201\n",
       "web_url               0\n",
       "lead_paragraph       90\n",
       "multimedia            0\n",
       "headline              0\n",
       "keywords              0\n",
       "pub_date              0\n",
       "document_type         0\n",
       "news_desk           681\n",
       "section_name        210\n",
       "byline                0\n",
       "type_of_material    152\n",
       "_id                   0\n",
       "word_count            0\n",
       "uri                   0\n",
       "dtype: int64"
      ]
     },
     "execution_count": 14,
     "metadata": {},
     "output_type": "execute_result"
    }
   ],
   "source": [
    "df.isna().sum()"
   ]
  },
  {
   "cell_type": "code",
   "execution_count": 15,
   "id": "e269e3c6",
   "metadata": {},
   "outputs": [],
   "source": [
    "df = df.dropna()"
   ]
  },
  {
   "cell_type": "code",
   "execution_count": 16,
   "id": "37b7502d",
   "metadata": {},
   "outputs": [
    {
     "data": {
      "text/plain": [
       "(3367, 15)"
      ]
     },
     "execution_count": 16,
     "metadata": {},
     "output_type": "execute_result"
    }
   ],
   "source": [
    "df.shape"
   ]
  },
  {
   "cell_type": "code",
   "execution_count": 17,
   "id": "a7778786",
   "metadata": {},
   "outputs": [
    {
     "data": {
      "text/plain": [
       "abstract            0\n",
       "web_url             0\n",
       "lead_paragraph      0\n",
       "multimedia          0\n",
       "headline            0\n",
       "keywords            0\n",
       "pub_date            0\n",
       "document_type       0\n",
       "news_desk           0\n",
       "section_name        0\n",
       "byline              0\n",
       "type_of_material    0\n",
       "_id                 0\n",
       "word_count          0\n",
       "uri                 0\n",
       "dtype: int64"
      ]
     },
     "execution_count": 17,
     "metadata": {},
     "output_type": "execute_result"
    }
   ],
   "source": [
    "df.isna().sum()"
   ]
  },
  {
   "cell_type": "code",
   "execution_count": 18,
   "id": "f0811df5",
   "metadata": {},
   "outputs": [
    {
     "data": {
      "text/html": [
       "<div>\n",
       "<style scoped>\n",
       "    .dataframe tbody tr th:only-of-type {\n",
       "        vertical-align: middle;\n",
       "    }\n",
       "\n",
       "    .dataframe tbody tr th {\n",
       "        vertical-align: top;\n",
       "    }\n",
       "\n",
       "    .dataframe thead th {\n",
       "        text-align: right;\n",
       "    }\n",
       "</style>\n",
       "<table border=\"1\" class=\"dataframe\">\n",
       "  <thead>\n",
       "    <tr style=\"text-align: right;\">\n",
       "      <th></th>\n",
       "      <th>abstract</th>\n",
       "      <th>web_url</th>\n",
       "      <th>lead_paragraph</th>\n",
       "      <th>multimedia</th>\n",
       "      <th>headline</th>\n",
       "      <th>keywords</th>\n",
       "      <th>pub_date</th>\n",
       "      <th>document_type</th>\n",
       "      <th>news_desk</th>\n",
       "      <th>section_name</th>\n",
       "      <th>byline</th>\n",
       "      <th>type_of_material</th>\n",
       "      <th>_id</th>\n",
       "      <th>word_count</th>\n",
       "      <th>uri</th>\n",
       "    </tr>\n",
       "  </thead>\n",
       "  <tbody>\n",
       "    <tr>\n",
       "      <th>0</th>\n",
       "      <td>Point of view — prescriptive, descriptive and ...</td>\n",
       "      <td>https://www.nytimes.com/2009/04/02/garden/02bo...</td>\n",
       "      <td>Point of view  prescriptive, descriptive and ...</td>\n",
       "      <td>[{'rank': 0, 'subtype': 'articleInline', 'capt...</td>\n",
       "      <td>{'main': 'An Algebraic Approach to Style', 'ki...</td>\n",
       "      <td>[{'name': 'subject', 'value': 'Books and Liter...</td>\n",
       "      <td>2009-04-02 00:00:43+00:00</td>\n",
       "      <td>article</td>\n",
       "      <td>Home</td>\n",
       "      <td>Home &amp; Garden</td>\n",
       "      <td>{'original': 'By Penelope Green', 'person': [{...</td>\n",
       "      <td>News</td>\n",
       "      <td>nyt://article/b16284bd-135e-58f3-867a-268a1129...</td>\n",
       "      <td>252</td>\n",
       "      <td>nyt://article/b16284bd-135e-58f3-867a-268a1129...</td>\n",
       "    </tr>\n",
       "    <tr>\n",
       "      <th>2</th>\n",
       "      <td>Ten high-end design galleries will offer 30 to...</td>\n",
       "      <td>https://www.nytimes.com/2009/04/02/garden/02de...</td>\n",
       "      <td>Ten high-end design galleries, including Antik...</td>\n",
       "      <td>[{'rank': 0, 'subtype': 'popup', 'caption': No...</td>\n",
       "      <td>{'main': 'Price Cuts and Gift-Card Rescues', '...</td>\n",
       "      <td>[{'name': 'subject', 'value': 'Furniture', 'ra...</td>\n",
       "      <td>2009-04-02 00:06:09+00:00</td>\n",
       "      <td>article</td>\n",
       "      <td>Home</td>\n",
       "      <td>Home &amp; Garden</td>\n",
       "      <td>{'original': 'By Marianne Rohrlich', 'person':...</td>\n",
       "      <td>News</td>\n",
       "      <td>nyt://article/41dbc26a-064f-52c3-a359-08709e7e...</td>\n",
       "      <td>219</td>\n",
       "      <td>nyt://article/41dbc26a-064f-52c3-a359-08709e7e...</td>\n",
       "    </tr>\n",
       "    <tr>\n",
       "      <th>3</th>\n",
       "      <td>Bankers may be suffering but the decline in de...</td>\n",
       "      <td>https://www.nytimes.com/2009/04/02/business/02...</td>\n",
       "      <td>Bankers may be suffering but Wall Street’s leg...</td>\n",
       "      <td>[{'rank': 0, 'subtype': 'popup', 'caption': No...</td>\n",
       "      <td>{'main': 'Lack of Mergers Idling Lawyers', 'ki...</td>\n",
       "      <td>[{'name': 'subject', 'value': 'Legal Professio...</td>\n",
       "      <td>2009-04-02 00:06:16+00:00</td>\n",
       "      <td>article</td>\n",
       "      <td>Business</td>\n",
       "      <td>Business Day</td>\n",
       "      <td>{'original': 'By Lauren Silva Laughlin, Rob Co...</td>\n",
       "      <td>News</td>\n",
       "      <td>nyt://article/b0d0ca7a-d02f-5235-8cdd-e5ed9532...</td>\n",
       "      <td>751</td>\n",
       "      <td>nyt://article/b0d0ca7a-d02f-5235-8cdd-e5ed9532...</td>\n",
       "    </tr>\n",
       "    <tr>\n",
       "      <th>4</th>\n",
       "      <td>Florida scaled back its purchase of sugar comp...</td>\n",
       "      <td>https://www.nytimes.com/2009/04/02/us/02evergl...</td>\n",
       "      <td>MIAMI — The Everglades have become yet another...</td>\n",
       "      <td>[{'rank': 0, 'subtype': 'popup', 'caption': No...</td>\n",
       "      <td>{'main': 'Everglades Restoration Plan Shrinks'...</td>\n",
       "      <td>[{'name': 'persons', 'value': 'Crist, Charlie'...</td>\n",
       "      <td>2009-04-02 00:07:04+00:00</td>\n",
       "      <td>article</td>\n",
       "      <td>National</td>\n",
       "      <td>U.S.</td>\n",
       "      <td>{'original': 'By Damien Cave', 'person': [{'fi...</td>\n",
       "      <td>News</td>\n",
       "      <td>nyt://article/3c529f2f-601e-5925-9ab1-cee65fac...</td>\n",
       "      <td>622</td>\n",
       "      <td>nyt://article/3c529f2f-601e-5925-9ab1-cee65fac...</td>\n",
       "    </tr>\n",
       "    <tr>\n",
       "      <th>5</th>\n",
       "      <td>Take-Two Interactive, the maker of Grand Theft...</td>\n",
       "      <td>https://www.nytimes.com/2009/04/02/technology/...</td>\n",
       "      <td>Take-Two Interactive Software, the maker of th...</td>\n",
       "      <td>[]</td>\n",
       "      <td>{'main': 'Video Game Maker to Pay $3 Million t...</td>\n",
       "      <td>[{'name': 'subject', 'value': 'Suits and Litig...</td>\n",
       "      <td>2009-04-02 00:09:01+00:00</td>\n",
       "      <td>article</td>\n",
       "      <td>Business</td>\n",
       "      <td>Technology</td>\n",
       "      <td>{'original': 'By Bloomberg News', 'person': [{...</td>\n",
       "      <td>News</td>\n",
       "      <td>nyt://article/46f52436-bc18-5e44-a971-463dae61...</td>\n",
       "      <td>329</td>\n",
       "      <td>nyt://article/46f52436-bc18-5e44-a971-463dae61...</td>\n",
       "    </tr>\n",
       "  </tbody>\n",
       "</table>\n",
       "</div>"
      ],
      "text/plain": [
       "                                            abstract  \\\n",
       "0  Point of view — prescriptive, descriptive and ...   \n",
       "2  Ten high-end design galleries will offer 30 to...   \n",
       "3  Bankers may be suffering but the decline in de...   \n",
       "4  Florida scaled back its purchase of sugar comp...   \n",
       "5  Take-Two Interactive, the maker of Grand Theft...   \n",
       "\n",
       "                                             web_url  \\\n",
       "0  https://www.nytimes.com/2009/04/02/garden/02bo...   \n",
       "2  https://www.nytimes.com/2009/04/02/garden/02de...   \n",
       "3  https://www.nytimes.com/2009/04/02/business/02...   \n",
       "4  https://www.nytimes.com/2009/04/02/us/02evergl...   \n",
       "5  https://www.nytimes.com/2009/04/02/technology/...   \n",
       "\n",
       "                                      lead_paragraph  \\\n",
       "0  Point of view  prescriptive, descriptive and ...   \n",
       "2  Ten high-end design galleries, including Antik...   \n",
       "3  Bankers may be suffering but Wall Street’s leg...   \n",
       "4  MIAMI — The Everglades have become yet another...   \n",
       "5  Take-Two Interactive Software, the maker of th...   \n",
       "\n",
       "                                          multimedia  \\\n",
       "0  [{'rank': 0, 'subtype': 'articleInline', 'capt...   \n",
       "2  [{'rank': 0, 'subtype': 'popup', 'caption': No...   \n",
       "3  [{'rank': 0, 'subtype': 'popup', 'caption': No...   \n",
       "4  [{'rank': 0, 'subtype': 'popup', 'caption': No...   \n",
       "5                                                 []   \n",
       "\n",
       "                                            headline  \\\n",
       "0  {'main': 'An Algebraic Approach to Style', 'ki...   \n",
       "2  {'main': 'Price Cuts and Gift-Card Rescues', '...   \n",
       "3  {'main': 'Lack of Mergers Idling Lawyers', 'ki...   \n",
       "4  {'main': 'Everglades Restoration Plan Shrinks'...   \n",
       "5  {'main': 'Video Game Maker to Pay $3 Million t...   \n",
       "\n",
       "                                            keywords  \\\n",
       "0  [{'name': 'subject', 'value': 'Books and Liter...   \n",
       "2  [{'name': 'subject', 'value': 'Furniture', 'ra...   \n",
       "3  [{'name': 'subject', 'value': 'Legal Professio...   \n",
       "4  [{'name': 'persons', 'value': 'Crist, Charlie'...   \n",
       "5  [{'name': 'subject', 'value': 'Suits and Litig...   \n",
       "\n",
       "                    pub_date document_type news_desk   section_name  \\\n",
       "0  2009-04-02 00:00:43+00:00       article      Home  Home & Garden   \n",
       "2  2009-04-02 00:06:09+00:00       article      Home  Home & Garden   \n",
       "3  2009-04-02 00:06:16+00:00       article  Business   Business Day   \n",
       "4  2009-04-02 00:07:04+00:00       article  National           U.S.   \n",
       "5  2009-04-02 00:09:01+00:00       article  Business     Technology   \n",
       "\n",
       "                                              byline type_of_material  \\\n",
       "0  {'original': 'By Penelope Green', 'person': [{...             News   \n",
       "2  {'original': 'By Marianne Rohrlich', 'person':...             News   \n",
       "3  {'original': 'By Lauren Silva Laughlin, Rob Co...             News   \n",
       "4  {'original': 'By Damien Cave', 'person': [{'fi...             News   \n",
       "5  {'original': 'By Bloomberg News', 'person': [{...             News   \n",
       "\n",
       "                                                 _id  word_count  \\\n",
       "0  nyt://article/b16284bd-135e-58f3-867a-268a1129...         252   \n",
       "2  nyt://article/41dbc26a-064f-52c3-a359-08709e7e...         219   \n",
       "3  nyt://article/b0d0ca7a-d02f-5235-8cdd-e5ed9532...         751   \n",
       "4  nyt://article/3c529f2f-601e-5925-9ab1-cee65fac...         622   \n",
       "5  nyt://article/46f52436-bc18-5e44-a971-463dae61...         329   \n",
       "\n",
       "                                                 uri  \n",
       "0  nyt://article/b16284bd-135e-58f3-867a-268a1129...  \n",
       "2  nyt://article/41dbc26a-064f-52c3-a359-08709e7e...  \n",
       "3  nyt://article/b0d0ca7a-d02f-5235-8cdd-e5ed9532...  \n",
       "4  nyt://article/3c529f2f-601e-5925-9ab1-cee65fac...  \n",
       "5  nyt://article/46f52436-bc18-5e44-a971-463dae61...  "
      ]
     },
     "execution_count": 18,
     "metadata": {},
     "output_type": "execute_result"
    }
   ],
   "source": [
    "df.head()"
   ]
  },
  {
   "cell_type": "code",
   "execution_count": 19,
   "id": "b79973a0",
   "metadata": {},
   "outputs": [],
   "source": [
    "df.to_csv('cleaned_dataset_se.csv', index=False)"
   ]
  },
  {
   "cell_type": "code",
   "execution_count": 20,
   "id": "247d6ad5",
   "metadata": {},
   "outputs": [],
   "source": [
    "df2 = pd.read_csv('cleaned_dataset_se.csv')"
   ]
  },
  {
   "cell_type": "code",
   "execution_count": 22,
   "id": "db7abd1a",
   "metadata": {},
   "outputs": [
    {
     "data": {
      "text/plain": [
       "(3367, 15)"
      ]
     },
     "execution_count": 22,
     "metadata": {},
     "output_type": "execute_result"
    }
   ],
   "source": [
    "df2.shape"
   ]
  },
  {
   "cell_type": "code",
   "execution_count": 23,
   "id": "a6c6080d",
   "metadata": {},
   "outputs": [
    {
     "data": {
      "text/plain": [
       "document_type\n",
       "article       3171\n",
       "multimedia     196\n",
       "Name: count, dtype: int64"
      ]
     },
     "execution_count": 23,
     "metadata": {},
     "output_type": "execute_result"
    }
   ],
   "source": [
    "df2[\"document_type\"].value_counts() "
   ]
  },
  {
   "cell_type": "code",
   "execution_count": 24,
   "id": "c7e3596e",
   "metadata": {},
   "outputs": [],
   "source": [
    "df2 = df2[df2[\"document_type\"] == 'article']"
   ]
  },
  {
   "cell_type": "code",
   "execution_count": 26,
   "id": "62ee4d00",
   "metadata": {},
   "outputs": [
    {
     "data": {
      "text/plain": [
       "(3171, 15)"
      ]
     },
     "execution_count": 26,
     "metadata": {},
     "output_type": "execute_result"
    }
   ],
   "source": [
    "df2.shape"
   ]
  },
  {
   "cell_type": "code",
   "execution_count": 27,
   "id": "1324a44d",
   "metadata": {},
   "outputs": [
    {
     "data": {
      "text/plain": [
       "type_of_material\n",
       "News               2279\n",
       "Op-Ed               148\n",
       "Letter              143\n",
       "Editorial           140\n",
       "Review              107\n",
       "Obituary (Obit)      82\n",
       "Brief                80\n",
       "List                 70\n",
       "Schedule             36\n",
       "News Analysis        30\n",
       "Correction           17\n",
       "Quote                13\n",
       "Question             10\n",
       "Text                  5\n",
       "Series                3\n",
       "Biography             3\n",
       "Interview             2\n",
       "recipe                2\n",
       "First Chapter         1\n",
       "Name: count, dtype: int64"
      ]
     },
     "execution_count": 27,
     "metadata": {},
     "output_type": "execute_result"
    }
   ],
   "source": [
    "df2[\"type_of_material\"].value_counts()"
   ]
  },
  {
   "cell_type": "code",
   "execution_count": 28,
   "id": "67da0647",
   "metadata": {},
   "outputs": [],
   "source": [
    "df2.to_csv('cleaned_dataset_fo.csv', index=False)"
   ]
  },
  {
   "cell_type": "code",
   "execution_count": 29,
   "id": "f3fdb945",
   "metadata": {},
   "outputs": [],
   "source": [
    "df3 = pd.read_csv('cleaned_dataset_th.csv')"
   ]
  },
  {
   "cell_type": "code",
   "execution_count": 30,
   "id": "c8b53bc2",
   "metadata": {},
   "outputs": [],
   "source": [
    "df4 = pd.read_csv('cleaned_dataset_fo.csv')"
   ]
  },
  {
   "cell_type": "code",
   "execution_count": 31,
   "id": "f6c9cdba",
   "metadata": {},
   "outputs": [
    {
     "data": {
      "text/plain": [
       "(3893, 15)"
      ]
     },
     "execution_count": 31,
     "metadata": {},
     "output_type": "execute_result"
    }
   ],
   "source": [
    "df3.shape"
   ]
  },
  {
   "cell_type": "code",
   "execution_count": 32,
   "id": "d5c1babe",
   "metadata": {},
   "outputs": [
    {
     "data": {
      "text/plain": [
       "(3171, 15)"
      ]
     },
     "execution_count": 32,
     "metadata": {},
     "output_type": "execute_result"
    }
   ],
   "source": [
    "df4.shape"
   ]
  },
  {
   "cell_type": "code",
   "execution_count": 33,
   "id": "d24cf168",
   "metadata": {},
   "outputs": [],
   "source": [
    "import pandas as pd\n",
    "import glob\n",
    "\n",
    "# Pattern to match the files. Adjust the pattern to match your files' naming convention\n",
    "file_pattern = 'cleaned_dataset_*.csv'\n",
    "csv_files = glob.glob(file_pattern)\n",
    "\n",
    "# List to hold DataFrames\n",
    "dfs = []\n",
    "\n",
    "# Iterate over the files and append to the list\n",
    "for file in csv_files:\n",
    "    df = pd.read_csv(file)\n",
    "    dfs.append(df)\n",
    "\n",
    "# Concatenate all DataFrames into one\n",
    "combined_df = pd.concat(dfs, ignore_index=True)\n",
    "\n",
    "# Save the combined DataFrame to a new CSV file\n",
    "combined_df.to_csv('combined_dataset.csv', index=False)"
   ]
  },
  {
   "cell_type": "code",
   "execution_count": 34,
   "id": "8ec70039",
   "metadata": {},
   "outputs": [],
   "source": [
    "df_com = pd.read_csv('combined_dataset.csv')"
   ]
  },
  {
   "cell_type": "code",
   "execution_count": 35,
   "id": "2b356961",
   "metadata": {},
   "outputs": [
    {
     "data": {
      "text/plain": [
       "(7064, 15)"
      ]
     },
     "execution_count": 35,
     "metadata": {},
     "output_type": "execute_result"
    }
   ],
   "source": [
    "df_com.shape"
   ]
  },
  {
   "cell_type": "code",
   "execution_count": 36,
   "id": "9e84a9c5",
   "metadata": {},
   "outputs": [
    {
     "data": {
      "text/plain": [
       "type_of_material\n",
       "News               5235\n",
       "Op-Ed               440\n",
       "Review              284\n",
       "Editorial           197\n",
       "Letter              174\n",
       "Obituary (Obit)     153\n",
       "briefing             91\n",
       "Quote                91\n",
       "Brief                85\n",
       "Correction           83\n",
       "List                 78\n",
       "Schedule             75\n",
       "News Analysis        45\n",
       "Question             16\n",
       "Text                  5\n",
       "Biography             3\n",
       "Series                3\n",
       "Interview             2\n",
       "recipe                2\n",
       "First Chapter         1\n",
       "Newsletter            1\n",
       "Name: count, dtype: int64"
      ]
     },
     "execution_count": 36,
     "metadata": {},
     "output_type": "execute_result"
    }
   ],
   "source": [
    "df_com[\"type_of_material\"].value_counts()"
   ]
  },
  {
   "cell_type": "code",
   "execution_count": null,
   "id": "b2bd6df6",
   "metadata": {},
   "outputs": [],
   "source": [
    "#news_rows = df_com[df_com[\"type_of_material\"] == \"News\"]\n",
    "#reduced_news_rows = news_rows.iloc[1500:]  # Skip the first 1500\n",
    "#other_rows = df_com[df_com[\"type_of_material\"] != \"News\"]\n",
    "#df_com_reduced = pd.concat([reduced_news_rows, other_rows])"
   ]
  },
  {
   "cell_type": "code",
   "execution_count": null,
   "id": "13c074bc",
   "metadata": {},
   "outputs": [],
   "source": []
  }
 ],
 "metadata": {
  "kernelspec": {
   "display_name": "Python (dojo-env)",
   "language": "python",
   "name": "dojo-env"
  },
  "language_info": {
   "codemirror_mode": {
    "name": "ipython",
    "version": 3
   },
   "file_extension": ".py",
   "mimetype": "text/x-python",
   "name": "python",
   "nbconvert_exporter": "python",
   "pygments_lexer": "ipython3",
   "version": "3.8.13"
  },
  "toc": {
   "base_numbering": 1,
   "nav_menu": {},
   "number_sections": false,
   "sideBar": true,
   "skip_h1_title": false,
   "title_cell": "Table of Contents",
   "title_sidebar": "Contents",
   "toc_cell": false,
   "toc_position": {},
   "toc_section_display": true,
   "toc_window_display": false
  }
 },
 "nbformat": 4,
 "nbformat_minor": 5
}
