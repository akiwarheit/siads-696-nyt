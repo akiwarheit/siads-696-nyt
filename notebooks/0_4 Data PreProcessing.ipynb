{
 "cells": [
  {
   "cell_type": "code",
   "execution_count": 28,
   "id": "e9c5015f",
   "metadata": {},
   "outputs": [],
   "source": [
    "# INPUT = \"../api/feb2024dataset/articles.csv\"\n",
    "# OUTPUT = \"../api/feb2024dataset/processed_articles.csv\"\n",
    "INPUT = \"../dataset/combined_dataset.csv\"\n",
    "OUTPUT = \"processced df.csv\""
   ]
  },
  {
   "cell_type": "code",
   "execution_count": 29,
   "id": "dffec98f",
   "metadata": {},
   "outputs": [],
   "source": [
    "import pandas as pd\n",
    "import numpy as np\n",
    "import ast"
   ]
  },
  {
   "cell_type": "code",
   "execution_count": 30,
   "id": "2ac92d0e",
   "metadata": {},
   "outputs": [],
   "source": [
    "df = pd.read_csv(INPUT)"
   ]
  },
  {
   "cell_type": "code",
   "execution_count": 31,
   "id": "810b9b3d",
   "metadata": {},
   "outputs": [
    {
     "data": {
      "text/html": [
       "<div>\n",
       "<style scoped>\n",
       "    .dataframe tbody tr th:only-of-type {\n",
       "        vertical-align: middle;\n",
       "    }\n",
       "\n",
       "    .dataframe tbody tr th {\n",
       "        vertical-align: top;\n",
       "    }\n",
       "\n",
       "    .dataframe thead th {\n",
       "        text-align: right;\n",
       "    }\n",
       "</style>\n",
       "<table border=\"1\" class=\"dataframe\">\n",
       "  <thead>\n",
       "    <tr style=\"text-align: right;\">\n",
       "      <th></th>\n",
       "      <th>abstract</th>\n",
       "      <th>web_url</th>\n",
       "      <th>snippet</th>\n",
       "      <th>lead_paragraph</th>\n",
       "      <th>source</th>\n",
       "      <th>multimedia</th>\n",
       "      <th>headline</th>\n",
       "      <th>keywords</th>\n",
       "      <th>pub_date</th>\n",
       "      <th>document_type</th>\n",
       "      <th>...</th>\n",
       "      <th>section_name</th>\n",
       "      <th>byline</th>\n",
       "      <th>type_of_material</th>\n",
       "      <th>_id</th>\n",
       "      <th>word_count</th>\n",
       "      <th>uri</th>\n",
       "      <th>print_section</th>\n",
       "      <th>print_page</th>\n",
       "      <th>subsection_name</th>\n",
       "      <th>slideshow_credits</th>\n",
       "    </tr>\n",
       "  </thead>\n",
       "  <tbody>\n",
       "    <tr>\n",
       "      <th>0</th>\n",
       "      <td>This word has appeared in 993 articles on NYTi...</td>\n",
       "      <td>https://www.nytimes.com/2024/02/26/learning/wo...</td>\n",
       "      <td>This word has appeared in 993 articles on NYTi...</td>\n",
       "      <td>The word reluctant has appeared in 993 article...</td>\n",
       "      <td>The New York Times</td>\n",
       "      <td>[{'rank': 0, 'subtype': 'xlarge', 'caption': N...</td>\n",
       "      <td>{'main': 'Word of the Day: reluctant', 'kicker...</td>\n",
       "      <td>[]</td>\n",
       "      <td>2024-02-26 07:00:02+00:00</td>\n",
       "      <td>article</td>\n",
       "      <td>...</td>\n",
       "      <td>The Learning Network</td>\n",
       "      <td>{'original': 'By The Learning Network', 'perso...</td>\n",
       "      <td>News</td>\n",
       "      <td>nyt://article/94ea87e4-8534-5180-8b5a-85a09dae...</td>\n",
       "      <td>339</td>\n",
       "      <td>nyt://article/94ea87e4-8534-5180-8b5a-85a09dae...</td>\n",
       "      <td>NaN</td>\n",
       "      <td>NaN</td>\n",
       "      <td>NaN</td>\n",
       "      <td>NaN</td>\n",
       "    </tr>\n",
       "  </tbody>\n",
       "</table>\n",
       "<p>1 rows × 21 columns</p>\n",
       "</div>"
      ],
      "text/plain": [
       "                                            abstract  \\\n",
       "0  This word has appeared in 993 articles on NYTi...   \n",
       "\n",
       "                                             web_url  \\\n",
       "0  https://www.nytimes.com/2024/02/26/learning/wo...   \n",
       "\n",
       "                                             snippet  \\\n",
       "0  This word has appeared in 993 articles on NYTi...   \n",
       "\n",
       "                                      lead_paragraph              source  \\\n",
       "0  The word reluctant has appeared in 993 article...  The New York Times   \n",
       "\n",
       "                                          multimedia  \\\n",
       "0  [{'rank': 0, 'subtype': 'xlarge', 'caption': N...   \n",
       "\n",
       "                                            headline keywords  \\\n",
       "0  {'main': 'Word of the Day: reluctant', 'kicker...       []   \n",
       "\n",
       "                    pub_date document_type  ...          section_name  \\\n",
       "0  2024-02-26 07:00:02+00:00       article  ...  The Learning Network   \n",
       "\n",
       "                                              byline type_of_material  \\\n",
       "0  {'original': 'By The Learning Network', 'perso...             News   \n",
       "\n",
       "                                                 _id word_count  \\\n",
       "0  nyt://article/94ea87e4-8534-5180-8b5a-85a09dae...        339   \n",
       "\n",
       "                                                 uri print_section print_page  \\\n",
       "0  nyt://article/94ea87e4-8534-5180-8b5a-85a09dae...           NaN        NaN   \n",
       "\n",
       "   subsection_name slideshow_credits  \n",
       "0              NaN               NaN  \n",
       "\n",
       "[1 rows x 21 columns]"
      ]
     },
     "execution_count": 31,
     "metadata": {},
     "output_type": "execute_result"
    }
   ],
   "source": [
    "df.head(1)"
   ]
  },
  {
   "cell_type": "code",
   "execution_count": 32,
   "id": "c9ee702f",
   "metadata": {},
   "outputs": [
    {
     "data": {
      "text/plain": [
       "Index(['abstract', 'web_url', 'snippet', 'lead_paragraph', 'source',\n",
       "       'multimedia', 'headline', 'keywords', 'pub_date', 'document_type',\n",
       "       'news_desk', 'section_name', 'byline', 'type_of_material', '_id',\n",
       "       'word_count', 'uri', 'print_section', 'print_page', 'subsection_name',\n",
       "       'slideshow_credits'],\n",
       "      dtype='object')"
      ]
     },
     "execution_count": 32,
     "metadata": {},
     "output_type": "execute_result"
    }
   ],
   "source": [
    "df.columns"
   ]
  },
  {
   "cell_type": "code",
   "execution_count": 33,
   "id": "d02e9435",
   "metadata": {},
   "outputs": [],
   "source": [
    "col_ke = ['abstract', 'lead_paragraph', 'headline', 'keywords', 'type_of_material', 'news_desk', 'section_name', 'byline']\n",
    "\n",
    "df= df[col_ke]"
   ]
  },
  {
   "cell_type": "code",
   "execution_count": 34,
   "id": "47941bd1",
   "metadata": {},
   "outputs": [
    {
     "data": {
      "text/html": [
       "<div>\n",
       "<style scoped>\n",
       "    .dataframe tbody tr th:only-of-type {\n",
       "        vertical-align: middle;\n",
       "    }\n",
       "\n",
       "    .dataframe tbody tr th {\n",
       "        vertical-align: top;\n",
       "    }\n",
       "\n",
       "    .dataframe thead th {\n",
       "        text-align: right;\n",
       "    }\n",
       "</style>\n",
       "<table border=\"1\" class=\"dataframe\">\n",
       "  <thead>\n",
       "    <tr style=\"text-align: right;\">\n",
       "      <th></th>\n",
       "      <th>abstract</th>\n",
       "      <th>lead_paragraph</th>\n",
       "      <th>headline</th>\n",
       "      <th>keywords</th>\n",
       "      <th>type_of_material</th>\n",
       "      <th>news_desk</th>\n",
       "      <th>section_name</th>\n",
       "      <th>byline</th>\n",
       "    </tr>\n",
       "  </thead>\n",
       "  <tbody>\n",
       "    <tr>\n",
       "      <th>0</th>\n",
       "      <td>This word has appeared in 993 articles on NYTi...</td>\n",
       "      <td>The word reluctant has appeared in 993 article...</td>\n",
       "      <td>{'main': 'Word of the Day: reluctant', 'kicker...</td>\n",
       "      <td>[]</td>\n",
       "      <td>News</td>\n",
       "      <td>Learning</td>\n",
       "      <td>The Learning Network</td>\n",
       "      <td>{'original': 'By The Learning Network', 'perso...</td>\n",
       "    </tr>\n",
       "    <tr>\n",
       "      <th>1</th>\n",
       "      <td>With the victory, the Christopher Nolan biopic...</td>\n",
       "      <td>There’s simply no stopping “Oppenheimer.”</td>\n",
       "      <td>{'main': '‘Oppenheimer’ Wins Producers Guild A...</td>\n",
       "      <td>[{'name': 'subject', 'value': 'Academy Awards ...</td>\n",
       "      <td>News</td>\n",
       "      <td>Culture</td>\n",
       "      <td>Movies</td>\n",
       "      <td>{'original': 'By Kyle Buchanan', 'person': [{'...</td>\n",
       "    </tr>\n",
       "    <tr>\n",
       "      <th>2</th>\n",
       "      <td>Quotation of the Day for Monday, February 26, ...</td>\n",
       "      <td>“We understand that Florida is weird. We embra...</td>\n",
       "      <td>{'main': 'Quotation of the Day: Florida Man Is...</td>\n",
       "      <td>[]</td>\n",
       "      <td>Quote</td>\n",
       "      <td>Summary</td>\n",
       "      <td>Corrections</td>\n",
       "      <td>{'original': None, 'person': [], 'organization...</td>\n",
       "    </tr>\n",
       "    <tr>\n",
       "      <th>3</th>\n",
       "      <td>No corrections appeared in print on Monday, Fe...</td>\n",
       "      <td>Errors are corrected during the press run when...</td>\n",
       "      <td>{'main': 'No Corrections: Feb. 26, 2024', 'kic...</td>\n",
       "      <td>[]</td>\n",
       "      <td>News</td>\n",
       "      <td>Corrections</td>\n",
       "      <td>Corrections</td>\n",
       "      <td>{'original': None, 'person': [], 'organization...</td>\n",
       "    </tr>\n",
       "    <tr>\n",
       "      <th>4</th>\n",
       "      <td>FX premieres a new show set in Japan in the 16...</td>\n",
       "      <td>For those like myself who still haven’t cut th...</td>\n",
       "      <td>{'main': 'What’s on TV This Week: ‘Shogun’ and...</td>\n",
       "      <td>[{'name': 'subject', 'value': 'Television', 'r...</td>\n",
       "      <td>News</td>\n",
       "      <td>Culture</td>\n",
       "      <td>Arts</td>\n",
       "      <td>{'original': 'By Shivani Gonzalez', 'person': ...</td>\n",
       "    </tr>\n",
       "  </tbody>\n",
       "</table>\n",
       "</div>"
      ],
      "text/plain": [
       "                                            abstract  \\\n",
       "0  This word has appeared in 993 articles on NYTi...   \n",
       "1  With the victory, the Christopher Nolan biopic...   \n",
       "2  Quotation of the Day for Monday, February 26, ...   \n",
       "3  No corrections appeared in print on Monday, Fe...   \n",
       "4  FX premieres a new show set in Japan in the 16...   \n",
       "\n",
       "                                      lead_paragraph  \\\n",
       "0  The word reluctant has appeared in 993 article...   \n",
       "1          There’s simply no stopping “Oppenheimer.”   \n",
       "2  “We understand that Florida is weird. We embra...   \n",
       "3  Errors are corrected during the press run when...   \n",
       "4  For those like myself who still haven’t cut th...   \n",
       "\n",
       "                                            headline  \\\n",
       "0  {'main': 'Word of the Day: reluctant', 'kicker...   \n",
       "1  {'main': '‘Oppenheimer’ Wins Producers Guild A...   \n",
       "2  {'main': 'Quotation of the Day: Florida Man Is...   \n",
       "3  {'main': 'No Corrections: Feb. 26, 2024', 'kic...   \n",
       "4  {'main': 'What’s on TV This Week: ‘Shogun’ and...   \n",
       "\n",
       "                                            keywords type_of_material  \\\n",
       "0                                                 []             News   \n",
       "1  [{'name': 'subject', 'value': 'Academy Awards ...             News   \n",
       "2                                                 []            Quote   \n",
       "3                                                 []             News   \n",
       "4  [{'name': 'subject', 'value': 'Television', 'r...             News   \n",
       "\n",
       "     news_desk          section_name  \\\n",
       "0     Learning  The Learning Network   \n",
       "1      Culture                Movies   \n",
       "2      Summary           Corrections   \n",
       "3  Corrections           Corrections   \n",
       "4      Culture                  Arts   \n",
       "\n",
       "                                              byline  \n",
       "0  {'original': 'By The Learning Network', 'perso...  \n",
       "1  {'original': 'By Kyle Buchanan', 'person': [{'...  \n",
       "2  {'original': None, 'person': [], 'organization...  \n",
       "3  {'original': None, 'person': [], 'organization...  \n",
       "4  {'original': 'By Shivani Gonzalez', 'person': ...  "
      ]
     },
     "execution_count": 34,
     "metadata": {},
     "output_type": "execute_result"
    }
   ],
   "source": [
    "df.head()"
   ]
  },
  {
   "cell_type": "code",
   "execution_count": 35,
   "id": "9cac3ebd",
   "metadata": {},
   "outputs": [
    {
     "name": "stdout",
     "output_type": "stream",
     "text": [
      "{'main': '‘Oppenheimer’ Wins Producers Guild Award. Is the Best-Picture Oscar Next?', 'kicker': 'The Projectionist', 'content_kicker': None, 'print_headline': None, 'name': None, 'seo': None, 'sub': None}\n"
     ]
    }
   ],
   "source": [
    "print(df.loc[1, 'headline'])"
   ]
  },
  {
   "cell_type": "code",
   "execution_count": 36,
   "id": "96d5324a",
   "metadata": {},
   "outputs": [
    {
     "name": "stdout",
     "output_type": "stream",
     "text": [
      "[{'name': 'subject', 'value': 'Academy Awards (Oscars)', 'rank': 1, 'major': 'N'}, {'name': 'subject', 'value': 'Movies', 'rank': 2, 'major': 'N'}, {'name': 'organizations', 'value': 'Producers Guild of America', 'rank': 3, 'major': 'N'}, {'name': 'persons', 'value': 'Nolan, Christopher', 'rank': 4, 'major': 'N'}, {'name': 'creative_works', 'value': 'Oppenheimer (Movie)', 'rank': 5, 'major': 'N'}]\n"
     ]
    }
   ],
   "source": [
    "print(df.loc[1, 'keywords'])"
   ]
  },
  {
   "cell_type": "markdown",
   "id": "11c97b65",
   "metadata": {},
   "source": [
    "### Extract value info from \"headline\" and \"keywords\""
   ]
  },
  {
   "cell_type": "code",
   "execution_count": 37,
   "id": "8d3366d3",
   "metadata": {},
   "outputs": [],
   "source": [
    "#extract value texts from \"headline\" and \"keywords\"\n",
    "def string_to_dict(string):\n",
    "    try:\n",
    "        return ast.literal_eval(string)\n",
    "    except ValueError:\n",
    "        return {}\n",
    "    \n",
    "def string_to_list_of_dicts(string):\n",
    "    try:\n",
    "        return ast.literal_eval(string)\n",
    "    except ValueError:\n",
    "        return []\n",
    "#for the 'headline', extract the value associated with the 'main' key.\n",
    "df['headline_text'] = df['headline'].apply(lambda x: string_to_dict(x).get('main', ''))\n",
    "\n",
    "#for the \"keywords\", extract the \"value\" key\n",
    "df['keywords_text'] = df['keywords'].apply(lambda x: ' '.join([kw.get('value', '') for kw in string_to_list_of_dicts(x)]))"
   ]
  },
  {
   "cell_type": "code",
   "execution_count": 38,
   "id": "a42d19ff",
   "metadata": {},
   "outputs": [
    {
     "data": {
      "text/html": [
       "<div>\n",
       "<style scoped>\n",
       "    .dataframe tbody tr th:only-of-type {\n",
       "        vertical-align: middle;\n",
       "    }\n",
       "\n",
       "    .dataframe tbody tr th {\n",
       "        vertical-align: top;\n",
       "    }\n",
       "\n",
       "    .dataframe thead th {\n",
       "        text-align: right;\n",
       "    }\n",
       "</style>\n",
       "<table border=\"1\" class=\"dataframe\">\n",
       "  <thead>\n",
       "    <tr style=\"text-align: right;\">\n",
       "      <th></th>\n",
       "      <th>abstract</th>\n",
       "      <th>lead_paragraph</th>\n",
       "      <th>type_of_material</th>\n",
       "      <th>news_desk</th>\n",
       "      <th>section_name</th>\n",
       "      <th>byline</th>\n",
       "      <th>headline_text</th>\n",
       "      <th>keywords_text</th>\n",
       "    </tr>\n",
       "  </thead>\n",
       "  <tbody>\n",
       "    <tr>\n",
       "      <th>0</th>\n",
       "      <td>This word has appeared in 993 articles on NYTi...</td>\n",
       "      <td>The word reluctant has appeared in 993 article...</td>\n",
       "      <td>News</td>\n",
       "      <td>Learning</td>\n",
       "      <td>The Learning Network</td>\n",
       "      <td>{'original': 'By The Learning Network', 'perso...</td>\n",
       "      <td>Word of the Day: reluctant</td>\n",
       "      <td></td>\n",
       "    </tr>\n",
       "    <tr>\n",
       "      <th>1</th>\n",
       "      <td>With the victory, the Christopher Nolan biopic...</td>\n",
       "      <td>There’s simply no stopping “Oppenheimer.”</td>\n",
       "      <td>News</td>\n",
       "      <td>Culture</td>\n",
       "      <td>Movies</td>\n",
       "      <td>{'original': 'By Kyle Buchanan', 'person': [{'...</td>\n",
       "      <td>‘Oppenheimer’ Wins Producers Guild Award. Is t...</td>\n",
       "      <td>Academy Awards (Oscars) Movies Producers Guild...</td>\n",
       "    </tr>\n",
       "    <tr>\n",
       "      <th>2</th>\n",
       "      <td>Quotation of the Day for Monday, February 26, ...</td>\n",
       "      <td>“We understand that Florida is weird. We embra...</td>\n",
       "      <td>Quote</td>\n",
       "      <td>Summary</td>\n",
       "      <td>Corrections</td>\n",
       "      <td>{'original': None, 'person': [], 'organization...</td>\n",
       "      <td>Quotation of the Day: Florida Man Is In on the...</td>\n",
       "      <td></td>\n",
       "    </tr>\n",
       "    <tr>\n",
       "      <th>3</th>\n",
       "      <td>No corrections appeared in print on Monday, Fe...</td>\n",
       "      <td>Errors are corrected during the press run when...</td>\n",
       "      <td>News</td>\n",
       "      <td>Corrections</td>\n",
       "      <td>Corrections</td>\n",
       "      <td>{'original': None, 'person': [], 'organization...</td>\n",
       "      <td>No Corrections: Feb. 26, 2024</td>\n",
       "      <td></td>\n",
       "    </tr>\n",
       "    <tr>\n",
       "      <th>4</th>\n",
       "      <td>FX premieres a new show set in Japan in the 16...</td>\n",
       "      <td>For those like myself who still haven’t cut th...</td>\n",
       "      <td>News</td>\n",
       "      <td>Culture</td>\n",
       "      <td>Arts</td>\n",
       "      <td>{'original': 'By Shivani Gonzalez', 'person': ...</td>\n",
       "      <td>What’s on TV This Week: ‘Shogun’ and ‘The Regime’</td>\n",
       "      <td>Television Movies</td>\n",
       "    </tr>\n",
       "  </tbody>\n",
       "</table>\n",
       "</div>"
      ],
      "text/plain": [
       "                                            abstract  \\\n",
       "0  This word has appeared in 993 articles on NYTi...   \n",
       "1  With the victory, the Christopher Nolan biopic...   \n",
       "2  Quotation of the Day for Monday, February 26, ...   \n",
       "3  No corrections appeared in print on Monday, Fe...   \n",
       "4  FX premieres a new show set in Japan in the 16...   \n",
       "\n",
       "                                      lead_paragraph type_of_material  \\\n",
       "0  The word reluctant has appeared in 993 article...             News   \n",
       "1          There’s simply no stopping “Oppenheimer.”             News   \n",
       "2  “We understand that Florida is weird. We embra...            Quote   \n",
       "3  Errors are corrected during the press run when...             News   \n",
       "4  For those like myself who still haven’t cut th...             News   \n",
       "\n",
       "     news_desk          section_name  \\\n",
       "0     Learning  The Learning Network   \n",
       "1      Culture                Movies   \n",
       "2      Summary           Corrections   \n",
       "3  Corrections           Corrections   \n",
       "4      Culture                  Arts   \n",
       "\n",
       "                                              byline  \\\n",
       "0  {'original': 'By The Learning Network', 'perso...   \n",
       "1  {'original': 'By Kyle Buchanan', 'person': [{'...   \n",
       "2  {'original': None, 'person': [], 'organization...   \n",
       "3  {'original': None, 'person': [], 'organization...   \n",
       "4  {'original': 'By Shivani Gonzalez', 'person': ...   \n",
       "\n",
       "                                       headline_text  \\\n",
       "0                         Word of the Day: reluctant   \n",
       "1  ‘Oppenheimer’ Wins Producers Guild Award. Is t...   \n",
       "2  Quotation of the Day: Florida Man Is In on the...   \n",
       "3                      No Corrections: Feb. 26, 2024   \n",
       "4  What’s on TV This Week: ‘Shogun’ and ‘The Regime’   \n",
       "\n",
       "                                       keywords_text  \n",
       "0                                                     \n",
       "1  Academy Awards (Oscars) Movies Producers Guild...  \n",
       "2                                                     \n",
       "3                                                     \n",
       "4                                  Television Movies  "
      ]
     },
     "execution_count": 38,
     "metadata": {},
     "output_type": "execute_result"
    }
   ],
   "source": [
    "df = df.drop([\"headline\", \"keywords\"], axis = 1)\n",
    "df.head()"
   ]
  },
  {
   "cell_type": "markdown",
   "id": "526fd981",
   "metadata": {},
   "source": [
    "### Concatenation of Text Features"
   ]
  },
  {
   "cell_type": "code",
   "execution_count": 39,
   "id": "a94a367f",
   "metadata": {},
   "outputs": [],
   "source": [
    "df['combined_text'] = df['abstract'].astype(str) + ' ' + df['lead_paragraph'].astype(str) + ' ' + df['headline_text'].astype(str) + ' ' + df['keywords_text'].astype(str)"
   ]
  },
  {
   "cell_type": "code",
   "execution_count": 40,
   "id": "f5bda573",
   "metadata": {},
   "outputs": [],
   "source": [
    "df = df.drop(['abstract', 'lead_paragraph', 'headline_text', 'keywords_text'], axis=1)"
   ]
  },
  {
   "cell_type": "code",
   "execution_count": 41,
   "id": "d903f524",
   "metadata": {},
   "outputs": [
    {
     "data": {
      "text/html": [
       "<div>\n",
       "<style scoped>\n",
       "    .dataframe tbody tr th:only-of-type {\n",
       "        vertical-align: middle;\n",
       "    }\n",
       "\n",
       "    .dataframe tbody tr th {\n",
       "        vertical-align: top;\n",
       "    }\n",
       "\n",
       "    .dataframe thead th {\n",
       "        text-align: right;\n",
       "    }\n",
       "</style>\n",
       "<table border=\"1\" class=\"dataframe\">\n",
       "  <thead>\n",
       "    <tr style=\"text-align: right;\">\n",
       "      <th></th>\n",
       "      <th>type_of_material</th>\n",
       "      <th>news_desk</th>\n",
       "      <th>section_name</th>\n",
       "      <th>byline</th>\n",
       "      <th>combined_text</th>\n",
       "    </tr>\n",
       "  </thead>\n",
       "  <tbody>\n",
       "    <tr>\n",
       "      <th>995</th>\n",
       "      <td>News</td>\n",
       "      <td>Politics</td>\n",
       "      <td>U.S.</td>\n",
       "      <td>{'original': 'By Neil Vigdor', 'person': [{'fi...</td>\n",
       "      <td>Republicans in the battleground state are brac...</td>\n",
       "    </tr>\n",
       "    <tr>\n",
       "      <th>996</th>\n",
       "      <td>News</td>\n",
       "      <td>Foreign</td>\n",
       "      <td>World</td>\n",
       "      <td>{'original': 'By Constant Méheut', 'person': [...</td>\n",
       "      <td>Russia’s capture of a city that had been a str...</td>\n",
       "    </tr>\n",
       "    <tr>\n",
       "      <th>997</th>\n",
       "      <td>News</td>\n",
       "      <td>National</td>\n",
       "      <td>U.S.</td>\n",
       "      <td>{'original': 'By Danny Hakim, Richard Fausset ...</td>\n",
       "      <td>Regardless of whether Fani T. Willis is disqua...</td>\n",
       "    </tr>\n",
       "    <tr>\n",
       "      <th>998</th>\n",
       "      <td>News</td>\n",
       "      <td>Foreign</td>\n",
       "      <td>World</td>\n",
       "      <td>{'original': 'By Peter Baker, David E. Sanger ...</td>\n",
       "      <td>President Volodymyr Zelensky pushed back again...</td>\n",
       "    </tr>\n",
       "    <tr>\n",
       "      <th>999</th>\n",
       "      <td>News</td>\n",
       "      <td>Climate</td>\n",
       "      <td>Climate</td>\n",
       "      <td>{'original': 'By Dionne Searcey', 'person': [{...</td>\n",
       "      <td>Legislators there and in several other states ...</td>\n",
       "    </tr>\n",
       "  </tbody>\n",
       "</table>\n",
       "</div>"
      ],
      "text/plain": [
       "    type_of_material news_desk section_name  \\\n",
       "995             News  Politics         U.S.   \n",
       "996             News   Foreign        World   \n",
       "997             News  National         U.S.   \n",
       "998             News   Foreign        World   \n",
       "999             News   Climate      Climate   \n",
       "\n",
       "                                                byline  \\\n",
       "995  {'original': 'By Neil Vigdor', 'person': [{'fi...   \n",
       "996  {'original': 'By Constant Méheut', 'person': [...   \n",
       "997  {'original': 'By Danny Hakim, Richard Fausset ...   \n",
       "998  {'original': 'By Peter Baker, David E. Sanger ...   \n",
       "999  {'original': 'By Dionne Searcey', 'person': [{...   \n",
       "\n",
       "                                         combined_text  \n",
       "995  Republicans in the battleground state are brac...  \n",
       "996  Russia’s capture of a city that had been a str...  \n",
       "997  Regardless of whether Fani T. Willis is disqua...  \n",
       "998  President Volodymyr Zelensky pushed back again...  \n",
       "999  Legislators there and in several other states ...  "
      ]
     },
     "execution_count": 41,
     "metadata": {},
     "output_type": "execute_result"
    }
   ],
   "source": [
    "df.tail()"
   ]
  },
  {
   "cell_type": "code",
   "execution_count": 42,
   "id": "69e5d3f0",
   "metadata": {},
   "outputs": [
    {
     "name": "stdout",
     "output_type": "stream",
     "text": [
      "With the victory, the Christopher Nolan biopic has swept the guild prizes, a strong predictor of its chances at the Academy Awards. There’s simply no stopping “Oppenheimer.” ‘Oppenheimer’ Wins Producers Guild Award. Is the Best-Picture Oscar Next? Academy Awards (Oscars) Movies Producers Guild of America Nolan, Christopher Oppenheimer (Movie)\n"
     ]
    }
   ],
   "source": [
    "print(df.loc[1, 'combined_text'])"
   ]
  },
  {
   "cell_type": "code",
   "execution_count": 43,
   "id": "d5905366",
   "metadata": {},
   "outputs": [
    {
     "data": {
      "text/plain": [
       "news_desk\n",
       "Foreign                     117\n",
       "Culture                      65\n",
       "Politics                     61\n",
       "Business                     56\n",
       "OpEd                         55\n",
       "Washington                   46\n",
       "Express                      43\n",
       "Styles                       42\n",
       "Metro                        36\n",
       "Games                        35\n",
       "National                     32\n",
       "BookReview                   29\n",
       "Science                      27\n",
       "NYTNow                       24\n",
       "Weekend                      23\n",
       "Obits                        23\n",
       "Arts&Leisure                 19\n",
       "Podcasts                     18\n",
       "Dining                       18\n",
       "Learning                     14\n",
       "Magazine                     13\n",
       "RealEstate                   12\n",
       "Climate                      10\n",
       "Metropolitan                 10\n",
       "Travel                        9\n",
       "Corrections                   9\n",
       "Summary                       9\n",
       "Well                          9\n",
       "TStyle                        7\n",
       "Books                         7\n",
       "Letters                       7\n",
       "U.S.                          5\n",
       "SundayBusiness                4\n",
       "Insider                       4\n",
       "Graphics                      3\n",
       "Real Estate                   3\n",
       "SpecialSections               2\n",
       "Upshot                        2\n",
       "Business Day                  2\n",
       "Arts                          2\n",
       "Investigative                 2\n",
       "Opinion                       1\n",
       "The Learning Network          1\n",
       "Crosswords & Games            1\n",
       "Briefing                      1\n",
       "Smarter Living                1\n",
       "The Upshot                    1\n",
       "World                         1\n",
       "Projects and Initiatives      1\n",
       "Name: count, dtype: int64"
      ]
     },
     "execution_count": 43,
     "metadata": {},
     "output_type": "execute_result"
    }
   ],
   "source": [
    "df[\"news_desk\"].value_counts()"
   ]
  },
  {
   "cell_type": "code",
   "execution_count": 44,
   "id": "7faab6b5",
   "metadata": {},
   "outputs": [
    {
     "data": {
      "text/plain": [
       "array(['Learning', 'Culture', 'Summary', 'Corrections', 'OpEd', 'NYTNow',\n",
       "       'Foreign', 'Politics', 'U.S.', 'Express', 'Washington', 'Games',\n",
       "       'National', 'Styles', 'Science', nan, 'Dining', 'Letters',\n",
       "       'Upshot', 'Business', 'Podcasts', 'Magazine', 'Arts&Leisure',\n",
       "       'BookReview', 'SundayBusiness', 'Books', 'Metro', 'Metropolitan',\n",
       "       'Obits', 'Graphics', 'Climate', 'Well', 'RealEstate', 'World',\n",
       "       'TStyle', 'The Upshot', 'Travel', 'Business Day', 'Smarter Living',\n",
       "       'Arts', 'Briefing', 'Real Estate', 'Insider', 'Investigative',\n",
       "       'Weekend', 'SpecialSections', 'Crosswords & Games',\n",
       "       'The Learning Network', 'Opinion', 'Projects and Initiatives'],\n",
       "      dtype=object)"
      ]
     },
     "execution_count": 44,
     "metadata": {},
     "output_type": "execute_result"
    }
   ],
   "source": [
    "df[\"news_desk\"].unique()"
   ]
  },
  {
   "cell_type": "code",
   "execution_count": 45,
   "id": "1962b65f",
   "metadata": {},
   "outputs": [
    {
     "data": {
      "text/plain": [
       "array(['The Learning Network', 'Movies', 'Corrections', 'Arts', 'Opinion',\n",
       "       'Briefing', 'World', 'U.S.', 'Theater', 'Crosswords & Games',\n",
       "       'Business Day', 'Style', 'Health', 'Food', 'The Upshot',\n",
       "       'Podcasts', 'Magazine', 'Today’s Paper', 'Science', 'Technology',\n",
       "       'Books', 'New York', 'Sports', 'Climate', 'Well',\n",
       "       'Fashion & Style', 'Real Estate', 'T Magazine', 'Travel',\n",
       "       'Smarter Living', 'Your Money', 'Times Insider', nan, 'T Brand',\n",
       "       'Headway', 'Obituaries'], dtype=object)"
      ]
     },
     "execution_count": 45,
     "metadata": {},
     "output_type": "execute_result"
    }
   ],
   "source": [
    "df[\"section_name\"].unique()"
   ]
  },
  {
   "cell_type": "code",
   "execution_count": 46,
   "id": "fc75eb62",
   "metadata": {},
   "outputs": [
    {
     "data": {
      "text/plain": [
       "section_name\n",
       "U.S.                    180\n",
       "World                   154\n",
       "Arts                     69\n",
       "Opinion                  64\n",
       "Business Day             62\n",
       "New York                 46\n",
       "Style                    45\n",
       "Movies                   37\n",
       "Books                    37\n",
       "Crosswords & Games       35\n",
       "Briefing                 20\n",
       "Podcasts                 19\n",
       "Corrections              18\n",
       "Food                     18\n",
       "Theater                  16\n",
       "Real Estate              15\n",
       "The Learning Network     15\n",
       "Magazine                 14\n",
       "Science                  14\n",
       "Health                   14\n",
       "Technology               12\n",
       "Climate                   9\n",
       "Well                      9\n",
       "Travel                    9\n",
       "T Magazine                8\n",
       "T Brand                   6\n",
       "Times Insider             4\n",
       "The Upshot                3\n",
       "Sports                    3\n",
       "Fashion & Style           2\n",
       "Headway                   2\n",
       "Today’s Paper             1\n",
       "Your Money                1\n",
       "Smarter Living            1\n",
       "Obituaries                1\n",
       "Name: count, dtype: int64"
      ]
     },
     "execution_count": 46,
     "metadata": {},
     "output_type": "execute_result"
    }
   ],
   "source": [
    "df[\"section_name\"].value_counts()"
   ]
  },
  {
   "cell_type": "markdown",
   "id": "2109f2bb",
   "metadata": {},
   "source": [
    "### Consolidate Rare Categories in \"news_desk"
   ]
  },
  {
   "cell_type": "code",
   "execution_count": 47,
   "id": "df63d1b9",
   "metadata": {},
   "outputs": [],
   "source": [
    "\n",
    "#Consolidate Rare Categories in \"news_desk\"\n",
    "\n",
    "df['news_desk'] = df['news_desk'].replace({\n",
    "    'Sports / Soccer': 'Sports',\n",
    "    'Business / Energy & Environment': 'Business',\n",
    "    'NODESK': 'Unknown',\n",
    "    '0': 'Unknown',\n",
    "    'Styles': 'Style & Fashion',\n",
    "    'Fashion & Style': 'Style & Fashion',\n",
    "    'TStyle': 'Style & Fashion',\n",
    "    'Arts&Leisure': 'Arts & Culture',\n",
    "    'Culture': 'Arts & Culture',\n",
    "    'TCulture': 'Arts & Culture',\n",
    "    'Editorial': 'Opinion & Editorial',\n",
    "    'OpEd': 'Opinion & Editorial',\n",
    "    'Opinion': 'Opinion & Editorial',\n",
    "    'Dining': 'Lifestyle & Leisure',\n",
    "    'Travel': 'Lifestyle & Leisure',\n",
    "    'Well': 'Lifestyle & Leisure',\n",
    "    'Home': 'Lifestyle & Leisure'\n",
    "})\n",
    "\n",
    "# Handling infrequent categories\n",
    "infrequent_desks = df['news_desk'].value_counts()[df['news_desk'].value_counts() < 5].index\n",
    "df['news_desk'] = df['news_desk'].replace(infrequent_desks, 'Other')\n"
   ]
  },
  {
   "cell_type": "code",
   "execution_count": 48,
   "id": "7b0107a4",
   "metadata": {},
   "outputs": [
    {
     "data": {
      "text/plain": [
       "news_desk\n",
       "Foreign                117\n",
       "Arts & Culture          84\n",
       "Politics                61\n",
       "Business                56\n",
       "Opinion & Editorial     56\n",
       "Style & Fashion         49\n",
       "Washington              46\n",
       "Express                 43\n",
       "Lifestyle & Leisure     36\n",
       "Metro                   36\n",
       "Games                   35\n",
       "National                32\n",
       "Other                   31\n",
       "BookReview              29\n",
       "Science                 27\n",
       "NYTNow                  24\n",
       "Obits                   23\n",
       "Weekend                 23\n",
       "Podcasts                18\n",
       "Learning                14\n",
       "Magazine                13\n",
       "RealEstate              12\n",
       "Metropolitan            10\n",
       "Climate                 10\n",
       "Corrections              9\n",
       "Summary                  9\n",
       "Letters                  7\n",
       "Books                    7\n",
       "U.S.                     5\n",
       "Name: count, dtype: int64"
      ]
     },
     "execution_count": 48,
     "metadata": {},
     "output_type": "execute_result"
    }
   ],
   "source": [
    "df[\"news_desk\"].value_counts()"
   ]
  },
  {
   "cell_type": "code",
   "execution_count": 49,
   "id": "4811347d",
   "metadata": {},
   "outputs": [
    {
     "name": "stdout",
     "output_type": "stream",
     "text": [
      "{'original': 'By Kyle Buchanan', 'person': [{'firstname': 'Kyle', 'middlename': None, 'lastname': 'Buchanan', 'qualifier': None, 'title': None, 'role': 'reported', 'organization': '', 'rank': 1}], 'organization': None}\n"
     ]
    }
   ],
   "source": [
    "print(df.loc[1, 'byline'])"
   ]
  },
  {
   "cell_type": "markdown",
   "id": "9ce6db82",
   "metadata": {},
   "source": [
    "### Extract Author's name from \"byline\""
   ]
  },
  {
   "cell_type": "code",
   "execution_count": 50,
   "id": "6c3542ff",
   "metadata": {},
   "outputs": [],
   "source": [
    "\n",
    "\n",
    "def extract_author(byline):\n",
    "    if pd.isna(byline) or not byline:\n",
    "        return ''  # Return empty string if byline is NaN or empty\n",
    "\n",
    "    try:\n",
    "        byline_dict = ast.literal_eval(byline)\n",
    "        if 'person' in byline_dict and byline_dict['person']:\n",
    "            person_info = byline_dict['person'][0]\n",
    "            first_name = person_info.get('firstname', '')\n",
    "            last_name = person_info.get('lastname', '')\n",
    "            return f\"{first_name} {last_name}\".strip()\n",
    "        elif 'original' in byline_dict and byline_dict['original']:\n",
    "            return byline_dict.get('original', '').split('By ')[-1].strip()\n",
    "        else:\n",
    "            return ''\n",
    "    except (ValueError, SyntaxError):\n",
    "        return ''\n",
    "\n",
    "df['author'] = df['byline'].apply(extract_author)\n",
    "\n",
    "df = df.drop(columns=['byline'])"
   ]
  },
  {
   "cell_type": "code",
   "execution_count": 51,
   "id": "8547f6ae",
   "metadata": {},
   "outputs": [
    {
     "data": {
      "text/html": [
       "<div>\n",
       "<style scoped>\n",
       "    .dataframe tbody tr th:only-of-type {\n",
       "        vertical-align: middle;\n",
       "    }\n",
       "\n",
       "    .dataframe tbody tr th {\n",
       "        vertical-align: top;\n",
       "    }\n",
       "\n",
       "    .dataframe thead th {\n",
       "        text-align: right;\n",
       "    }\n",
       "</style>\n",
       "<table border=\"1\" class=\"dataframe\">\n",
       "  <thead>\n",
       "    <tr style=\"text-align: right;\">\n",
       "      <th></th>\n",
       "      <th>type_of_material</th>\n",
       "      <th>news_desk</th>\n",
       "      <th>section_name</th>\n",
       "      <th>combined_text</th>\n",
       "      <th>author</th>\n",
       "    </tr>\n",
       "  </thead>\n",
       "  <tbody>\n",
       "    <tr>\n",
       "      <th>0</th>\n",
       "      <td>News</td>\n",
       "      <td>Learning</td>\n",
       "      <td>The Learning Network</td>\n",
       "      <td>This word has appeared in 993 articles on NYTi...</td>\n",
       "      <td>The Learning Network</td>\n",
       "    </tr>\n",
       "    <tr>\n",
       "      <th>1</th>\n",
       "      <td>News</td>\n",
       "      <td>Arts &amp; Culture</td>\n",
       "      <td>Movies</td>\n",
       "      <td>With the victory, the Christopher Nolan biopic...</td>\n",
       "      <td>Kyle Buchanan</td>\n",
       "    </tr>\n",
       "    <tr>\n",
       "      <th>2</th>\n",
       "      <td>Quote</td>\n",
       "      <td>Summary</td>\n",
       "      <td>Corrections</td>\n",
       "      <td>Quotation of the Day for Monday, February 26, ...</td>\n",
       "      <td></td>\n",
       "    </tr>\n",
       "    <tr>\n",
       "      <th>3</th>\n",
       "      <td>News</td>\n",
       "      <td>Corrections</td>\n",
       "      <td>Corrections</td>\n",
       "      <td>No corrections appeared in print on Monday, Fe...</td>\n",
       "      <td></td>\n",
       "    </tr>\n",
       "    <tr>\n",
       "      <th>4</th>\n",
       "      <td>News</td>\n",
       "      <td>Arts &amp; Culture</td>\n",
       "      <td>Arts</td>\n",
       "      <td>FX premieres a new show set in Japan in the 16...</td>\n",
       "      <td>Shivani Gonzalez</td>\n",
       "    </tr>\n",
       "  </tbody>\n",
       "</table>\n",
       "</div>"
      ],
      "text/plain": [
       "  type_of_material       news_desk          section_name  \\\n",
       "0             News        Learning  The Learning Network   \n",
       "1             News  Arts & Culture                Movies   \n",
       "2            Quote         Summary           Corrections   \n",
       "3             News     Corrections           Corrections   \n",
       "4             News  Arts & Culture                  Arts   \n",
       "\n",
       "                                       combined_text                author  \n",
       "0  This word has appeared in 993 articles on NYTi...  The Learning Network  \n",
       "1  With the victory, the Christopher Nolan biopic...         Kyle Buchanan  \n",
       "2  Quotation of the Day for Monday, February 26, ...                        \n",
       "3  No corrections appeared in print on Monday, Fe...                        \n",
       "4  FX premieres a new show set in Japan in the 16...      Shivani Gonzalez  "
      ]
     },
     "execution_count": 51,
     "metadata": {},
     "output_type": "execute_result"
    }
   ],
   "source": [
    "df.head()"
   ]
  },
  {
   "cell_type": "code",
   "execution_count": 52,
   "id": "f0ae4057",
   "metadata": {},
   "outputs": [
    {
     "data": {
      "text/plain": [
       "author\n",
       "                                    80\n",
       "New York Times Games                24\n",
       "The Learning Network                11\n",
       "Jazmine Ulloa                        9\n",
       "Maggie Astor                         6\n",
       "                                    ..\n",
       "Eimear Lynch                         1\n",
       "The International Herald Tribune     1\n",
       "Aurelien Breeden                     1\n",
       "Maya Phillips                        1\n",
       "Dionne Searcey                       1\n",
       "Name: count, Length: 553, dtype: int64"
      ]
     },
     "execution_count": 52,
     "metadata": {},
     "output_type": "execute_result"
    }
   ],
   "source": [
    "df[\"author\"].value_counts()"
   ]
  },
  {
   "cell_type": "code",
   "execution_count": 53,
   "id": "88d0d490",
   "metadata": {},
   "outputs": [],
   "source": [
    "df.to_csv(OUTPUT, index=False)"
   ]
  }
 ],
 "metadata": {
  "kernelspec": {
   "display_name": "Python 3 (ipykernel)",
   "language": "python",
   "name": "python3"
  },
  "language_info": {
   "codemirror_mode": {
    "name": "ipython",
    "version": 3
   },
   "file_extension": ".py",
   "mimetype": "text/x-python",
   "name": "python",
   "nbconvert_exporter": "python",
   "pygments_lexer": "ipython3",
   "version": "3.8.13"
  },
  "toc": {
   "base_numbering": 1,
   "nav_menu": {},
   "number_sections": false,
   "sideBar": true,
   "skip_h1_title": false,
   "title_cell": "Table of Contents",
   "title_sidebar": "Contents",
   "toc_cell": false,
   "toc_position": {},
   "toc_section_display": true,
   "toc_window_display": false
  }
 },
 "nbformat": 4,
 "nbformat_minor": 5
}
