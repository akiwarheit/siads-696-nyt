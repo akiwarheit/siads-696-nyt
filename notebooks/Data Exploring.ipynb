{
 "cells": [
  {
   "cell_type": "code",
   "execution_count": 1,
   "id": "ccf332c3",
   "metadata": {},
   "outputs": [],
   "source": [
    "import pandas as pd\n",
    "import numpy as np"
   ]
  },
  {
   "cell_type": "code",
   "execution_count": 2,
   "id": "a19450df",
   "metadata": {},
   "outputs": [],
   "source": [
    "df = pd.read_csv('cleaned_dataset.csv')"
   ]
  },
  {
   "cell_type": "code",
   "execution_count": 3,
   "id": "2175431f",
   "metadata": {},
   "outputs": [
    {
     "data": {
      "text/plain": [
       "(4103, 15)"
      ]
     },
     "execution_count": 3,
     "metadata": {},
     "output_type": "execute_result"
    }
   ],
   "source": [
    "df.shape"
   ]
  },
  {
   "cell_type": "code",
   "execution_count": 21,
   "id": "65309b27",
   "metadata": {},
   "outputs": [
    {
     "data": {
      "text/html": [
       "<div>\n",
       "<style scoped>\n",
       "    .dataframe tbody tr th:only-of-type {\n",
       "        vertical-align: middle;\n",
       "    }\n",
       "\n",
       "    .dataframe tbody tr th {\n",
       "        vertical-align: top;\n",
       "    }\n",
       "\n",
       "    .dataframe thead th {\n",
       "        text-align: right;\n",
       "    }\n",
       "</style>\n",
       "<table border=\"1\" class=\"dataframe\">\n",
       "  <thead>\n",
       "    <tr style=\"text-align: right;\">\n",
       "      <th></th>\n",
       "      <th>abstract</th>\n",
       "      <th>web_url</th>\n",
       "      <th>lead_paragraph</th>\n",
       "      <th>multimedia</th>\n",
       "      <th>headline</th>\n",
       "      <th>keywords</th>\n",
       "      <th>pub_date</th>\n",
       "      <th>document_type</th>\n",
       "      <th>news_desk</th>\n",
       "      <th>section_name</th>\n",
       "      <th>byline</th>\n",
       "      <th>type_of_material</th>\n",
       "      <th>_id</th>\n",
       "      <th>word_count</th>\n",
       "      <th>uri</th>\n",
       "    </tr>\n",
       "  </thead>\n",
       "  <tbody>\n",
       "    <tr>\n",
       "      <th>0</th>\n",
       "      <td>Justice Rufus W. Peckham was the last Supreme ...</td>\n",
       "      <td>https://www.nytimes.com/2016/04/02/us/politics...</td>\n",
       "      <td>WASHINGTON — There are the legal giants of the...</td>\n",
       "      <td>[{'rank': 0, 'subtype': 'watch308', 'caption':...</td>\n",
       "      <td>{'main': 'Supreme Court Fight Rescues a Justic...</td>\n",
       "      <td>[{'name': 'organizations', 'value': 'Supreme C...</td>\n",
       "      <td>2016-04-02 00:03:48+00:00</td>\n",
       "      <td>article</td>\n",
       "      <td>National</td>\n",
       "      <td>U.S.</td>\n",
       "      <td>{'original': 'By Carl Hulse', 'person': [{'fir...</td>\n",
       "      <td>News</td>\n",
       "      <td>nyt://article/15e78a58-d7e5-5d25-85db-72ca1241...</td>\n",
       "      <td>942</td>\n",
       "      <td>nyt://article/15e78a58-d7e5-5d25-85db-72ca1241...</td>\n",
       "    </tr>\n",
       "    <tr>\n",
       "      <th>1</th>\n",
       "      <td>“All those who believe in psychokinesis, raise...</td>\n",
       "      <td>https://www.nytimes.com/2016/04/02/arts/televi...</td>\n",
       "      <td>Ronnie Corbett, the diminutive comedian who te...</td>\n",
       "      <td>[{'rank': 0, 'subtype': 'watch308', 'caption':...</td>\n",
       "      <td>{'main': 'Ronnie Corbett, of ‘The Two Ronnies’...</td>\n",
       "      <td>[{'name': 'subject', 'value': 'Deaths (Obituar...</td>\n",
       "      <td>2016-04-02 00:08:19+00:00</td>\n",
       "      <td>article</td>\n",
       "      <td>Culture</td>\n",
       "      <td>Arts</td>\n",
       "      <td>{'original': 'By Daniel E. Slotnik', 'person':...</td>\n",
       "      <td>Obituary (Obit)</td>\n",
       "      <td>nyt://article/74200086-ce17-5db6-aeb7-7c7180d9...</td>\n",
       "      <td>539</td>\n",
       "      <td>nyt://article/74200086-ce17-5db6-aeb7-7c7180d9...</td>\n",
       "    </tr>\n",
       "  </tbody>\n",
       "</table>\n",
       "</div>"
      ],
      "text/plain": [
       "                                            abstract  \\\n",
       "0  Justice Rufus W. Peckham was the last Supreme ...   \n",
       "1  “All those who believe in psychokinesis, raise...   \n",
       "\n",
       "                                             web_url  \\\n",
       "0  https://www.nytimes.com/2016/04/02/us/politics...   \n",
       "1  https://www.nytimes.com/2016/04/02/arts/televi...   \n",
       "\n",
       "                                      lead_paragraph  \\\n",
       "0  WASHINGTON — There are the legal giants of the...   \n",
       "1  Ronnie Corbett, the diminutive comedian who te...   \n",
       "\n",
       "                                          multimedia  \\\n",
       "0  [{'rank': 0, 'subtype': 'watch308', 'caption':...   \n",
       "1  [{'rank': 0, 'subtype': 'watch308', 'caption':...   \n",
       "\n",
       "                                            headline  \\\n",
       "0  {'main': 'Supreme Court Fight Rescues a Justic...   \n",
       "1  {'main': 'Ronnie Corbett, of ‘The Two Ronnies’...   \n",
       "\n",
       "                                            keywords  \\\n",
       "0  [{'name': 'organizations', 'value': 'Supreme C...   \n",
       "1  [{'name': 'subject', 'value': 'Deaths (Obituar...   \n",
       "\n",
       "                    pub_date document_type news_desk section_name  \\\n",
       "0  2016-04-02 00:03:48+00:00       article  National         U.S.   \n",
       "1  2016-04-02 00:08:19+00:00       article   Culture         Arts   \n",
       "\n",
       "                                              byline type_of_material  \\\n",
       "0  {'original': 'By Carl Hulse', 'person': [{'fir...             News   \n",
       "1  {'original': 'By Daniel E. Slotnik', 'person':...  Obituary (Obit)   \n",
       "\n",
       "                                                 _id  word_count  \\\n",
       "0  nyt://article/15e78a58-d7e5-5d25-85db-72ca1241...         942   \n",
       "1  nyt://article/74200086-ce17-5db6-aeb7-7c7180d9...         539   \n",
       "\n",
       "                                                 uri  \n",
       "0  nyt://article/15e78a58-d7e5-5d25-85db-72ca1241...  \n",
       "1  nyt://article/74200086-ce17-5db6-aeb7-7c7180d9...  "
      ]
     },
     "execution_count": 21,
     "metadata": {},
     "output_type": "execute_result"
    }
   ],
   "source": [
    "df.head(2)"
   ]
  },
  {
   "cell_type": "code",
   "execution_count": 5,
   "id": "713435d4",
   "metadata": {},
   "outputs": [
    {
     "name": "stdout",
     "output_type": "stream",
     "text": [
      "<class 'pandas.core.frame.DataFrame'>\n",
      "RangeIndex: 4103 entries, 0 to 4102\n",
      "Data columns (total 15 columns):\n",
      " #   Column            Non-Null Count  Dtype \n",
      "---  ------            --------------  ----- \n",
      " 0   abstract          4103 non-null   object\n",
      " 1   web_url           4103 non-null   object\n",
      " 2   lead_paragraph    4103 non-null   object\n",
      " 3   multimedia        4103 non-null   object\n",
      " 4   headline          4103 non-null   object\n",
      " 5   keywords          4103 non-null   object\n",
      " 6   pub_date          4103 non-null   object\n",
      " 7   document_type     4103 non-null   object\n",
      " 8   news_desk         4103 non-null   object\n",
      " 9   section_name      4103 non-null   object\n",
      " 10  byline            4103 non-null   object\n",
      " 11  type_of_material  4103 non-null   object\n",
      " 12  _id               4103 non-null   object\n",
      " 13  word_count        4103 non-null   int64 \n",
      " 14  uri               4103 non-null   object\n",
      "dtypes: int64(1), object(14)\n",
      "memory usage: 480.9+ KB\n"
     ]
    }
   ],
   "source": [
    "df.info()"
   ]
  },
  {
   "cell_type": "code",
   "execution_count": 6,
   "id": "0eccc430",
   "metadata": {},
   "outputs": [
    {
     "data": {
      "text/plain": [
       "document_type\n",
       "article       3893\n",
       "multimedia     210\n",
       "Name: count, dtype: int64"
      ]
     },
     "execution_count": 6,
     "metadata": {},
     "output_type": "execute_result"
    }
   ],
   "source": [
    "df[\"document_type\"].value_counts()  # we may only keep the article "
   ]
  },
  {
   "cell_type": "markdown",
   "id": "e33f8faa",
   "metadata": {},
   "source": [
    "## Supervised Learning: Text Classification"
   ]
  },
  {
   "cell_type": "markdown",
   "id": "15ee041f",
   "metadata": {},
   "source": [
    "### Explore potential labels to be predicted"
   ]
  },
  {
   "cell_type": "markdown",
   "id": "f17f6e19",
   "metadata": {},
   "source": [
    "There are three features that can be used to as label: news_desk, section_name, type_of_material.\n",
    "\n",
    "To keep the number of labels minimal, I have decided to use 'type_of_material' as the label feature. This feature will predict the material type of the article.\n",
    "\n",
    "I have also chosen to retain only the articles with the 'document_type,' which has reduced the dataset size from 4103 to 3893. I am considering acquiring more data to expand the dataset further."
   ]
  },
  {
   "cell_type": "code",
   "execution_count": 11,
   "id": "ee3333b6",
   "metadata": {},
   "outputs": [
    {
     "data": {
      "text/plain": [
       "77"
      ]
     },
     "execution_count": 11,
     "metadata": {},
     "output_type": "execute_result"
    }
   ],
   "source": [
    "df[\"news_desk\"].nunique() "
   ]
  },
  {
   "cell_type": "code",
   "execution_count": 12,
   "id": "0052d668",
   "metadata": {},
   "outputs": [
    {
     "data": {
      "text/plain": [
       "51"
      ]
     },
     "execution_count": 12,
     "metadata": {},
     "output_type": "execute_result"
    }
   ],
   "source": [
    "df[\"section_name\"].nunique() "
   ]
  },
  {
   "cell_type": "code",
   "execution_count": 13,
   "id": "97676e60",
   "metadata": {},
   "outputs": [
    {
     "data": {
      "text/plain": [
       "18"
      ]
     },
     "execution_count": 13,
     "metadata": {},
     "output_type": "execute_result"
    }
   ],
   "source": [
    "df[\"type_of_material\"].nunique() "
   ]
  },
  {
   "cell_type": "code",
   "execution_count": 14,
   "id": "5ddc770b",
   "metadata": {},
   "outputs": [
    {
     "data": {
      "text/plain": [
       "type_of_material\n",
       "News                   2956\n",
       "Op-Ed                   292\n",
       "Review                  177\n",
       "Interactive Feature     143\n",
       "briefing                 91\n",
       "Quote                    78\n",
       "Obituary (Obit)          71\n",
       "Correction               66\n",
       "Editorial                57\n",
       "Slideshow                44\n",
       "Schedule                 39\n",
       "Letter                   31\n",
       "Video                    23\n",
       "News Analysis            15\n",
       "List                      8\n",
       "Question                  6\n",
       "Brief                     5\n",
       "Newsletter                1\n",
       "Name: count, dtype: int64"
      ]
     },
     "execution_count": 14,
     "metadata": {},
     "output_type": "execute_result"
    }
   ],
   "source": [
    "df[\"type_of_material\"].value_counts() "
   ]
  },
  {
   "cell_type": "code",
   "execution_count": 15,
   "id": "6d9d41b7",
   "metadata": {},
   "outputs": [],
   "source": [
    "df_media = df[df[\"document_type\"] == \"multimedia\"]"
   ]
  },
  {
   "cell_type": "code",
   "execution_count": 16,
   "id": "f8c5d9ba",
   "metadata": {},
   "outputs": [
    {
     "data": {
      "text/plain": [
       "type_of_material\n",
       "Interactive Feature    143\n",
       "Slideshow               44\n",
       "Video                   23\n",
       "Name: count, dtype: int64"
      ]
     },
     "execution_count": 16,
     "metadata": {},
     "output_type": "execute_result"
    }
   ],
   "source": [
    "df_media[\"type_of_material\"].value_counts()"
   ]
  },
  {
   "cell_type": "code",
   "execution_count": 17,
   "id": "4c546a2c",
   "metadata": {},
   "outputs": [],
   "source": [
    "df = df[df[\"document_type\"] == 'article'] #keep only articles"
   ]
  },
  {
   "cell_type": "code",
   "execution_count": 18,
   "id": "89e8408d",
   "metadata": {},
   "outputs": [
    {
     "data": {
      "text/plain": [
       "(3893, 15)"
      ]
     },
     "execution_count": 18,
     "metadata": {},
     "output_type": "execute_result"
    }
   ],
   "source": [
    "df.shape"
   ]
  },
  {
   "cell_type": "code",
   "execution_count": 19,
   "id": "554b110e",
   "metadata": {},
   "outputs": [
    {
     "data": {
      "text/plain": [
       "type_of_material\n",
       "News               2956\n",
       "Op-Ed               292\n",
       "Review              177\n",
       "briefing             91\n",
       "Quote                78\n",
       "Obituary (Obit)      71\n",
       "Correction           66\n",
       "Editorial            57\n",
       "Schedule             39\n",
       "Letter               31\n",
       "News Analysis        15\n",
       "List                  8\n",
       "Question              6\n",
       "Brief                 5\n",
       "Newsletter            1\n",
       "Name: count, dtype: int64"
      ]
     },
     "execution_count": 19,
     "metadata": {},
     "output_type": "execute_result"
    }
   ],
   "source": [
    "df[\"type_of_material\"].value_counts() #the distribution of labels shows the imbalance of the dataset. "
   ]
  },
  {
   "cell_type": "markdown",
   "id": "59d581b6",
   "metadata": {},
   "source": [
    "The distribution of labels shows the dataset is quite imbalanced, with \"News\" being the dominant class. If we want to avoid the imbalanced data bias, I can always retrieve more data to increase the representation of the minority classes. \n",
    "\n",
    "Alternatively, there are several other methods that can be employed to address this issue of imbalanced classes. For example, combining all of the classes except \"News\" into a single category called \"non_news\" class. which we will be doing binary classification. \n"
   ]
  },
  {
   "cell_type": "markdown",
   "id": "23caa4c9",
   "metadata": {},
   "source": [
    "### Explore the potential predictors\n"
   ]
  },
  {
   "cell_type": "markdown",
   "id": "d30fa3b8",
   "metadata": {},
   "source": [
    "I print out the content of “abstract”, “lead_paragraph”, “headline”, “keywords” of the second row (the second article). \n",
    "\n",
    "I attempt to determine whether I just use one of the contents or the combination of all. \n",
    "\n",
    "To better understand if the contents of those can be used to predict the article's material type, I read the entire second article to see how closely these contents relate to the article's overall topic. "
   ]
  },
  {
   "cell_type": "code",
   "execution_count": 7,
   "id": "9e8fea47",
   "metadata": {},
   "outputs": [
    {
     "name": "stdout",
     "output_type": "stream",
     "text": [
      "“All those who believe in psychokinesis, raise my right hand,” Mr. Corbett would say in his routine with Ronnie Barker.\n"
     ]
    }
   ],
   "source": [
    "print(df.loc[1, 'abstract'])"
   ]
  },
  {
   "cell_type": "code",
   "execution_count": 8,
   "id": "0be863a0",
   "metadata": {},
   "outputs": [
    {
     "name": "stdout",
     "output_type": "stream",
     "text": [
      "Ronnie Corbett, the diminutive comedian who teamed with Ronnie Barker to delight audiences for almost two decades on the hit BBC comedy show “The Two Ronnies,” died on Thursday. He was 85.\n"
     ]
    }
   ],
   "source": [
    "print(df.loc[1, 'lead_paragraph'])"
   ]
  },
  {
   "cell_type": "code",
   "execution_count": 9,
   "id": "bc7b9bbc",
   "metadata": {},
   "outputs": [
    {
     "name": "stdout",
     "output_type": "stream",
     "text": [
      "{'main': 'Ronnie Corbett, of ‘The Two Ronnies’ British Comedy Team, Dies at 85', 'kicker': None, 'content_kicker': None, 'print_headline': 'Ronnie Corbett, 85, Oneof Britain’s ‘Two Ronnies’', 'name': None, 'seo': None, 'sub': None}\n"
     ]
    }
   ],
   "source": [
    "print(df.loc[1, 'headline'])"
   ]
  },
  {
   "cell_type": "code",
   "execution_count": 10,
   "id": "2c6afff1",
   "metadata": {},
   "outputs": [
    {
     "name": "stdout",
     "output_type": "stream",
     "text": [
      "[{'name': 'subject', 'value': 'Deaths (Obituaries)', 'rank': 1, 'major': 'N'}, {'name': 'subject', 'value': 'Television', 'rank': 3, 'major': 'N'}, {'name': 'subject', 'value': 'Comedy and Humor', 'rank': 4, 'major': 'N'}, {'name': 'creative_works', 'value': 'The Two Ronnies (TV Program)', 'rank': 5, 'major': 'N'}, {'name': 'organizations', 'value': 'British Broadcasting Corp', 'rank': 6, 'major': 'N'}, {'name': 'persons', 'value': 'Barker, Ronnie (1929-2005)', 'rank': 7, 'major': 'N'}, {'name': 'persons', 'value': 'Corbett, Ronnie (1930-2016)', 'rank': 8, 'major': 'N'}]\n"
     ]
    }
   ],
   "source": [
    "print(df.loc[1, 'keywords'])"
   ]
  },
  {
   "cell_type": "code",
   "execution_count": 22,
   "id": "460a576d",
   "metadata": {},
   "outputs": [
    {
     "name": "stdout",
     "output_type": "stream",
     "text": [
      "https://www.nytimes.com/2016/04/02/arts/television/ronnie-corbett-one-of-the-two-ronnies-dies-at-85.html\n"
     ]
    }
   ],
   "source": [
    "print(df.loc[1, 'web_url']) #to examine the entire article. "
   ]
  },
  {
   "cell_type": "markdown",
   "id": "ccf3a4a2",
   "metadata": {},
   "source": [
    "Here is my findings after reading the contents of the four features and the full text of the article: \n",
    "\n",
    "This article's material type is marked as obituary.\n",
    "\n",
    "Abstract: reflect the article's focus on personality, but may not always clearly indicate the material type of the article.\n",
    "\n",
    "Lead paragraph: This feature is more descriptive, making it a strong candidate for identifying the material type.\n",
    "\n",
    "Headline: Headlines are designed to give a quick summary of the article's content. In this case, it effectively indicates that the article is an obituary.\n",
    "\n",
    "Keywords: Keywords are very indicative of the content and context. The presence of \"Deaths (Obituaries)\" is a strong predictor for the obituary category.\n",
    "\n",
    "Overall context: after reading the entire article, confirming that these features are closely related to the overall topic and are good predictors of the material type. \n",
    "\n",
    "Conclusion: we will combine these features to make a robust predictor. or we can experiment with different combinations(like using all features or using two of the features) to see which yields the best classification results. \n",
    "Technically, we will combine these 4 features into a single feature as predictor. \n",
    "\n",
    "\n"
   ]
  },
  {
   "cell_type": "markdown",
   "id": "b228f7a0",
   "metadata": {},
   "source": [
    "## Unsupervised Learning: Topic Modeling.\n",
    "\n",
    "Goal: uncover hidden thematic structures in the data\n"
   ]
  },
  {
   "cell_type": "markdown",
   "id": "b913abbe",
   "metadata": {},
   "source": [
    "For topic modeling, we will use the same textual features(the 4 features)as in text classification, but we won't need the label feature. As with text classification, we will also experiment with different combination of the 4 features to see which yields the most coherent and distinct topics. "
   ]
  },
  {
   "cell_type": "markdown",
   "id": "372c55fe",
   "metadata": {},
   "source": [
    "### Up to this point, we have selected our features for both supervised and unsupervised learning tasks."
   ]
  },
  {
   "cell_type": "markdown",
   "id": "b956ad83",
   "metadata": {},
   "source": [
    "## Feature engineering\n",
    "\n",
    "Steps used to get from raw dataset to the final features used. which include data preprocessing, feature extraction (NLP like TF-IDF)\n"
   ]
  },
  {
   "cell_type": "markdown",
   "id": "73fe85bd",
   "metadata": {},
   "source": [
    "The preprocessing steps are similar for both tasks(text classificatin & topic modeling): \n",
    "\n",
    "lowercasing, removing special characters, tokenization, removing stop words, possibly stemming or lemmatization. "
   ]
  },
  {
   "cell_type": "markdown",
   "id": "c94b2cae",
   "metadata": {},
   "source": [
    "## Project\n",
    "name/title, goals, motivation, closest example"
   ]
  },
  {
   "cell_type": "markdown",
   "id": "39fded7f",
   "metadata": {},
   "source": [
    "### Title\n",
    "I am thinking of two titles: \n",
    "\n",
    "1, Dual Perspectives: Classifying and Theming NYTimes Articles.\n",
    "\n",
    "2, The Article Analyst: Machine Learning Insights into NYTimes Journalism.\n",
    "\n",
    "\n"
   ]
  },
  {
   "cell_type": "markdown",
   "id": "7c6e1866",
   "metadata": {},
   "source": [
    "### Goals\n",
    "Text Classification (Supervised Learning):\n",
    "Develop a binary text classification model to categorize articles from The New York Times into two classes: \"News\" and \"Non-News.\n",
    "\n",
    "Topic Modeling (Unsupervised Learning):\n",
    "Utilize topic modeling techniques to uncover and analyze the latent thematic structure in the dataset of articles from The New York Times.\n",
    "\n",
    "General Project Objective\n",
    "\n",
    "The overarching objective of this project is to leverage machine learning techniques to extract meaningful insights from a dataset of articles from The New York Times. This involves categorizing articles into relevant classes and discovering underlying themes, thereby enabling a deeper understanding of the content and structure of the news articles."
   ]
  },
  {
   "cell_type": "markdown",
   "id": "68504585",
   "metadata": {},
   "source": [
    "### Motivation\n",
    "\n",
    "our motivation for undertaking this project is to harness the power of machine learning and natural language processing to deepen our understanding of news content. By classifying and analyzing New York Times articles, we aim to improve the accessibility and navigation of news media, uncovering underlying themes and patterns in journalistic content. This project represents a convergence of technological innovation and media analysis, offering valuable insights for both readers and industry professionals, and contributing to the evolving landscape of data-driven journalism."
   ]
  },
  {
   "cell_type": "markdown",
   "id": "32f0a21d",
   "metadata": {},
   "source": [
    "### Closest Example\n",
    "\n",
    "we are asked to find a closest example that is most similar to what we are proposing(stated in our proposal instruction)\n",
    "\n",
    "The closest example is the course 655 NLP assignments: text classification,which using the English Wikipedia articles, a text of person's Wikipedia biography, determine the person's nationality. "
   ]
  },
  {
   "cell_type": "markdown",
   "id": "290c78a9",
   "metadata": {},
   "source": [
    "## Next Steps"
   ]
  },
  {
   "cell_type": "markdown",
   "id": "57f989d3",
   "metadata": {},
   "source": [
    "Up to this point, I haven't delved into considering the supervised and unsupervised learning approaches, which encompass model selection, evaluation, and visualization methods. We can only contemplate these aspects after deciding on our specific supervised and unsupervised tasks.\n",
    "\n",
    "The next immediate step I will take is to retrieve more data and prepare it in the format of our current dataset, just in case we need additional data in the future."
   ]
  },
  {
   "cell_type": "code",
   "execution_count": null,
   "id": "5b08a1c8",
   "metadata": {},
   "outputs": [],
   "source": []
  }
 ],
 "metadata": {
  "kernelspec": {
   "display_name": "Python (dojo-env)",
   "language": "python",
   "name": "dojo-env"
  },
  "language_info": {
   "codemirror_mode": {
    "name": "ipython",
    "version": 3
   },
   "file_extension": ".py",
   "mimetype": "text/x-python",
   "name": "python",
   "nbconvert_exporter": "python",
   "pygments_lexer": "ipython3",
   "version": "3.8.13"
  },
  "toc": {
   "base_numbering": 1,
   "nav_menu": {},
   "number_sections": false,
   "sideBar": true,
   "skip_h1_title": false,
   "title_cell": "Table of Contents",
   "title_sidebar": "Contents",
   "toc_cell": false,
   "toc_position": {},
   "toc_section_display": true,
   "toc_window_display": false
  }
 },
 "nbformat": 4,
 "nbformat_minor": 5
}
