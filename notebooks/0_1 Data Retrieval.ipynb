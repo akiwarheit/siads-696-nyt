{
 "cells": [
  {
   "cell_type": "code",
   "execution_count": 1,
   "id": "54f2813c",
   "metadata": {},
   "outputs": [],
   "source": [
    "from pynytimes import NYTAPI\n",
    "\n",
    "nyt_api = NYTAPI(\"SoAGIoyWawUiv8CcxLFD4MSXYckreA0d\", parse_dates=True)"
   ]
  },
  {
   "cell_type": "code",
   "execution_count": 2,
   "id": "75ff5cdf",
   "metadata": {},
   "outputs": [],
   "source": [
    "import datetime\n",
    "import random\n",
    "import pandas as pd\n",
    "import time"
   ]
  },
  {
   "cell_type": "code",
   "execution_count": 3,
   "id": "34f4fe9d",
   "metadata": {},
   "outputs": [],
   "source": [
    "def fetch_nyt_articles(start_date, end_date, file_name):\n",
    "    try:\n",
    "        articles = nyt_api.article_search(\n",
    "            query=\"\", \n",
    "            results=50,\n",
    "            dates={\n",
    "                \"begin\": start_date,\n",
    "                \"end\": end_date\n",
    "            },\n",
    "            options={\n",
    "                \"sort\": \"oldest\",\n",
    "                \"sources\": [\n",
    "                    \"New York Times\",\n",
    "                    \"AP\",\n",
    "                    \"Reuters\",\n",
    "                    \"International Herald Tribune\"\n",
    "                ],\n",
    "                \"document_type\": [\n",
    "            \"article\"\n",
    "        ]\n",
    "            }\n",
    "        )\n",
    "\n",
    "        df = pd.DataFrame(articles)\n",
    "        df.to_csv(file_name, index=False)\n",
    "        print(f\"Articles saved to {file_name}\")\n",
    "        return df\n",
    "\n",
    "    except Exception as e:\n",
    "        print(f\"An error occurred: {e}\")\n",
    "        return None"
   ]
  },
  {
   "cell_type": "code",
   "execution_count": null,
   "id": "361c08e9",
   "metadata": {},
   "outputs": [],
   "source": []
  },
  {
   "cell_type": "code",
   "execution_count": null,
   "id": "c2fdc1e6",
   "metadata": {},
   "outputs": [],
   "source": []
  },
  {
   "cell_type": "code",
   "execution_count": null,
   "id": "8a80c2fc",
   "metadata": {},
   "outputs": [],
   "source": []
  },
  {
   "cell_type": "code",
   "execution_count": null,
   "id": "89048b31",
   "metadata": {},
   "outputs": [],
   "source": []
  },
  {
   "cell_type": "code",
   "execution_count": null,
   "id": "bc9169e1",
   "metadata": {},
   "outputs": [],
   "source": []
  }
 ],
 "metadata": {
  "kernelspec": {
   "display_name": "Python (dojo-env)",
   "language": "python",
   "name": "dojo-env"
  },
  "language_info": {
   "codemirror_mode": {
    "name": "ipython",
    "version": 3
   },
   "file_extension": ".py",
   "mimetype": "text/x-python",
   "name": "python",
   "nbconvert_exporter": "python",
   "pygments_lexer": "ipython3",
   "version": "3.8.13"
  },
  "toc": {
   "base_numbering": 1,
   "nav_menu": {},
   "number_sections": false,
   "sideBar": true,
   "skip_h1_title": false,
   "title_cell": "Table of Contents",
   "title_sidebar": "Contents",
   "toc_cell": false,
   "toc_position": {},
   "toc_section_display": true,
   "toc_window_display": false
  }
 },
 "nbformat": 4,
 "nbformat_minor": 5
}
