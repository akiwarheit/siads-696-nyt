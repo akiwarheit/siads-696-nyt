{
 "cells": [
  {
   "cell_type": "code",
   "execution_count": 1,
   "metadata": {},
   "outputs": [],
   "source": [
    "import pandas as pd\n",
    "from sklearn.feature_extraction.text import TfidfVectorizer\n",
    "\n",
    "df = pd.read_csv('processced text.csv')\n",
    "vec = TfidfVectorizer(max_df=0.95, min_df=2, max_features=1000)\n",
    "tfidf = vec.fit_transform(df['preprocessed_text'])"
   ]
  },
  {
   "cell_type": "code",
   "execution_count": 2,
   "metadata": {},
   "outputs": [],
   "source": [
    "dictionary = []\n",
    "\n",
    "for word_list in df['preprocessed_text'].apply(lambda x: list(set(x.split()))):\n",
    "    dictionary.extend(word_list)\n",
    "\n",
    "dictionary = list(set(dictionary))"
   ]
  },
  {
   "cell_type": "code",
   "execution_count": 3,
   "metadata": {},
   "outputs": [],
   "source": [
    "parameters = {\n",
    "    'l1_ratio': [0.0, 0.5, 1.0],\n",
    "    'init': ['random', 'nndsvd', 'nndsvda', 'nndsvdar'],\n",
    "    'solver': ['cd', 'mu']\n",
    "}\n"
   ]
  },
  {
   "cell_type": "code",
   "execution_count": 4,
   "metadata": {},
   "outputs": [
    {
     "name": "stderr",
     "output_type": "stream",
     "text": [
      "C:\\Users\\kevin\\AppData\\Local\\Packages\\PythonSoftwareFoundation.Python.3.11_qbz5n2kfra8p0\\LocalCache\\local-packages\\Python311\\site-packages\\sklearn\\base.py:376: InconsistentVersionWarning: Trying to unpickle estimator CountVectorizer from version 1.1.2 when using version 1.4.0. This might lead to breaking code or invalid results. Use at your own risk. For more info please refer to:\n",
      "https://scikit-learn.org/stable/model_persistence.html#security-maintainability-limitations\n",
      "  warnings.warn(\n"
     ]
    }
   ],
   "source": [
    "from sklearn.metrics import make_scorer\n",
    "from helpers.topic_modelling import calc_coherence, get_topic_words\n",
    "\n",
    "def coherence_score(model, X, y):\n",
    "    topic_words = get_topic_words(model)\n",
    "    coherence_score = calc_coherence(topic_words, [dictionary])\n",
    "\n",
    "    return coherence_score\n",
    "\n",
    "coherence_scorer = make_scorer(coherence_score, greater_is_better=True)"
   ]
  },
  {
   "cell_type": "code",
   "execution_count": 9,
   "metadata": {},
   "outputs": [
    {
     "name": "stdout",
     "output_type": "stream",
     "text": [
      "Invalid combination, marking 0\n",
      "Invalid combination, marking 0\n",
      "Invalid combination, marking 0\n",
      "Invalid combination, marking 0\n",
      "Invalid combination, marking 0\n",
      "Invalid combination, marking 0\n",
      "Invalid combination, marking 0\n",
      "Invalid combination, marking 0\n"
     ]
    }
   ],
   "source": [
    "import numpy as np\n",
    "from sklearn.decomposition import NMF\n",
    "\n",
    "init_values = ['random', 'nndsvd', 'nndsvda', 'nndsvdar']\n",
    "beta_loss_values = ['frobenius', 'kullback-leibler']\n",
    "solver_values = ['cd', 'mu']\n",
    "\n",
    "coherence_tensor = np.zeros((len(init_values), len(beta_loss_values), len(solver_values)))\n",
    "\n",
    "for i, init in enumerate(init_values):\n",
    "    for j, beta_loss in enumerate(beta_loss_values):\n",
    "        for k, solver in enumerate(solver_values):\n",
    "            try:\n",
    "                nmf = NMF(n_components=3, random_state=696, max_iter=200, init=init, beta_loss=beta_loss)\n",
    "                nmf.fit(tfidf)\n",
    "                \n",
    "                coherence_tensor[i, j, k] = coherence_score(nmf, None, None)  # You need to define dictionary\n",
    "            except:\n",
    "                print(\"Invalid combination, marking 0\")\n",
    "                coherence_tensor[i, j, k] = 0"
   ]
  },
  {
   "cell_type": "code",
   "execution_count": 10,
   "metadata": {},
   "outputs": [
    {
     "data": {
      "text/plain": [
       "array([[[0.80305196, 0.80305196],\n",
       "        [0.        , 0.        ]],\n",
       "\n",
       "       [[0.80305196, 0.80305196],\n",
       "        [0.        , 0.        ]],\n",
       "\n",
       "       [[0.80305196, 0.80305196],\n",
       "        [0.        , 0.        ]],\n",
       "\n",
       "       [[0.80305196, 0.80305196],\n",
       "        [0.        , 0.        ]]])"
      ]
     },
     "execution_count": 10,
     "metadata": {},
     "output_type": "execute_result"
    }
   ],
   "source": [
    "coherence_tensor"
   ]
  }
 ],
 "metadata": {
  "kernelspec": {
   "display_name": "Python 3",
   "language": "python",
   "name": "python3"
  },
  "language_info": {
   "codemirror_mode": {
    "name": "ipython",
    "version": 3
   },
   "file_extension": ".py",
   "mimetype": "text/x-python",
   "name": "python",
   "nbconvert_exporter": "python",
   "pygments_lexer": "ipython3",
   "version": "3.11.8"
  }
 },
 "nbformat": 4,
 "nbformat_minor": 2
}
