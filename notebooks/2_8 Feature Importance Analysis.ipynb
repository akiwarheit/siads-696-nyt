{
 "cells": [
  {
   "cell_type": "code",
   "execution_count": 25,
   "id": "4332885e",
   "metadata": {},
   "outputs": [],
   "source": [
    "import numpy as np\n",
    "import pandas as pd\n",
    "import pickle\n",
    "from sklearn.feature_extraction.text import TfidfVectorizer\n",
    "from sklearn.ensemble import RandomForestClassifier\n",
    "from sklearn.model_selection import train_test_split\n",
    "from sklearn.metrics import confusion_matrix, classification_report, roc_auc_score, roc_curve, ConfusionMatrixDisplay, auc\n",
    "from sklearn.preprocessing import label_binarize\n",
    "from sklearn.model_selection import cross_val_score, StratifiedKFold\n",
    "from sklearn.model_selection import GridSearchCV\n",
    "from matplotlib import pyplot as plt\n",
    "import random\n",
    "import seaborn as sns\n",
    "from helpers.evaluate_model import evaluate_model"
   ]
  },
  {
   "cell_type": "markdown",
   "id": "3a669934",
   "metadata": {},
   "source": [
    "### Getting Model Ready"
   ]
  },
  {
   "cell_type": "code",
   "execution_count": 2,
   "id": "fb3812ab",
   "metadata": {},
   "outputs": [
    {
     "data": {
      "text/html": [
       "<div>\n",
       "<style scoped>\n",
       "    .dataframe tbody tr th:only-of-type {\n",
       "        vertical-align: middle;\n",
       "    }\n",
       "\n",
       "    .dataframe tbody tr th {\n",
       "        vertical-align: top;\n",
       "    }\n",
       "\n",
       "    .dataframe thead th {\n",
       "        text-align: right;\n",
       "    }\n",
       "</style>\n",
       "<table border=\"1\" class=\"dataframe\">\n",
       "  <thead>\n",
       "    <tr style=\"text-align: right;\">\n",
       "      <th></th>\n",
       "      <th>topic_label</th>\n",
       "      <th>type_of_material_Biography</th>\n",
       "      <th>type_of_material_Brief</th>\n",
       "      <th>type_of_material_Correction</th>\n",
       "      <th>type_of_material_Editorial</th>\n",
       "      <th>type_of_material_First Chapter</th>\n",
       "      <th>type_of_material_Interview</th>\n",
       "      <th>type_of_material_Letter</th>\n",
       "      <th>type_of_material_List</th>\n",
       "      <th>type_of_material_News</th>\n",
       "      <th>...</th>\n",
       "      <th>world</th>\n",
       "      <th>would</th>\n",
       "      <th>write</th>\n",
       "      <th>writer</th>\n",
       "      <th>writing</th>\n",
       "      <th>yankee</th>\n",
       "      <th>yankees</th>\n",
       "      <th>yearold</th>\n",
       "      <th>yet</th>\n",
       "      <th>young</th>\n",
       "    </tr>\n",
       "  </thead>\n",
       "  <tbody>\n",
       "    <tr>\n",
       "      <th>0</th>\n",
       "      <td>Lifestyle</td>\n",
       "      <td>False</td>\n",
       "      <td>False</td>\n",
       "      <td>False</td>\n",
       "      <td>False</td>\n",
       "      <td>False</td>\n",
       "      <td>False</td>\n",
       "      <td>False</td>\n",
       "      <td>False</td>\n",
       "      <td>True</td>\n",
       "      <td>...</td>\n",
       "      <td>0.0</td>\n",
       "      <td>0.0</td>\n",
       "      <td>0.0</td>\n",
       "      <td>0.0</td>\n",
       "      <td>0.0</td>\n",
       "      <td>0.0</td>\n",
       "      <td>0.0</td>\n",
       "      <td>0.0</td>\n",
       "      <td>0.000000</td>\n",
       "      <td>0.0</td>\n",
       "    </tr>\n",
       "    <tr>\n",
       "      <th>1</th>\n",
       "      <td>Lifestyle</td>\n",
       "      <td>False</td>\n",
       "      <td>False</td>\n",
       "      <td>False</td>\n",
       "      <td>False</td>\n",
       "      <td>False</td>\n",
       "      <td>False</td>\n",
       "      <td>False</td>\n",
       "      <td>False</td>\n",
       "      <td>True</td>\n",
       "      <td>...</td>\n",
       "      <td>0.0</td>\n",
       "      <td>0.0</td>\n",
       "      <td>0.0</td>\n",
       "      <td>0.0</td>\n",
       "      <td>0.0</td>\n",
       "      <td>0.0</td>\n",
       "      <td>0.0</td>\n",
       "      <td>0.0</td>\n",
       "      <td>0.000000</td>\n",
       "      <td>0.0</td>\n",
       "    </tr>\n",
       "    <tr>\n",
       "      <th>2</th>\n",
       "      <td>Lifestyle</td>\n",
       "      <td>False</td>\n",
       "      <td>False</td>\n",
       "      <td>False</td>\n",
       "      <td>False</td>\n",
       "      <td>False</td>\n",
       "      <td>False</td>\n",
       "      <td>False</td>\n",
       "      <td>False</td>\n",
       "      <td>True</td>\n",
       "      <td>...</td>\n",
       "      <td>0.0</td>\n",
       "      <td>0.0</td>\n",
       "      <td>0.0</td>\n",
       "      <td>0.0</td>\n",
       "      <td>0.0</td>\n",
       "      <td>0.0</td>\n",
       "      <td>0.0</td>\n",
       "      <td>0.0</td>\n",
       "      <td>0.000000</td>\n",
       "      <td>0.0</td>\n",
       "    </tr>\n",
       "    <tr>\n",
       "      <th>3</th>\n",
       "      <td>Politics</td>\n",
       "      <td>False</td>\n",
       "      <td>False</td>\n",
       "      <td>False</td>\n",
       "      <td>False</td>\n",
       "      <td>False</td>\n",
       "      <td>False</td>\n",
       "      <td>False</td>\n",
       "      <td>False</td>\n",
       "      <td>True</td>\n",
       "      <td>...</td>\n",
       "      <td>0.0</td>\n",
       "      <td>0.0</td>\n",
       "      <td>0.0</td>\n",
       "      <td>0.0</td>\n",
       "      <td>0.0</td>\n",
       "      <td>0.0</td>\n",
       "      <td>0.0</td>\n",
       "      <td>0.0</td>\n",
       "      <td>0.159553</td>\n",
       "      <td>0.0</td>\n",
       "    </tr>\n",
       "    <tr>\n",
       "      <th>4</th>\n",
       "      <td>Lifestyle</td>\n",
       "      <td>False</td>\n",
       "      <td>False</td>\n",
       "      <td>False</td>\n",
       "      <td>False</td>\n",
       "      <td>False</td>\n",
       "      <td>False</td>\n",
       "      <td>False</td>\n",
       "      <td>False</td>\n",
       "      <td>True</td>\n",
       "      <td>...</td>\n",
       "      <td>0.0</td>\n",
       "      <td>0.0</td>\n",
       "      <td>0.0</td>\n",
       "      <td>0.0</td>\n",
       "      <td>0.0</td>\n",
       "      <td>0.0</td>\n",
       "      <td>0.0</td>\n",
       "      <td>0.0</td>\n",
       "      <td>0.000000</td>\n",
       "      <td>0.0</td>\n",
       "    </tr>\n",
       "  </tbody>\n",
       "</table>\n",
       "<p>5 rows × 1065 columns</p>\n",
       "</div>"
      ],
      "text/plain": [
       "  topic_label  type_of_material_Biography  type_of_material_Brief  \\\n",
       "0   Lifestyle                       False                   False   \n",
       "1   Lifestyle                       False                   False   \n",
       "2   Lifestyle                       False                   False   \n",
       "3    Politics                       False                   False   \n",
       "4   Lifestyle                       False                   False   \n",
       "\n",
       "   type_of_material_Correction  type_of_material_Editorial  \\\n",
       "0                        False                       False   \n",
       "1                        False                       False   \n",
       "2                        False                       False   \n",
       "3                        False                       False   \n",
       "4                        False                       False   \n",
       "\n",
       "   type_of_material_First Chapter  type_of_material_Interview  \\\n",
       "0                           False                       False   \n",
       "1                           False                       False   \n",
       "2                           False                       False   \n",
       "3                           False                       False   \n",
       "4                           False                       False   \n",
       "\n",
       "   type_of_material_Letter  type_of_material_List  type_of_material_News  ...  \\\n",
       "0                    False                  False                   True  ...   \n",
       "1                    False                  False                   True  ...   \n",
       "2                    False                  False                   True  ...   \n",
       "3                    False                  False                   True  ...   \n",
       "4                    False                  False                   True  ...   \n",
       "\n",
       "   world  would  write  writer  writing  yankee  yankees  yearold       yet  \\\n",
       "0    0.0    0.0    0.0     0.0      0.0     0.0      0.0      0.0  0.000000   \n",
       "1    0.0    0.0    0.0     0.0      0.0     0.0      0.0      0.0  0.000000   \n",
       "2    0.0    0.0    0.0     0.0      0.0     0.0      0.0      0.0  0.000000   \n",
       "3    0.0    0.0    0.0     0.0      0.0     0.0      0.0      0.0  0.159553   \n",
       "4    0.0    0.0    0.0     0.0      0.0     0.0      0.0      0.0  0.000000   \n",
       "\n",
       "   young  \n",
       "0    0.0  \n",
       "1    0.0  \n",
       "2    0.0  \n",
       "3    0.0  \n",
       "4    0.0  \n",
       "\n",
       "[5 rows x 1065 columns]"
      ]
     },
     "execution_count": 2,
     "metadata": {},
     "output_type": "execute_result"
    }
   ],
   "source": [
    "#Load Data\n",
    "with open('out/df_final.pkl', 'rb') as f:\n",
    "    df = pickle.load(f)\n",
    "df.head()"
   ]
  },
  {
   "cell_type": "code",
   "execution_count": 3,
   "id": "31a74181",
   "metadata": {},
   "outputs": [],
   "source": [
    "X = df.drop('topic_label', axis = 1)\n",
    "y = df['topic_label']"
   ]
  },
  {
   "cell_type": "code",
   "execution_count": 4,
   "id": "ed6e8069",
   "metadata": {},
   "outputs": [],
   "source": [
    "#Best Performing Model\n",
    "model = RandomForestClassifier(random_state = 42)\n"
   ]
  },
  {
   "cell_type": "code",
   "execution_count": 5,
   "id": "2b5e00da",
   "metadata": {},
   "outputs": [
    {
     "data": {
      "text/html": [
       "<style>#sk-container-id-1 {color: black;}#sk-container-id-1 pre{padding: 0;}#sk-container-id-1 div.sk-toggleable {background-color: white;}#sk-container-id-1 label.sk-toggleable__label {cursor: pointer;display: block;width: 100%;margin-bottom: 0;padding: 0.3em;box-sizing: border-box;text-align: center;}#sk-container-id-1 label.sk-toggleable__label-arrow:before {content: \"▸\";float: left;margin-right: 0.25em;color: #696969;}#sk-container-id-1 label.sk-toggleable__label-arrow:hover:before {color: black;}#sk-container-id-1 div.sk-estimator:hover label.sk-toggleable__label-arrow:before {color: black;}#sk-container-id-1 div.sk-toggleable__content {max-height: 0;max-width: 0;overflow: hidden;text-align: left;background-color: #f0f8ff;}#sk-container-id-1 div.sk-toggleable__content pre {margin: 0.2em;color: black;border-radius: 0.25em;background-color: #f0f8ff;}#sk-container-id-1 input.sk-toggleable__control:checked~div.sk-toggleable__content {max-height: 200px;max-width: 100%;overflow: auto;}#sk-container-id-1 input.sk-toggleable__control:checked~label.sk-toggleable__label-arrow:before {content: \"▾\";}#sk-container-id-1 div.sk-estimator input.sk-toggleable__control:checked~label.sk-toggleable__label {background-color: #d4ebff;}#sk-container-id-1 div.sk-label input.sk-toggleable__control:checked~label.sk-toggleable__label {background-color: #d4ebff;}#sk-container-id-1 input.sk-hidden--visually {border: 0;clip: rect(1px 1px 1px 1px);clip: rect(1px, 1px, 1px, 1px);height: 1px;margin: -1px;overflow: hidden;padding: 0;position: absolute;width: 1px;}#sk-container-id-1 div.sk-estimator {font-family: monospace;background-color: #f0f8ff;border: 1px dotted black;border-radius: 0.25em;box-sizing: border-box;margin-bottom: 0.5em;}#sk-container-id-1 div.sk-estimator:hover {background-color: #d4ebff;}#sk-container-id-1 div.sk-parallel-item::after {content: \"\";width: 100%;border-bottom: 1px solid gray;flex-grow: 1;}#sk-container-id-1 div.sk-label:hover label.sk-toggleable__label {background-color: #d4ebff;}#sk-container-id-1 div.sk-serial::before {content: \"\";position: absolute;border-left: 1px solid gray;box-sizing: border-box;top: 0;bottom: 0;left: 50%;z-index: 0;}#sk-container-id-1 div.sk-serial {display: flex;flex-direction: column;align-items: center;background-color: white;padding-right: 0.2em;padding-left: 0.2em;position: relative;}#sk-container-id-1 div.sk-item {position: relative;z-index: 1;}#sk-container-id-1 div.sk-parallel {display: flex;align-items: stretch;justify-content: center;background-color: white;position: relative;}#sk-container-id-1 div.sk-item::before, #sk-container-id-1 div.sk-parallel-item::before {content: \"\";position: absolute;border-left: 1px solid gray;box-sizing: border-box;top: 0;bottom: 0;left: 50%;z-index: -1;}#sk-container-id-1 div.sk-parallel-item {display: flex;flex-direction: column;z-index: 1;position: relative;background-color: white;}#sk-container-id-1 div.sk-parallel-item:first-child::after {align-self: flex-end;width: 50%;}#sk-container-id-1 div.sk-parallel-item:last-child::after {align-self: flex-start;width: 50%;}#sk-container-id-1 div.sk-parallel-item:only-child::after {width: 0;}#sk-container-id-1 div.sk-dashed-wrapped {border: 1px dashed gray;margin: 0 0.4em 0.5em 0.4em;box-sizing: border-box;padding-bottom: 0.4em;background-color: white;}#sk-container-id-1 div.sk-label label {font-family: monospace;font-weight: bold;display: inline-block;line-height: 1.2em;}#sk-container-id-1 div.sk-label-container {text-align: center;}#sk-container-id-1 div.sk-container {/* jupyter's `normalize.less` sets `[hidden] { display: none; }` but bootstrap.min.css set `[hidden] { display: none !important; }` so we also need the `!important` here to be able to override the default hidden behavior on the sphinx rendered scikit-learn.org. See: https://github.com/scikit-learn/scikit-learn/issues/21755 */display: inline-block !important;position: relative;}#sk-container-id-1 div.sk-text-repr-fallback {display: none;}</style><div id=\"sk-container-id-1\" class=\"sk-top-container\"><div class=\"sk-text-repr-fallback\"><pre>RandomForestClassifier(random_state=42)</pre><b>In a Jupyter environment, please rerun this cell to show the HTML representation or trust the notebook. <br />On GitHub, the HTML representation is unable to render, please try loading this page with nbviewer.org.</b></div><div class=\"sk-container\" hidden><div class=\"sk-item\"><div class=\"sk-estimator sk-toggleable\"><input class=\"sk-toggleable__control sk-hidden--visually\" id=\"sk-estimator-id-1\" type=\"checkbox\" checked><label for=\"sk-estimator-id-1\" class=\"sk-toggleable__label sk-toggleable__label-arrow\">RandomForestClassifier</label><div class=\"sk-toggleable__content\"><pre>RandomForestClassifier(random_state=42)</pre></div></div></div></div></div>"
      ],
      "text/plain": [
       "RandomForestClassifier(random_state=42)"
      ]
     },
     "execution_count": 5,
     "metadata": {},
     "output_type": "execute_result"
    }
   ],
   "source": [
    "# train the model \n",
    "# Split the data into training and test sets\n",
    "X_train, X_test, y_train, y_test = train_test_split(X, y, test_size=0.2, random_state=42)\n",
    "\n",
    "# Train the model on the training set\n",
    "model.fit(X_train, y_train)"
   ]
  },
  {
   "cell_type": "markdown",
   "id": "4d1c8192",
   "metadata": {},
   "source": [
    "## Feature Importances Analysis"
   ]
  },
  {
   "cell_type": "code",
   "execution_count": 14,
   "id": "1ebfa0e9",
   "metadata": {},
   "outputs": [
    {
     "data": {
      "image/png": "[encoded data removed]",
      "text/plain": [
       "<Figure size 1000x800 with 1 Axes>"
      ]
     },
     "metadata": {},
     "output_type": "display_data"
    }
   ],
   "source": [
    "# get feature importances\n",
    "importances = model.feature_importances_\n",
    "\n",
    "# get top 10 features \n",
    "indices = np.argsort(importances)[-20:]\n",
    "\n",
    "# get top 10 feature names\n",
    "top_features = [X.columns[i] for i in indices]\n",
    "top_importances = importances[indices]\n",
    "\n",
    "# Plot the top 10 feature importances\n",
    "plt.figure(figsize=(10, 8))\n",
    "plt.title('Top 20 Feature Importances')\n",
    "plt.barh(range(len(indices)), top_importances, color='b', align='center')\n",
    "plt.yticks(range(len(indices)), top_features)\n",
    "plt.xlabel('Relative Importance')\n",
    "plt.show()\n",
    "\n",
    "\n"
   ]
  },
  {
   "cell_type": "markdown",
   "id": "d0c9ec26",
   "metadata": {},
   "source": [
    "For the feature importances analysis, we created a feature importance plot for the top 20 features from our best model. This plot shows the relative importance of each feature in our dataset after one-hot encoding and TF-IDF vectorization. It is evident that the predominant features are derived from the TF-IDF matrix, representing words from the \"preprocessed_text\" feature in our original dataset before vectorization. Additionally, we observed that two features not originating from the matrix are included. These supplementary predictors were chosen alongside the main \"preprocessed_text\" feature to potentially improve model performance. Indeed, the \"preprocessed_text\" — which we refer to as the main predictor — has played a pivotal role in the classification task. Additionally, the \"other features,\" which we consider helper predictors, have also contributed to enhancing the model's classification capabilities."
   ]
  },
  {
   "cell_type": "markdown",
   "id": "2d8182cf",
   "metadata": {},
   "source": [
    "## Ablation Analysis"
   ]
  },
  {
   "cell_type": "markdown",
   "id": "bd719d9f",
   "metadata": {},
   "source": [
    "### Removing all other features"
   ]
  },
  {
   "cell_type": "code",
   "execution_count": 7,
   "id": "7b91807b",
   "metadata": {},
   "outputs": [],
   "source": [
    "df2 = pd.read_csv('processced text.csv')"
   ]
  },
  {
   "cell_type": "code",
   "execution_count": 8,
   "id": "026af76f",
   "metadata": {},
   "outputs": [
    {
     "data": {
      "text/html": [
       "<div>\n",
       "<style scoped>\n",
       "    .dataframe tbody tr th:only-of-type {\n",
       "        vertical-align: middle;\n",
       "    }\n",
       "\n",
       "    .dataframe tbody tr th {\n",
       "        vertical-align: top;\n",
       "    }\n",
       "\n",
       "    .dataframe thead th {\n",
       "        text-align: right;\n",
       "    }\n",
       "</style>\n",
       "<table border=\"1\" class=\"dataframe\">\n",
       "  <thead>\n",
       "    <tr style=\"text-align: right;\">\n",
       "      <th></th>\n",
       "      <th>type_of_material</th>\n",
       "      <th>news_desk</th>\n",
       "      <th>section_name</th>\n",
       "      <th>author</th>\n",
       "      <th>preprocessed_text</th>\n",
       "    </tr>\n",
       "  </thead>\n",
       "  <tbody>\n",
       "    <tr>\n",
       "      <th>0</th>\n",
       "      <td>News</td>\n",
       "      <td>Lifestyle &amp; Leisure</td>\n",
       "      <td>Home &amp; Garden</td>\n",
       "      <td>Penelope Green</td>\n",
       "      <td>point view   prescriptive descriptive definite...</td>\n",
       "    </tr>\n",
       "    <tr>\n",
       "      <th>1</th>\n",
       "      <td>News</td>\n",
       "      <td>Lifestyle &amp; Leisure</td>\n",
       "      <td>Home &amp; Garden</td>\n",
       "      <td>Marianne Rohrlich</td>\n",
       "      <td>ten highend design gallery offer     percent m...</td>\n",
       "    </tr>\n",
       "    <tr>\n",
       "      <th>2</th>\n",
       "      <td>News</td>\n",
       "      <td>Business</td>\n",
       "      <td>Business Day</td>\n",
       "      <td>Lauren Laughlin</td>\n",
       "      <td>banker may suffer decline dealmaking also take...</td>\n",
       "    </tr>\n",
       "    <tr>\n",
       "      <th>3</th>\n",
       "      <td>News</td>\n",
       "      <td>National</td>\n",
       "      <td>U.S.</td>\n",
       "      <td>Damien Cave</td>\n",
       "      <td>florida scale back purchase sugar company land...</td>\n",
       "    </tr>\n",
       "    <tr>\n",
       "      <th>4</th>\n",
       "      <td>News</td>\n",
       "      <td>Business</td>\n",
       "      <td>Technology</td>\n",
       "      <td>Bloomberg News</td>\n",
       "      <td>taketwo interactive maker grand theft auto acc...</td>\n",
       "    </tr>\n",
       "  </tbody>\n",
       "</table>\n",
       "</div>"
      ],
      "text/plain": [
       "  type_of_material            news_desk   section_name             author  \\\n",
       "0             News  Lifestyle & Leisure  Home & Garden     Penelope Green   \n",
       "1             News  Lifestyle & Leisure  Home & Garden  Marianne Rohrlich   \n",
       "2             News             Business   Business Day    Lauren Laughlin   \n",
       "3             News             National           U.S.        Damien Cave   \n",
       "4             News             Business     Technology     Bloomberg News   \n",
       "\n",
       "                                   preprocessed_text  \n",
       "0  point view   prescriptive descriptive definite...  \n",
       "1  ten highend design gallery offer     percent m...  \n",
       "2  banker may suffer decline dealmaking also take...  \n",
       "3  florida scale back purchase sugar company land...  \n",
       "4  taketwo interactive maker grand theft auto acc...  "
      ]
     },
     "execution_count": 8,
     "metadata": {},
     "output_type": "execute_result"
    }
   ],
   "source": [
    "df2.head()"
   ]
  },
  {
   "cell_type": "code",
   "execution_count": 9,
   "id": "f1d07d62",
   "metadata": {},
   "outputs": [],
   "source": [
    "df_filter = df2[[\"preprocessed_text\"]]"
   ]
  },
  {
   "cell_type": "code",
   "execution_count": 10,
   "id": "e0756df5",
   "metadata": {},
   "outputs": [
    {
     "name": "stderr",
     "output_type": "stream",
     "text": [
      "C:\\Users\\qfu88\\AppData\\Local\\Temp\\ipykernel_10648\\1540151523.py:11: SettingWithCopyWarning: \n",
      "A value is trying to be set on a copy of a slice from a DataFrame.\n",
      "Try using .loc[row_indexer,col_indexer] = value instead\n",
      "\n",
      "See the caveats in the documentation: https://pandas.pydata.org/pandas-docs/stable/user_guide/indexing.html#returning-a-view-versus-a-copy\n",
      "  df_filter['preprocessed_text'] = df_filter['preprocessed_text'].apply(lambda text: remove_common_words(text, common_words_to_remove))\n"
     ]
    }
   ],
   "source": [
    "#remove common words\n",
    "#list of common words to remove\n",
    "common_words_to_remove = [\"new\", \"york\", \"year\", \"city\"]\n",
    "\n",
    "# define a function to remove those words from \"preprocessed_text\" feature\n",
    "def remove_common_words(text, words_to_remove):\n",
    "    tokens = text.split()  \n",
    "    filtered_tokens = [token for token in tokens if token not in words_to_remove]\n",
    "    return ' '.join(filtered_tokens)  \n",
    "\n",
    "df_filter['preprocessed_text'] = df_filter['preprocessed_text'].apply(lambda text: remove_common_words(text, common_words_to_remove))"
   ]
  },
  {
   "cell_type": "code",
   "execution_count": 11,
   "id": "a63c84b5",
   "metadata": {},
   "outputs": [],
   "source": [
    "#vectorized the newly preprocessed data\n",
    "\n",
    "tfidf_vect = TfidfVectorizer(max_df=0.95, min_df=2, max_features=1000)\n",
    "\n",
    "# apply it to preprocessed text\n",
    "tfidf_matrix = tfidf_vect.fit_transform(df_filter['preprocessed_text'])"
   ]
  },
  {
   "cell_type": "code",
   "execution_count": 12,
   "id": "f1bcc09d",
   "metadata": {},
   "outputs": [],
   "source": [
    "tfidf_df = pd.DataFrame(tfidf_matrix.toarray(), columns=tfidf_vect.get_feature_names_out())\n"
   ]
  },
  {
   "cell_type": "code",
   "execution_count": 16,
   "id": "137659f2",
   "metadata": {},
   "outputs": [],
   "source": [
    "# Load the dominant_topic array\n",
    "with open('out/dominant_topic_labels.pkl', 'rb') as f:\n",
    "    dominant_topic = pickle.load(f)\n",
    "\n",
    "\n"
   ]
  },
  {
   "cell_type": "code",
   "execution_count": 17,
   "id": "8bc562a0",
   "metadata": {},
   "outputs": [],
   "source": [
    "## add topic label\n",
    "# add topic label column\n",
    "tfidf_df['topic_label'] = dominant_topic\n",
    "\n",
    "topic_names = {0: 'Lifestyle', 1: 'Events', 2: 'Politics'}\n",
    "\n",
    "tfidf_df['topic_label'] = tfidf_df['topic_label'].map(topic_names)\n"
   ]
  },
  {
   "cell_type": "code",
   "execution_count": 19,
   "id": "f94ed113",
   "metadata": {},
   "outputs": [
    {
     "data": {
      "text/html": [
       "<div>\n",
       "<style scoped>\n",
       "    .dataframe tbody tr th:only-of-type {\n",
       "        vertical-align: middle;\n",
       "    }\n",
       "\n",
       "    .dataframe tbody tr th {\n",
       "        vertical-align: top;\n",
       "    }\n",
       "\n",
       "    .dataframe thead th {\n",
       "        text-align: right;\n",
       "    }\n",
       "</style>\n",
       "<table border=\"1\" class=\"dataframe\">\n",
       "  <thead>\n",
       "    <tr style=\"text-align: right;\">\n",
       "      <th></th>\n",
       "      <th>abortion</th>\n",
       "      <th>abuse</th>\n",
       "      <th>accident</th>\n",
       "      <th>accord</th>\n",
       "      <th>accuse</th>\n",
       "      <th>across</th>\n",
       "      <th>act</th>\n",
       "      <th>action</th>\n",
       "      <th>actor</th>\n",
       "      <th>actress</th>\n",
       "      <th>...</th>\n",
       "      <th>would</th>\n",
       "      <th>write</th>\n",
       "      <th>writer</th>\n",
       "      <th>writing</th>\n",
       "      <th>yankee</th>\n",
       "      <th>yankees</th>\n",
       "      <th>yearold</th>\n",
       "      <th>yet</th>\n",
       "      <th>young</th>\n",
       "      <th>topic_label</th>\n",
       "    </tr>\n",
       "  </thead>\n",
       "  <tbody>\n",
       "    <tr>\n",
       "      <th>0</th>\n",
       "      <td>0.0</td>\n",
       "      <td>0.0</td>\n",
       "      <td>0.0</td>\n",
       "      <td>0.0</td>\n",
       "      <td>0.0</td>\n",
       "      <td>0.0</td>\n",
       "      <td>0.0</td>\n",
       "      <td>0.0</td>\n",
       "      <td>0.0</td>\n",
       "      <td>0.0</td>\n",
       "      <td>...</td>\n",
       "      <td>0.0</td>\n",
       "      <td>0.0</td>\n",
       "      <td>0.0</td>\n",
       "      <td>0.0</td>\n",
       "      <td>0.0</td>\n",
       "      <td>0.0</td>\n",
       "      <td>0.0</td>\n",
       "      <td>0.0</td>\n",
       "      <td>0.0</td>\n",
       "      <td>Lifestyle</td>\n",
       "    </tr>\n",
       "  </tbody>\n",
       "</table>\n",
       "<p>1 rows × 1001 columns</p>\n",
       "</div>"
      ],
      "text/plain": [
       "   abortion  abuse  accident  accord  accuse  across  act  action  actor  \\\n",
       "0       0.0    0.0       0.0     0.0     0.0     0.0  0.0     0.0    0.0   \n",
       "\n",
       "   actress  ...  would  write  writer  writing  yankee  yankees  yearold  yet  \\\n",
       "0      0.0  ...    0.0    0.0     0.0      0.0     0.0      0.0      0.0  0.0   \n",
       "\n",
       "   young  topic_label  \n",
       "0    0.0    Lifestyle  \n",
       "\n",
       "[1 rows x 1001 columns]"
      ]
     },
     "execution_count": 19,
     "metadata": {},
     "output_type": "execute_result"
    }
   ],
   "source": [
    "tfidf_df.head(1)"
   ]
  },
  {
   "cell_type": "code",
   "execution_count": 20,
   "id": "01f1a443",
   "metadata": {},
   "outputs": [],
   "source": [
    "# train test split\n",
    "features = tfidf_df.drop('topic_label', axis = 1)\n",
    "label = tfidf_df['topic_label']"
   ]
  },
  {
   "cell_type": "code",
   "execution_count": 35,
   "id": "7964e3f5",
   "metadata": {},
   "outputs": [],
   "source": [
    "#Best Performing Model\n",
    "model2 = RandomForestClassifier(random_state = 42)"
   ]
  },
  {
   "cell_type": "markdown",
   "id": "206768cc",
   "metadata": {},
   "source": [
    "### Evaluate the Model on Reduced featurs Data"
   ]
  },
  {
   "cell_type": "code",
   "execution_count": 36,
   "id": "32f9856f",
   "metadata": {},
   "outputs": [
    {
     "name": "stdout",
     "output_type": "stream",
     "text": [
      "Mean CV Score: 0.9891558309570868\n"
     ]
    }
   ],
   "source": [
    "\n",
    "mean_cv_score = cross_val_score(model2, features, label, cv = 5, scoring = 'roc_auc_ovr').mean()\n",
    "print('Mean CV Score:', mean_cv_score)"
   ]
  },
  {
   "cell_type": "markdown",
   "id": "912c4cd6",
   "metadata": {},
   "source": [
    "### Drop top 20 features"
   ]
  },
  {
   "cell_type": "code",
   "execution_count": 46,
   "id": "5527a4b5",
   "metadata": {},
   "outputs": [],
   "source": [
    "# Features to drop \n",
    "features_to_drop = top_features[-20:]\n",
    "\n",
    "# Drop the top 10 features from the DataFrame\n",
    "df_dropped = df.drop(columns=features_to_drop)\n"
   ]
  },
  {
   "cell_type": "code",
   "execution_count": 42,
   "id": "112ddcad",
   "metadata": {},
   "outputs": [],
   "source": [
    "# train test split\n",
    "features2 = df_dropped.drop('topic_label', axis = 1)\n",
    "label2 = df_dropped['topic_label']"
   ]
  },
  {
   "cell_type": "code",
   "execution_count": 43,
   "id": "9e8eeca1",
   "metadata": {},
   "outputs": [],
   "source": [
    "#Best Performing Model\n",
    "model3 = RandomForestClassifier(random_state = 42)"
   ]
  },
  {
   "cell_type": "code",
   "execution_count": 44,
   "id": "ecae9d5f",
   "metadata": {},
   "outputs": [
    {
     "name": "stdout",
     "output_type": "stream",
     "text": [
      "Mean CV Score: 0.9634481574686948\n"
     ]
    }
   ],
   "source": [
    "mean_cv_score = cross_val_score(model3, features2, label2, cv = 5, scoring = 'roc_auc_ovr').mean()\n",
    "print('Mean CV Score:', mean_cv_score)"
   ]
  },
  {
   "cell_type": "markdown",
   "id": "5ede3f0d",
   "metadata": {},
   "source": [
    "### Drop top 10 features from tfidf_df"
   ]
  },
  {
   "cell_type": "code",
   "execution_count": 48,
   "id": "bbfce04b",
   "metadata": {},
   "outputs": [],
   "source": [
    "# Features to drop \n",
    "features_to_drop = top_features[-10:]\n",
    "\n",
    "# Drop the top 10 features from the DataFrame\n",
    "tfidf_df_dropped = tfidf_df.drop(columns=features_to_drop)"
   ]
  },
  {
   "cell_type": "code",
   "execution_count": 49,
   "id": "559705bb",
   "metadata": {},
   "outputs": [],
   "source": [
    "# train test split\n",
    "features3 = tfidf_df_dropped.drop('topic_label', axis = 1)\n",
    "label3 = tfidf_df_dropped['topic_label']"
   ]
  },
  {
   "cell_type": "code",
   "execution_count": 51,
   "id": "e774a90f",
   "metadata": {},
   "outputs": [],
   "source": [
    "#Best Performing Model\n",
    "model4 = RandomForestClassifier(random_state = 42)"
   ]
  },
  {
   "cell_type": "code",
   "execution_count": 52,
   "id": "52f50ad4",
   "metadata": {},
   "outputs": [
    {
     "name": "stdout",
     "output_type": "stream",
     "text": [
      "Mean CV Score: 0.9656786114014435\n"
     ]
    }
   ],
   "source": [
    "mean_cv_score = cross_val_score(model4, features3, label3, cv = 5, scoring = 'roc_auc_ovr').mean()\n",
    "print('Mean CV Score:', mean_cv_score)"
   ]
  },
  {
   "cell_type": "code",
   "execution_count": null,
   "id": "93c684ff",
   "metadata": {},
   "outputs": [],
   "source": []
  }
 ],
 "metadata": {
  "kernelspec": {
   "display_name": "Python 3 (ipykernel)",
   "language": "python",
   "name": "python3"
  },
  "language_info": {
   "codemirror_mode": {
    "name": "ipython",
    "version": 3
   },
   "file_extension": ".py",
   "mimetype": "text/x-python",
   "name": "python",
   "nbconvert_exporter": "python",
   "pygments_lexer": "ipython3",
   "version": "3.8.13"
  },
  "toc": {
   "base_numbering": 1,
   "nav_menu": {},
   "number_sections": false,
   "sideBar": true,
   "skip_h1_title": false,
   "title_cell": "Table of Contents",
   "title_sidebar": "Contents",
   "toc_cell": false,
   "toc_position": {},
   "toc_section_display": true,
   "toc_window_display": false
  }
 },
 "nbformat": 4,
 "nbformat_minor": 5
}
