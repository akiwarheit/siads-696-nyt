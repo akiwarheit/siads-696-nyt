{
 "cells": [
  {
   "cell_type": "code",
   "execution_count": 1,
   "metadata": {},
   "outputs": [
    {
     "name": "stdout",
     "output_type": "stream",
     "text": [
      "Requirement already satisfied: gensim in c:\\users\\qfu88\\anaconda3\\envs\\dojo-env\\lib\\site-packages (4.3.2)Note: you may need to restart the kernel to use updated packages.\n",
      "\n",
      "Requirement already satisfied: numpy>=1.18.5 in c:\\users\\qfu88\\anaconda3\\envs\\dojo-env\\lib\\site-packages (from gensim) (1.23.5)\n",
      "Requirement already satisfied: scipy>=1.7.0 in c:\\users\\qfu88\\appdata\\roaming\\python\\python38\\site-packages (from gensim) (1.10.1)\n",
      "Requirement already satisfied: smart-open>=1.8.1 in c:\\users\\qfu88\\anaconda3\\envs\\dojo-env\\lib\\site-packages (from gensim) (6.4.0)\n"
     ]
    }
   ],
   "source": [
    "pip install gensim\n"
   ]
  },
  {
   "cell_type": "code",
   "execution_count": 2,
   "metadata": {},
   "outputs": [],
   "source": [
    "from scipy import sparse\n",
    "from sklearn.decomposition import LatentDirichletAllocation\n",
    "import numpy as np\n",
    "import pandas as pd\n",
    "from gensim import corpora, models\n",
    "from gensim.models.coherencemodel import CoherenceModel\n",
    "from gensim.matutils import Sparse2Corpus"
   ]
  },
  {
   "cell_type": "code",
   "execution_count": 3,
   "metadata": {},
   "outputs": [],
   "source": [
    "df = pd.read_csv('processced text.csv')\n"
   ]
  },
  {
   "cell_type": "markdown",
   "metadata": {},
   "source": [
    "### Preprocessing the text for calculating Coherence score"
   ]
  },
  {
   "cell_type": "code",
   "execution_count": 4,
   "metadata": {},
   "outputs": [],
   "source": [
    "df['preprocessed_text'] = df['preprocessed_text'].apply(lambda x: x.split())\n",
    "texts = df['preprocessed_text'].tolist()\n",
    "# create a gensim dictionary from the texts\n",
    "dictionary = corpora.Dictionary(texts)\n",
    "#create a gensim corpus\n",
    "corpus = [dictionary.doc2bow(text) for text in texts]"
   ]
  },
  {
   "cell_type": "markdown",
   "metadata": {},
   "source": [
    "### Model"
   ]
  },
  {
   "cell_type": "code",
   "execution_count": 5,
   "metadata": {},
   "outputs": [],
   "source": [
    "bow_matrix = sparse.load_npz(\"bow_matrix.npz\")"
   ]
  },
  {
   "cell_type": "code",
   "execution_count": 6,
   "metadata": {},
   "outputs": [],
   "source": [
    "num_topics = 10\n",
    "lda_model = LatentDirichletAllocation(n_components=num_topics, max_iter=50, random_state=42)"
   ]
  },
  {
   "cell_type": "code",
   "execution_count": 7,
   "metadata": {},
   "outputs": [
    {
     "data": {
      "text/html": [
       "<style>#sk-container-id-1 {color: black;background-color: white;}#sk-container-id-1 pre{padding: 0;}#sk-container-id-1 div.sk-toggleable {background-color: white;}#sk-container-id-1 label.sk-toggleable__label {cursor: pointer;display: block;width: 100%;margin-bottom: 0;padding: 0.3em;box-sizing: border-box;text-align: center;}#sk-container-id-1 label.sk-toggleable__label-arrow:before {content: \"▸\";float: left;margin-right: 0.25em;color: #696969;}#sk-container-id-1 label.sk-toggleable__label-arrow:hover:before {color: black;}#sk-container-id-1 div.sk-estimator:hover label.sk-toggleable__label-arrow:before {color: black;}#sk-container-id-1 div.sk-toggleable__content {max-height: 0;max-width: 0;overflow: hidden;text-align: left;background-color: #f0f8ff;}#sk-container-id-1 div.sk-toggleable__content pre {margin: 0.2em;color: black;border-radius: 0.25em;background-color: #f0f8ff;}#sk-container-id-1 input.sk-toggleable__control:checked~div.sk-toggleable__content {max-height: 200px;max-width: 100%;overflow: auto;}#sk-container-id-1 input.sk-toggleable__control:checked~label.sk-toggleable__label-arrow:before {content: \"▾\";}#sk-container-id-1 div.sk-estimator input.sk-toggleable__control:checked~label.sk-toggleable__label {background-color: #d4ebff;}#sk-container-id-1 div.sk-label input.sk-toggleable__control:checked~label.sk-toggleable__label {background-color: #d4ebff;}#sk-container-id-1 input.sk-hidden--visually {border: 0;clip: rect(1px 1px 1px 1px);clip: rect(1px, 1px, 1px, 1px);height: 1px;margin: -1px;overflow: hidden;padding: 0;position: absolute;width: 1px;}#sk-container-id-1 div.sk-estimator {font-family: monospace;background-color: #f0f8ff;border: 1px dotted black;border-radius: 0.25em;box-sizing: border-box;margin-bottom: 0.5em;}#sk-container-id-1 div.sk-estimator:hover {background-color: #d4ebff;}#sk-container-id-1 div.sk-parallel-item::after {content: \"\";width: 100%;border-bottom: 1px solid gray;flex-grow: 1;}#sk-container-id-1 div.sk-label:hover label.sk-toggleable__label {background-color: #d4ebff;}#sk-container-id-1 div.sk-serial::before {content: \"\";position: absolute;border-left: 1px solid gray;box-sizing: border-box;top: 0;bottom: 0;left: 50%;z-index: 0;}#sk-container-id-1 div.sk-serial {display: flex;flex-direction: column;align-items: center;background-color: white;padding-right: 0.2em;padding-left: 0.2em;position: relative;}#sk-container-id-1 div.sk-item {position: relative;z-index: 1;}#sk-container-id-1 div.sk-parallel {display: flex;align-items: stretch;justify-content: center;background-color: white;position: relative;}#sk-container-id-1 div.sk-item::before, #sk-container-id-1 div.sk-parallel-item::before {content: \"\";position: absolute;border-left: 1px solid gray;box-sizing: border-box;top: 0;bottom: 0;left: 50%;z-index: -1;}#sk-container-id-1 div.sk-parallel-item {display: flex;flex-direction: column;z-index: 1;position: relative;background-color: white;}#sk-container-id-1 div.sk-parallel-item:first-child::after {align-self: flex-end;width: 50%;}#sk-container-id-1 div.sk-parallel-item:last-child::after {align-self: flex-start;width: 50%;}#sk-container-id-1 div.sk-parallel-item:only-child::after {width: 0;}#sk-container-id-1 div.sk-dashed-wrapped {border: 1px dashed gray;margin: 0 0.4em 0.5em 0.4em;box-sizing: border-box;padding-bottom: 0.4em;background-color: white;}#sk-container-id-1 div.sk-label label {font-family: monospace;font-weight: bold;display: inline-block;line-height: 1.2em;}#sk-container-id-1 div.sk-label-container {text-align: center;}#sk-container-id-1 div.sk-container {/* jupyter's `normalize.less` sets `[hidden] { display: none; }` but bootstrap.min.css set `[hidden] { display: none !important; }` so we also need the `!important` here to be able to override the default hidden behavior on the sphinx rendered scikit-learn.org. See: https://github.com/scikit-learn/scikit-learn/issues/21755 */display: inline-block !important;position: relative;}#sk-container-id-1 div.sk-text-repr-fallback {display: none;}</style><div id=\"sk-container-id-1\" class=\"sk-top-container\"><div class=\"sk-text-repr-fallback\"><pre>LatentDirichletAllocation(max_iter=50, random_state=42)</pre><b>In a Jupyter environment, please rerun this cell to show the HTML representation or trust the notebook. <br />On GitHub, the HTML representation is unable to render, please try loading this page with nbviewer.org.</b></div><div class=\"sk-container\" hidden><div class=\"sk-item\"><div class=\"sk-estimator sk-toggleable\"><input class=\"sk-toggleable__control sk-hidden--visually\" id=\"sk-estimator-id-1\" type=\"checkbox\" checked><label for=\"sk-estimator-id-1\" class=\"sk-toggleable__label sk-toggleable__label-arrow\">LatentDirichletAllocation</label><div class=\"sk-toggleable__content\"><pre>LatentDirichletAllocation(max_iter=50, random_state=42)</pre></div></div></div></div></div>"
      ],
      "text/plain": [
       "LatentDirichletAllocation(max_iter=50, random_state=42)"
      ]
     },
     "execution_count": 7,
     "metadata": {},
     "output_type": "execute_result"
    }
   ],
   "source": [
    "lda_model.fit(bow_matrix)"
   ]
  },
  {
   "cell_type": "code",
   "execution_count": 8,
   "metadata": {},
   "outputs": [],
   "source": [
    "import pickle\n",
    "\n",
    "with open('out/count_vectorizer.pkl', 'rb') as f:\n",
    "    vectorizer = pickle.load(f)\n",
    "    \n",
    "feature_names = vectorizer.get_feature_names_out()"
   ]
  },
  {
   "cell_type": "code",
   "execution_count": 9,
   "metadata": {
    "scrolled": true
   },
   "outputs": [
    {
     "name": "stdout",
     "output_type": "stream",
     "text": [
      "Topic 1:\n",
      "new, york, city, year, nyc, mayor, ny, child, jersey, theater, brooklyn, restaurant, manhattan, island, state, connecticut, food, long, number, street, bronx, michael, day, play, school, open, week, blasio, lottery, bloomberg, say, art, square, guide, mental, family, come, public, event, citys, parent, center, look, cultural, times, east, disorder, old, childhood, yearold\n",
      "Topic 2:\n",
      "new, city, york, coronavirus, year, real, state, estate, home, housing, travel, ny, ncov, park, space, area, building, safety, hurricane, residential, gas, water, change, oil, andrew, global, cuomo, energy, center, climate, pandemic, long, work, hotel, say, time, traffic, india, manhattan, national, week, vacation, accident, storm, service, million, leave, warming, road, administration\n",
      "Topic 3:\n",
      "united, states, trump, government, president, politic, election, party, donald, state, washington, house, republican, obama, international, say, presidential, ukraine, democratic, senate, biden, military, russia, force, defense, leader, relation, campaign, russian, political, tennis, open, national, north, year, american, israel, nuclear, jr, barack, official, country, soccer, new, white, mr, power, voter, iran, vote\n",
      "Topic 4:\n",
      "die, music, art, woman, correction, editor, fashion, death, museum, mr, appear, print, los, sexual, make, angeles, article, artist, work, reader, obituary, say, girl, time, apparel, year, news, magazine, design, sex, respond, designer, calif, world, medium, harassment, young, opera, like, image, obituarie, video, live, lead, recent, star, life, sunday, pop, newspaper\n",
      "Topic 5:\n",
      "book, china, literature, south, black, world, new, novel, people, golf, story, king, author, woman, hong, kong, right, chinese, life, man, personal, type, profile, war, race, korea, writer, america, content, australia, live, history, brazil, day, write, romney, young, country, come, group, human, good, make, home, north, elizabeth, year, american, mitt, writing\n",
      "Topic 6:\n",
      "health, united, company, say, federal, states, care, job, day, economic, government, labor, plan, economy, financial, industry, world, bank, market, quotation, trade, tax, crisis, pay, budget, year, billion, state, worker, million, make, business, drug, insurance, rate, week, cut, new, money, european, need, people, law, condition, union, trend, service, act, report, public\n",
      "Topic 7:\n",
      "college, university, new, game, team, school, football, basketball, baseball, year, league, national, york, player, sport, season, coach, medium, news, education, student, world, win, computer, met, cup, time, play, run, internet, make, bowl, yankee, social, championship, advertising, playoff, olympic, fan, final, state, san, say, race, word, google, miami, apple, major, field\n",
      "Topic 8:\n",
      "movie, tv, television, puzzle, time, program, good, make, like, bee, day, today, film, crossword, story, night, life, late, season, feel, great, actor, week, love, comedy, welcome, documentary, look, come, know, write, saturday, year, game, spelling, let, way, watch, series, episode, stephen, animal, star, tell, netflix, live, thing, spell, think, help\n",
      "Topic 9:\n",
      "police, say, murder, department, people, kill, man, immigration, war, death, crime, charge, official, black, officer, attempt, case, shooting, prison, american, justice, die, attack, federal, afghanistan, defense, right, force, trial, year, united, abuse, civil, criminal, states, arrest, military, law, protest, drug, fraud, shoot, lawyer, service, prosecutor, member, border, prisoner, misconduct, emigration\n",
      "Topic 10:\n",
      "wedding, marry, engagement, court, couple, church, officiate, supreme, meet, saturday, dr, bride, law, new, catholic, abortion, ceremony, rev, judge, minister, marriage, friend, son, roman, groom, perform, priest, daughter, event, david, life, john, rabbi, york, st, jr, michael, university, texas, ny, evening, decision, family, robert, woman, justice, universal, date, work, space\n"
     ]
    }
   ],
   "source": [
    "\n",
    "\n",
    "num_top_words = 50\n",
    "\n",
    "topic_words = []\n",
    "for topic_idx, topic in enumerate(lda_model.components_):\n",
    "    print(f\"Topic {topic_idx + 1}:\")\n",
    "    top_words_idx = topic.argsort()[:-num_top_words - 1:-1]\n",
    "    top_words = [feature_names[i] for i in top_words_idx]\n",
    "    print(\", \".join(top_words))\n",
    "    topic_words.append(top_words)"
   ]
  },
  {
   "cell_type": "markdown",
   "metadata": {},
   "source": [
    "### Topic Coherence Measurement "
   ]
  },
  {
   "cell_type": "code",
   "execution_count": null,
   "metadata": {},
   "outputs": [],
   "source": [
    "id2word = {i: token for i, token in enumerate(feature_names)}\n",
    "\n",
    "num_top_words = 50\n",
    "topics = []\n",
    "for topic_idx, topic in enumerate(lda_model.components_):\n",
    "    top_features_ind = topic.argsort()[:-num_top_words - 1:-1]\n",
    "    topic_words2 = [feature_names[i] for i in top_features_ind]\n",
    "    topics.append(topic_words2)\n",
    "    \n",
    "\n",
    "# compute Coherence Score \n",
    "coherence_model_lda = CoherenceModel(topics=topics, texts=texts, dictionary=dictionary, coherence='c_v')\n",
    "coherence_lda = coherence_model_lda.get_coherence()\n",
    "print('Coherence Score (C_v): ', coherence_lda)"
   ]
  },
  {
   "cell_type": "markdown",
   "metadata": {},
   "source": [
    "# Assessing how similar (or dissimilar each topic is)"
   ]
  },
  {
   "cell_type": "code",
   "execution_count": null,
   "metadata": {},
   "outputs": [],
   "source": [
    "bow = vectorizer.transform([' '.join(words) for words in topic_words])"
   ]
  },
  {
   "cell_type": "code",
   "execution_count": null,
   "metadata": {},
   "outputs": [],
   "source": [
    "from sklearn.metrics.pairwise import cosine_similarity\n",
    "import numpy as np\n",
    "\n",
    "similarity_matrix = []\n",
    "\n",
    "for topic_1 in bow:\n",
    "    for topic_2 in bow:\n",
    "        similarity_matrix.append(cosine_similarity(topic_1, topic_2)[0][0])\n",
    "\n",
    "similarity_matrix = np.matrix(similarity_matrix).reshape(10, 10)\n",
    "\n",
    "similarity_matrix"
   ]
  },
  {
   "cell_type": "code",
   "execution_count": null,
   "metadata": {},
   "outputs": [],
   "source": [
    "import seaborn as sns\n",
    "import matplotlib.pyplot as plt\n",
    "\n",
    "plt.figure(figsize=(10, 8))\n",
    "# plt.imshow(, cmap='YlGnBu', interpolation='nearest')\n",
    "sns.heatmap(similarity_matrix.reshape((10, 10)), annot=True, cmap=\"YlGnBu\", fmt=\".2f\")\n",
    "\n",
    "plt.xticks(np.arange(10), np.arange(1, 11))\n",
    "plt.yticks(np.arange(10), np.arange(1, 11))\n",
    "\n",
    "plt.title(\"Topic Similarity\")\n",
    "plt.show()\n"
   ]
  },
  {
   "cell_type": "markdown",
   "metadata": {},
   "source": [
    "### Visualizing the distribution of articles across the 10 topics"
   ]
  },
  {
   "cell_type": "code",
   "execution_count": null,
   "metadata": {
    "scrolled": true
   },
   "outputs": [],
   "source": [
    "\n",
    "# get document-topic distribution\n",
    "doc_topic_dist = lda_model.transform(bow_matrix)\n",
    "\n",
    "# counts how many documents have their highest probability in each topic\n",
    "topic_counts = np.argmax(doc_topic_dist, axis=1)\n",
    "topic_counts = np.bincount(topic_counts, minlength=lda_model.n_components)\n",
    "\n",
    "# Step 3: Visualize the Distribution\n",
    "plt.figure(figsize=(12, 6))\n",
    "plt.bar(range(lda_model.n_components), topic_counts, tick_label=['Topic {}'.format(i+1) for i in range(lda_model.n_components)])\n",
    "plt.xlabel('Topic')\n",
    "plt.ylabel('Number of Articles')\n",
    "plt.title('Distribution of Articles Across Topics')\n",
    "plt.xticks(rotation=45)\n",
    "plt.show()\n"
   ]
  },
  {
   "cell_type": "markdown",
   "metadata": {},
   "source": [
    "### Hyperparameter Tuning"
   ]
  },
  {
   "cell_type": "markdown",
   "metadata": {},
   "source": [
    "# Save the pickle for future use (i.e. for a new notebook to use classification)"
   ]
  },
  {
   "cell_type": "code",
   "execution_count": null,
   "metadata": {},
   "outputs": [],
   "source": [
    "import pickle\n",
    "\n",
    "with open('out/lda_model.pkl', 'wb') as f:\n",
    "    pickle.dump(lda_model, f)"
   ]
  }
 ],
 "metadata": {
  "kernelspec": {
   "display_name": "Python 3 (ipykernel)",
   "language": "python",
   "name": "python3"
  },
  "language_info": {
   "codemirror_mode": {
    "name": "ipython",
    "version": 3
   },
   "file_extension": ".py",
   "mimetype": "text/x-python",
   "name": "python",
   "nbconvert_exporter": "python",
   "pygments_lexer": "ipython3",
   "version": "3.8.13"
  },
  "toc": {
   "base_numbering": 1,
   "nav_menu": {},
   "number_sections": false,
   "sideBar": true,
   "skip_h1_title": false,
   "title_cell": "Table of Contents",
   "title_sidebar": "Contents",
   "toc_cell": false,
   "toc_position": {},
   "toc_section_display": true,
   "toc_window_display": false
  }
 },
 "nbformat": 4,
 "nbformat_minor": 2
}
