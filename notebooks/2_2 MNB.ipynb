{
 "cells": [
  {
   "cell_type": "markdown",
   "metadata": {},
   "source": [
    "# Finding the Best Multinomial Naive Bayes Classifier for Topic Classification\n",
    "\n",
    "The provided notebook aims to find the best Multinomial Naive Bayes (MNB) classifier for topic classification using GridSearchCV."
   ]
  },
  {
   "cell_type": "markdown",
   "metadata": {},
   "source": [
    "# Training using the original dataset"
   ]
  },
  {
   "cell_type": "code",
   "execution_count": 24,
   "metadata": {},
   "outputs": [],
   "source": [
    "import pandas as pd\n",
    "from sklearn.model_selection import train_test_split\n",
    "import pickle\n",
    "\n",
    "df = pd.read_pickle(\"out/df_final.pkl\")\n",
    "\n",
    "df\n",
    "\n",
    "X = df.drop(columns=['topic_label'])\n",
    "\n",
    "y = df['topic_label']\n",
    "\n",
    "X_train, X_test, y_train, y_test = train_test_split(X, y, random_state=42)"
   ]
  },
  {
   "cell_type": "code",
   "execution_count": 25,
   "metadata": {},
   "outputs": [
    {
     "name": "stdout",
     "output_type": "stream",
     "text": [
      "Confusion Matrix:\n",
      " [[ 107    7    8]\n",
      " [   4 1064  170]\n",
      " [   0   60  346]]\n",
      "Classification Report:\n",
      "               precision    recall  f1-score   support\n",
      "\n",
      "      Events       0.96      0.88      0.92       122\n",
      "   Lifestyle       0.94      0.86      0.90      1238\n",
      "    Politics       0.66      0.85      0.74       406\n",
      "\n",
      "    accuracy                           0.86      1766\n",
      "   macro avg       0.86      0.86      0.85      1766\n",
      "weighted avg       0.88      0.86      0.86      1766\n",
      "\n"
     ]
    }
   ],
   "source": [
    "from sklearn.pipeline import Pipeline\n",
    "from sklearn.naive_bayes import MultinomialNB\n",
    "from sklearn.metrics import classification_report, confusion_matrix\n",
    "\n",
    "pipeline = Pipeline([\n",
    "    ('clf', MultinomialNB())\n",
    "])\n",
    "\n",
    "pipeline.fit(X_train, y_train)\n",
    "\n",
    "\n",
    "# predict the labels for the test data\n",
    "y_pred_default = pipeline.predict(X_test)\n",
    "conf_matrix = confusion_matrix(y_test, y_pred_default)\n",
    "class_report = classification_report(y_test, y_pred_default)\n",
    "print(\"Confusion Matrix:\\n\", conf_matrix)\n",
    "print(\"Classification Report:\\n\", class_report)\n",
    "\n",
    "params = pipeline.get_params()\n",
    "\n",
    "params, pipeline.score(X_test, y_test)\n",
    "\n",
    "with open(\"out/mnb_original_dataset.pkl\", \"wb\") as f:\n",
    "    pickle.dump(pipeline.named_steps['clf'], f)"
   ]
  },
  {
   "cell_type": "markdown",
   "metadata": {},
   "source": [
    "# Training using the stratified dataset"
   ]
  },
  {
   "cell_type": "code",
   "execution_count": 26,
   "metadata": {},
   "outputs": [],
   "source": [
    "import pickle\n",
    "\n",
    "with open(\"supervised_train_test_data/train_test_data.pkl\", \"rb\") as f:\n",
    "    data = pickle.load(f)\n",
    "\n",
    "X_train = data['X_train']\n",
    "X_test = data['X_test']\n",
    "y_train = data['y_train']\n",
    "y_test = data['y_test']"
   ]
  },
  {
   "cell_type": "code",
   "execution_count": 27,
   "metadata": {},
   "outputs": [
    {
     "name": "stdout",
     "output_type": "stream",
     "text": [
      "Confusion Matrix:\n",
      " [[ 77   7   5]\n",
      " [  6 830 131]\n",
      " [  0  52 305]]\n",
      "Classification Report:\n",
      "               precision    recall  f1-score   support\n",
      "\n",
      "      Events       0.93      0.87      0.90        89\n",
      "   Lifestyle       0.93      0.86      0.89       967\n",
      "    Politics       0.69      0.85      0.76       357\n",
      "\n",
      "    accuracy                           0.86      1413\n",
      "   macro avg       0.85      0.86      0.85      1413\n",
      "weighted avg       0.87      0.86      0.86      1413\n",
      "\n"
     ]
    }
   ],
   "source": [
    "from sklearn.pipeline import Pipeline\n",
    "from sklearn.naive_bayes import MultinomialNB\n",
    "from sklearn.metrics import classification_report, confusion_matrix\n",
    "\n",
    "pipeline = Pipeline([\n",
    "    ('clf', MultinomialNB())\n",
    "])\n",
    "\n",
    "pipeline.fit(X_train, y_train)\n",
    "\n",
    "y_pred_default = pipeline.predict(X_test)\n",
    "conf_matrix = confusion_matrix(y_test, y_pred_default)\n",
    "class_report = classification_report(y_test, y_pred_default)\n",
    "print(\"Confusion Matrix:\\n\", conf_matrix)\n",
    "print(\"Classification Report:\\n\", class_report)\n",
    "\n",
    "params = pipeline.get_params()\n",
    "\n",
    "params, pipeline.score(X_test, y_test)\n",
    "\n",
    "with open(\"out/mnb_stratified_dataset.pkl\", \"wb\") as f:\n",
    "    pickle.dump(pipeline.named_steps['clf'], f)"
   ]
  },
  {
   "cell_type": "markdown",
   "metadata": {},
   "source": [
    "# Results\n",
    "\n",
    "The first model, trained on the original dataset using a regular train-test split, achieved an accuracy score of approximately `85.90%`. This suggests that the model generalized reasonably well to unseen data and effectively learned patterns from the training data.\n",
    "\n",
    "The second model, trained on a stratified dataset with a train-test split that maintains the same distribution of class labels as the original dataset, achieved a slightly lower accuracy score of around `85.77%`. Despite the minor decrease in accuracy compared to the first model, the difference is not substantial, indicating that the model trained on the stratified dataset still performs well.\n",
    "\n",
    "# Summary\n",
    "\n",
    "Both models demonstrate strong performance, with the model trained on the original dataset slightly outperforming the one trained on the stratified dataset. The difference in accuracy between the two models is minimal, suggesting that either approach could be viable depending on the specific requirements and characteristics of the dataset.\n",
    "\n",
    "We will be using the stratified dataset to represent each topic proportionally."
   ]
  },
  {
   "cell_type": "markdown",
   "metadata": {},
   "source": [
    "## Hyperparameter Tuning\n",
    "\n",
    "Hyperparameters for the MNB classifier are defined in the `parameters` dictionary. The notebook specifies a range of values for two hyperparameters: alpha (from 0.1 to 1.0 with a step size of 0.1) and fit_prior (True or False).\n",
    "\n",
    "GridSearchCV is then employed to perform an exhaustive search over the specified hyperparameter values. The goal is to find the combination of hyperparameters that yields the best performance on the training data.\n",
    "\n",
    "The scoring metric used for evaluation is the weighted F1-score (`f1_weighted`). This metric considers both precision and recall and is suitable for imbalanced classification problems."
   ]
  },
  {
   "cell_type": "code",
   "execution_count": 28,
   "metadata": {},
   "outputs": [],
   "source": [
    "import numpy as np\n",
    "\n",
    "parameters = {\n",
    "    'clf__alpha': np.arange(0.1, 1.1, 0.1),\n",
    "    'clf__fit_prior': [True, False],\n",
    "}"
   ]
  },
  {
   "cell_type": "code",
   "execution_count": 29,
   "metadata": {},
   "outputs": [
    {
     "name": "stdout",
     "output_type": "stream",
     "text": [
      "Fitting 5 folds for each of 20 candidates, totalling 100 fits\n",
      "Best parameters found:\n",
      "{'clf__alpha': 0.1, 'clf__fit_prior': True}\n",
      "Best cross-validation score:\n",
      "0.8727260431365889\n",
      "Test set score:\n",
      "0.8690728945506015\n",
      "{'memory': None, 'steps': [('clf', MultinomialNB(alpha=0.1))], 'verbose': False, 'clf': MultinomialNB(alpha=0.1), 'clf__alpha': 0.1, 'clf__class_prior': None, 'clf__fit_prior': True, 'clf__force_alpha': True}\n"
     ]
    }
   ],
   "source": [
    "from sklearn.model_selection import GridSearchCV\n",
    "\n",
    "grid_search = GridSearchCV(pipeline, parameters, n_jobs=-1, verbose=1, scoring='f1_weighted')\n",
    "grid_search.fit(X_train, y_train)\n",
    "\n",
    "# Print best parameters and best score\n",
    "print(\"Best parameters found:\")\n",
    "print(grid_search.best_params_)\n",
    "print(\"Best cross-validation score:\")\n",
    "print(grid_search.best_score_)\n",
    "\n",
    "# Evaluate on test set\n",
    "best_model = grid_search.best_estimator_\n",
    "test_score = best_model.score(X_test, y_test)\n",
    "print(\"Test set score:\")\n",
    "print(test_score)\n",
    "\n",
    "print(best_model.get_params())\n"
   ]
  },
  {
   "cell_type": "markdown",
   "metadata": {},
   "source": [
    "## Best Parameters\n",
    "\n",
    "After evaluating all candidate parameter combinations, the grid search identified the best hyperparameters for the model.\n",
    "The best parameters found are:\n",
    "1. `alpha: 0.1`\n",
    "2. `fit_prior: True`\n",
    "\n",
    "These values indicate that the optimal alpha value for Laplace smoothing is `0.1`, and the model is trained with prior probabilities estimated from the training data.\n",
    "\n",
    "## Best Cross-Validation Score\n",
    "\n",
    "The best cross-validation score achieved during the grid search is `0.8727`.\n",
    "\n",
    "This score represents the weighted F1-score, which is a measure of the model's performance on the training data averaged across all folds.\n",
    "\n",
    "A higher F1-score indicates better performance, with `1.0` being the best possible score.\n",
    "\n",
    "## Test Set Score\n",
    "\n",
    "After finding the best hyperparameters, the model is evaluated on the held-out test set to assess its performance on unseen data.\n",
    "\n",
    "The test set score obtained is `0.8691`, which indicates the accuracy of the model on the test data.\n",
    "\n",
    "A high test set score suggests that the model generalizes well to new, unseen data, providing confidence in its predictive performance."
   ]
  },
  {
   "cell_type": "code",
   "execution_count": 30,
   "metadata": {},
   "outputs": [
    {
     "name": "stdout",
     "output_type": "stream",
     "text": [
      "Confusion Matrix:\n",
      "[[ 76   9   4]\n",
      " [  3 846 118]\n",
      " [  0  51 306]]\n",
      "[[0.85393258 0.00930714 0.01120448]\n",
      " [0.03370787 0.87487073 0.33053221]\n",
      " [0.         0.05274043 0.85714286]]\n",
      "['Events' 'Lifestyle' 'Politics'] ['Events' 'Lifestyle' 'Politics']\n"
     ]
    },
    {
     "data": {
      "image/png": "[encoded data removed]",
      "text/plain": [
       "<Figure size 1000x800 with 2 Axes>"
      ]
     },
     "metadata": {},
     "output_type": "display_data"
    }
   ],
   "source": [
    "from matplotlib import pyplot as plt\n",
    "from sklearn.metrics import confusion_matrix\n",
    "import seaborn as sns\n",
    "\n",
    "class_totals = y_test.value_counts()\n",
    "\n",
    "y_pred = best_model.predict(X_test)\n",
    "\n",
    "conf_matrix = confusion_matrix(y_test, y_pred)\n",
    "\n",
    "print(\"Confusion Matrix:\")\n",
    "print(conf_matrix)\n",
    "\n",
    "conf_matrix = conf_matrix / conf_matrix.astype(float).sum(axis=1)\n",
    "\n",
    "print(conf_matrix)\n",
    "\n",
    "print(best_model.classes_, best_model.classes_)\n",
    "\n",
    "plt.figure(figsize=(10, 8))\n",
    "sns.heatmap(conf_matrix, annot=True, fmt='.2f', cmap='Blues', xticklabels=best_model.classes_, yticklabels=best_model.classes_)\n",
    "plt.xlabel('Predicted Labels')\n",
    "plt.ylabel('True Labels')\n",
    "plt.title('Confusion Matrix')\n",
    "plt.show()"
   ]
  },
  {
   "cell_type": "markdown",
   "metadata": {},
   "source": [
    "# Insights\n",
    "\n",
    "1. The model performs quite well in predicting the `Events` class, with approximately 85.39% of the samples correctly classified.\n",
    "2. The model shows relatively good performance in predicting the `Lifestyle` class, with approximately 87.49% of the samples correctly classified.\n",
    "3. The model performs well in predicting the `Politics` class, with approximately 85.71% of the samples correctly classified.\n",
    "4. There is a considerable rate of misclassification, with 33.05% `Lifestyle` samples being incorrectly classified as `Politics`"
   ]
  },
  {
   "cell_type": "code",
   "execution_count": 31,
   "metadata": {},
   "outputs": [],
   "source": [
    "best_model = grid_search.best_estimator_\n",
    "\n",
    "with open(\"out/best_mnb.pkl\", \"wb\") as f:\n",
    "    pickle.dump(best_model, f)"
   ]
  }
 ],
 "metadata": {
  "kernelspec": {
   "display_name": "Python 3 (ipykernel)",
   "language": "python",
   "name": "python3"
  },
  "language_info": {
   "codemirror_mode": {
    "name": "ipython",
    "version": 3
   },
   "file_extension": ".py",
   "mimetype": "text/x-python",
   "name": "python",
   "nbconvert_exporter": "python",
   "pygments_lexer": "ipython3",
   "version": "3.8.13"
  },
  "toc": {
   "base_numbering": 1,
   "nav_menu": {},
   "number_sections": false,
   "sideBar": true,
   "skip_h1_title": false,
   "title_cell": "Table of Contents",
   "title_sidebar": "Contents",
   "toc_cell": false,
   "toc_position": {},
   "toc_section_display": true,
   "toc_window_display": false
  }
 },
 "nbformat": 4,
 "nbformat_minor": 2
}
