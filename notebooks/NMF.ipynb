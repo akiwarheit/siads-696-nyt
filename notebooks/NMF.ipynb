{
 "cells": [
  {
   "cell_type": "code",
   "execution_count": 1,
   "id": "3922da86",
   "metadata": {},
   "outputs": [],
   "source": [
    "#Import necessary libraries\n",
    "import numpy as np\n",
    "import pandas as pd\n",
    "import scipy.sparse as sp\n",
    "from sklearn.decomposition import NMF\n",
    "from sklearn.feature_extraction.text import TfidfVectorizer\n",
    "from sklearn.metrics.pairwise import cosine_similarity\n",
    "import seaborn as sns\n",
    "import matplotlib.pyplot as plt\n",
    "import pickle"
   ]
  },
  {
   "cell_type": "code",
   "execution_count": 53,
   "id": "838a725c",
   "metadata": {
    "scrolled": true
   },
   "outputs": [],
   "source": [
    "#Load and explore pre-processed text\n",
    "df = pd.read_csv('processced text.csv')\n",
    "#df"
   ]
  },
  {
   "cell_type": "code",
   "execution_count": 3,
   "id": "62a67679",
   "metadata": {},
   "outputs": [
    {
     "data": {
      "text/plain": [
       "<7064x1000 sparse matrix of type '<class 'numpy.float64'>'\n",
       "\twith 159313 stored elements in Compressed Sparse Row format>"
      ]
     },
     "execution_count": 3,
     "metadata": {},
     "output_type": "execute_result"
    }
   ],
   "source": [
    "#Load TF-IDF Matrix\n",
    "tfidf = sp.load_npz('tfidf_matrix.npz')\n",
    "tfidf"
   ]
  },
  {
   "cell_type": "code",
   "execution_count": 4,
   "id": "aeab11ef",
   "metadata": {
    "scrolled": true
   },
   "outputs": [
    {
     "name": "stderr",
     "output_type": "stream",
     "text": [
      "/Users/yashdave/anaconda3/lib/python3.11/site-packages/sklearn/base.py:347: InconsistentVersionWarning: Trying to unpickle estimator CountVectorizer from version 1.4.0 when using version 1.3.0. This might lead to breaking code or invalid results. Use at your own risk. For more info please refer to:\n",
      "https://scikit-learn.org/stable/model_persistence.html#security-maintainability-limitations\n",
      "  warnings.warn(\n"
     ]
    }
   ],
   "source": [
    "#Get previously fit vectorizer\n",
    "with open('out/count_vectorizer.pkl', 'rb') as f:\n",
    "    tfidf_vect = pickle.load(f)\n",
    "feature_names = tfidf_vect.get_feature_names_out()"
   ]
  },
  {
   "cell_type": "code",
   "execution_count": 5,
   "id": "4f28798e",
   "metadata": {},
   "outputs": [],
   "source": [
    "#Set random state\n",
    "random_state = 696"
   ]
  },
  {
   "cell_type": "markdown",
   "id": "6bfad45a",
   "metadata": {},
   "source": [
    "**Initially Test and Explore NMF with 2 Topics**"
   ]
  },
  {
   "cell_type": "code",
   "execution_count": 40,
   "id": "d57226a6",
   "metadata": {
    "scrolled": false
   },
   "outputs": [],
   "source": [
    "nmf = NMF(n_components = 2, random_state = random_state, max_iter = 200, init = 'nndsvd')\n",
    "W = nmf.fit_transform(tfidf)\n",
    "H = nmf.components_"
   ]
  },
  {
   "cell_type": "code",
   "execution_count": 41,
   "id": "1b7687df",
   "metadata": {},
   "outputs": [],
   "source": [
    "#Print W Matrix --> Steps from SIADS 543 NMF Lecture\n",
    "def print_W_matrix(W, num_topics):\n",
    "    for idx in range(0,num_topics):\n",
    "        top_indices = np.argsort(W[:, idx])[::-1]\n",
    "        #See top 3 documents for each topic\n",
    "        for doc_idx in top_indices[0:3]:\n",
    "            doc = df['preprocessed_text'][doc_idx]\n",
    "            print(\"Topic\", idx+1,':', \"Doc Idx\",':', doc_idx, \"Document Snippet:\",doc[:100])"
   ]
  },
  {
   "cell_type": "code",
   "execution_count": 48,
   "id": "60b8497d",
   "metadata": {},
   "outputs": [],
   "source": [
    "#Print H Matrix --> Steps from SIADS 543 NMF Lecture\n",
    "def print_H_matrix(H, num_topics):\n",
    "    for idx in range(0,num_topics):\n",
    "            top_indices = np.argsort(H[idx, :])[::-1]\n",
    "            top_indices = H[idx].argsort()[:-50:-1]\n",
    "            top_terms = []\n",
    "            #Initially see top 50 Terms for a topic\n",
    "            for term_idx in top_indices[:50]:  \n",
    "                top_terms.append(feature_names[term_idx])\n",
    "            print('Topic', idx+1, top_terms) \n",
    "            #for i in top_indices[:5]:\n",
    "            #print(feature_names[i])"
   ]
  },
  {
   "cell_type": "code",
   "execution_count": 43,
   "id": "644aef0b",
   "metadata": {},
   "outputs": [],
   "source": [
    "def get_topic_words(H,num_topics):\n",
    "    term_lists = []\n",
    "    for idx in range(0,num_topics):\n",
    "        top_indices = np.argsort(H[idx, :])[::-1]\n",
    "        #top_terms = []\n",
    "        #Initially see top 50 Terms for a topic\n",
    "        #for term_idx in top_indices:  \n",
    "        term_lists.append([feature_names[term_idx] for term_idx in top_indices[:50]])\n",
    "        #print(\"topic \", idx, top_terms)  \n",
    "    return term_lists"
   ]
  },
  {
   "cell_type": "code",
   "execution_count": 46,
   "id": "3809306a",
   "metadata": {},
   "outputs": [
    {
     "name": "stdout",
     "output_type": "stream",
     "text": [
      "Topic 1 : Doc Idx : 4891 Document Snippet: warmonger late lose dignity donald trump say donald trump may transform american politic kleptocrati\n",
      "Topic 1 : Doc Idx : 5818 Document Snippet: white house invitation rodrigo duterte philippine erodes americas reputation united states long see \n",
      "Topic 1 : Doc Idx : 4211 Document Snippet: vision islam inherently hostile long flourish far right president trump bring view white house washi\n",
      "Topic 2 : Doc Idx : 1053 Document Snippet: new york new york new year day\n",
      "Topic 2 : Doc Idx : 1138 Document Snippet: public service affect new york new year day schedule new york region new york city new jersey connec\n",
      "Topic 2 : Doc Idx : 2362 Document Snippet: new york new york information voter new jersey elections new york city\n"
     ]
    }
   ],
   "source": [
    "print_W_matrix(W,2)"
   ]
  },
  {
   "cell_type": "code",
   "execution_count": 50,
   "id": "2dd9abe0",
   "metadata": {},
   "outputs": [
    {
     "name": "stdout",
     "output_type": "stream",
     "text": [
      "Topic 1 ['ayanna', 'audition', 'awe', 'alshariah', 'armenia', 'arkansas', 'aka', 'arctic', 'airborne', 'aspen', 'amc', 'bacteria', 'apron', 'aston', 'achille', 'amtrak', 'azerbaijan', 'armenian', 'alexandria', 'anymore', 'agree', 'absolute', 'allege', 'atheism', 'audioneutralinformative', 'agricultural', 'backward', 'ahead', 'afford', 'axelrod', 'adolescent', 'badly', 'asianamericans', 'baldwin', 'arabia', 'balcony', 'affairs', 'angst', 'bahama', 'appoint', 'associated', 'assert', 'airwave', 'anthology', 'airtime', 'ballet', 'americans', 'affix', 'andr']\n",
      "Topic 2 ['apply', 'ballot', 'adorn', 'ballet', 'acrobatic', 'anticipation', 'baffert', 'alabamas', 'agency', 'approve', 'audioneutralinformative', 'ancestry', 'arbor', 'ann', 'affluence', 'astonishing', 'average', 'ayn', 'assure', 'alienation', 'arabian', 'ark', 'anthology', 'aston', 'antisemitic', 'adventure', 'balance', 'amazoncom', 'anthropologist', 'advocate', 'awry', 'almeida', 'april', 'antony', 'approval', 'actually', 'arenas', 'architecture', 'ansar', 'authoritarianism', 'apprentice', 'allow', 'anthony', 'accessory', 'astro', 'antifascist', 'bag', 'apostle', 'annal']\n"
     ]
    }
   ],
   "source": [
    "print_H_matrix(H,2)"
   ]
  },
  {
   "cell_type": "markdown",
   "id": "d05f89f4",
   "metadata": {},
   "source": [
    "**Looks like with just two topics the topics are split into a category with terms referring more to leisure and another category with terms referring to politics and world news according to the H matrix. The W matrix confirms this by seeming to match world news/politics articles to topic 1 and others to topic 0**"
   ]
  },
  {
   "cell_type": "markdown",
   "id": "3be17657",
   "metadata": {},
   "source": [
    "**Now do some hyperparamter tuning to find the best mix of hyperparamters (n_components, etc.) to get the number of topics that will have the least average cosine similarity. This will indicate that the topics are distinct from one another.**"
   ]
  },
  {
   "cell_type": "code",
   "execution_count": 72,
   "id": "1c421776",
   "metadata": {
    "scrolled": true
   },
   "outputs": [
    {
     "name": "stderr",
     "output_type": "stream",
     "text": [
      "/Users/yashdave/anaconda3/lib/python3.11/site-packages/sklearn/decomposition/_nmf.py:1710: ConvergenceWarning: Maximum number of iterations 200 reached. Increase it to improve convergence.\n",
      "  warnings.warn(\n",
      "/Users/yashdave/anaconda3/lib/python3.11/site-packages/sklearn/decomposition/_nmf.py:1710: ConvergenceWarning: Maximum number of iterations 300 reached. Increase it to improve convergence.\n",
      "  warnings.warn(\n",
      "/Users/yashdave/anaconda3/lib/python3.11/site-packages/sklearn/decomposition/_nmf.py:1710: ConvergenceWarning: Maximum number of iterations 200 reached. Increase it to improve convergence.\n",
      "  warnings.warn(\n",
      "/Users/yashdave/anaconda3/lib/python3.11/site-packages/sklearn/decomposition/_nmf.py:1710: ConvergenceWarning: Maximum number of iterations 200 reached. Increase it to improve convergence.\n",
      "  warnings.warn(\n",
      "/Users/yashdave/anaconda3/lib/python3.11/site-packages/sklearn/decomposition/_nmf.py:1710: ConvergenceWarning: Maximum number of iterations 200 reached. Increase it to improve convergence.\n",
      "  warnings.warn(\n",
      "/Users/yashdave/anaconda3/lib/python3.11/site-packages/sklearn/decomposition/_nmf.py:1710: ConvergenceWarning: Maximum number of iterations 200 reached. Increase it to improve convergence.\n",
      "  warnings.warn(\n",
      "/Users/yashdave/anaconda3/lib/python3.11/site-packages/sklearn/decomposition/_nmf.py:1710: ConvergenceWarning: Maximum number of iterations 200 reached. Increase it to improve convergence.\n",
      "  warnings.warn(\n"
     ]
    }
   ],
   "source": [
    "best_avg_sim = float('inf')\n",
    "best_model = None\n",
    "best_W = None\n",
    "best_H = None\n",
    "for num_topics in range(3,20):\n",
    "    for num_iter in range(200,2000,100):\n",
    "        running_sim_total = []\n",
    "\n",
    "        nmf = NMF(n_components = num_topics, max_iter = num_iter, init = 'nndsvd', random_state = random_state)\n",
    "        W = nmf.fit_transform(tfidf)\n",
    "        H = nmf.components_\n",
    "\n",
    "\n",
    "        topic_terms = [' '.join(topic_words) for topic_words in get_topic_words(H, num_topics)]\n",
    "\n",
    "        for t1 in topic_terms:\n",
    "            for t2 in topic_terms:\n",
    "                if t1 != t2:\n",
    "                    running_sim_total.append(cosine_similarity(tfidf_vect.transform([t1]), \n",
    "                                                                   tfidf_vect.transform([t2]))[0][0])\n",
    "\n",
    "        avg_sim = np.mean(running_sim_total)\n",
    "\n",
    "        if avg_sim < best_avg_sim:\n",
    "            best_avg_sim = avg_sim\n",
    "            best_model = nmf\n",
    "            best_W = W\n",
    "            best_H = H\n",
    "            \n",
    "                    "
   ]
  },
  {
   "cell_type": "code",
   "execution_count": 73,
   "id": "8a1814f7",
   "metadata": {},
   "outputs": [
    {
     "data": {
      "text/html": [
       "<style>#sk-container-id-5 {color: black;}#sk-container-id-5 pre{padding: 0;}#sk-container-id-5 div.sk-toggleable {background-color: white;}#sk-container-id-5 label.sk-toggleable__label {cursor: pointer;display: block;width: 100%;margin-bottom: 0;padding: 0.3em;box-sizing: border-box;text-align: center;}#sk-container-id-5 label.sk-toggleable__label-arrow:before {content: \"▸\";float: left;margin-right: 0.25em;color: #696969;}#sk-container-id-5 label.sk-toggleable__label-arrow:hover:before {color: black;}#sk-container-id-5 div.sk-estimator:hover label.sk-toggleable__label-arrow:before {color: black;}#sk-container-id-5 div.sk-toggleable__content {max-height: 0;max-width: 0;overflow: hidden;text-align: left;background-color: #f0f8ff;}#sk-container-id-5 div.sk-toggleable__content pre {margin: 0.2em;color: black;border-radius: 0.25em;background-color: #f0f8ff;}#sk-container-id-5 input.sk-toggleable__control:checked~div.sk-toggleable__content {max-height: 200px;max-width: 100%;overflow: auto;}#sk-container-id-5 input.sk-toggleable__control:checked~label.sk-toggleable__label-arrow:before {content: \"▾\";}#sk-container-id-5 div.sk-estimator input.sk-toggleable__control:checked~label.sk-toggleable__label {background-color: #d4ebff;}#sk-container-id-5 div.sk-label input.sk-toggleable__control:checked~label.sk-toggleable__label {background-color: #d4ebff;}#sk-container-id-5 input.sk-hidden--visually {border: 0;clip: rect(1px 1px 1px 1px);clip: rect(1px, 1px, 1px, 1px);height: 1px;margin: -1px;overflow: hidden;padding: 0;position: absolute;width: 1px;}#sk-container-id-5 div.sk-estimator {font-family: monospace;background-color: #f0f8ff;border: 1px dotted black;border-radius: 0.25em;box-sizing: border-box;margin-bottom: 0.5em;}#sk-container-id-5 div.sk-estimator:hover {background-color: #d4ebff;}#sk-container-id-5 div.sk-parallel-item::after {content: \"\";width: 100%;border-bottom: 1px solid gray;flex-grow: 1;}#sk-container-id-5 div.sk-label:hover label.sk-toggleable__label {background-color: #d4ebff;}#sk-container-id-5 div.sk-serial::before {content: \"\";position: absolute;border-left: 1px solid gray;box-sizing: border-box;top: 0;bottom: 0;left: 50%;z-index: 0;}#sk-container-id-5 div.sk-serial {display: flex;flex-direction: column;align-items: center;background-color: white;padding-right: 0.2em;padding-left: 0.2em;position: relative;}#sk-container-id-5 div.sk-item {position: relative;z-index: 1;}#sk-container-id-5 div.sk-parallel {display: flex;align-items: stretch;justify-content: center;background-color: white;position: relative;}#sk-container-id-5 div.sk-item::before, #sk-container-id-5 div.sk-parallel-item::before {content: \"\";position: absolute;border-left: 1px solid gray;box-sizing: border-box;top: 0;bottom: 0;left: 50%;z-index: -1;}#sk-container-id-5 div.sk-parallel-item {display: flex;flex-direction: column;z-index: 1;position: relative;background-color: white;}#sk-container-id-5 div.sk-parallel-item:first-child::after {align-self: flex-end;width: 50%;}#sk-container-id-5 div.sk-parallel-item:last-child::after {align-self: flex-start;width: 50%;}#sk-container-id-5 div.sk-parallel-item:only-child::after {width: 0;}#sk-container-id-5 div.sk-dashed-wrapped {border: 1px dashed gray;margin: 0 0.4em 0.5em 0.4em;box-sizing: border-box;padding-bottom: 0.4em;background-color: white;}#sk-container-id-5 div.sk-label label {font-family: monospace;font-weight: bold;display: inline-block;line-height: 1.2em;}#sk-container-id-5 div.sk-label-container {text-align: center;}#sk-container-id-5 div.sk-container {/* jupyter's `normalize.less` sets `[hidden] { display: none; }` but bootstrap.min.css set `[hidden] { display: none !important; }` so we also need the `!important` here to be able to override the default hidden behavior on the sphinx rendered scikit-learn.org. See: https://github.com/scikit-learn/scikit-learn/issues/21755 */display: inline-block !important;position: relative;}#sk-container-id-5 div.sk-text-repr-fallback {display: none;}</style><div id=\"sk-container-id-5\" class=\"sk-top-container\"><div class=\"sk-text-repr-fallback\"><pre>NMF(init=&#x27;nndsvd&#x27;, n_components=3, random_state=696)</pre><b>In a Jupyter environment, please rerun this cell to show the HTML representation or trust the notebook. <br />On GitHub, the HTML representation is unable to render, please try loading this page with nbviewer.org.</b></div><div class=\"sk-container\" hidden><div class=\"sk-item\"><div class=\"sk-estimator sk-toggleable\"><input class=\"sk-toggleable__control sk-hidden--visually\" id=\"sk-estimator-id-5\" type=\"checkbox\" checked><label for=\"sk-estimator-id-5\" class=\"sk-toggleable__label sk-toggleable__label-arrow\">NMF</label><div class=\"sk-toggleable__content\"><pre>NMF(init=&#x27;nndsvd&#x27;, n_components=3, random_state=696)</pre></div></div></div></div></div>"
      ],
      "text/plain": [
       "NMF(init='nndsvd', n_components=3, random_state=696)"
      ]
     },
     "execution_count": 73,
     "metadata": {},
     "output_type": "execute_result"
    }
   ],
   "source": [
    "best_model"
   ]
  },
  {
   "cell_type": "code",
   "execution_count": 74,
   "id": "5a2910b7",
   "metadata": {},
   "outputs": [
    {
     "data": {
      "text/plain": [
       "0.04666666666666667"
      ]
     },
     "execution_count": 74,
     "metadata": {},
     "output_type": "execute_result"
    }
   ],
   "source": [
    "best_avg_sim"
   ]
  },
  {
   "cell_type": "markdown",
   "id": "db104526",
   "metadata": {},
   "source": [
    "**The best model parameters is with init = nndsvd, n_components = 3, and max_iter = 200. Now let's look at the best model more closely.**"
   ]
  },
  {
   "cell_type": "code",
   "execution_count": 68,
   "id": "2bc099ca",
   "metadata": {
    "scrolled": false
   },
   "outputs": [
    {
     "data": {
      "text/plain": [
       "<Axes: >"
      ]
     },
     "execution_count": 68,
     "metadata": {},
     "output_type": "execute_result"
    },
    {
     "data": {
      "image/png": "[encoded data removed]",
      "text/plain": [
       "<Figure size 640x480 with 2 Axes>"
      ]
     },
     "metadata": {},
     "output_type": "display_data"
    }
   ],
   "source": [
    "#Heatmap to show cosine similarities between each topic in best NMF model\n",
    "c_mat = []\n",
    "topic_terms = [' '.join(topic_words) for topic_words in get_topic_words(best_H, 3)]\n",
    "for t1 in topic_terms:\n",
    "    for t2 in topic_terms:\n",
    "        c_mat.append(cosine_similarity(tfidf_vect.transform([t1]),tfidf_vect.transform([t2]))[0][0])\n",
    "c_mat = np.array(c_mat).reshape(3,3)\n",
    "sns.heatmap(c_mat, annot = True)"
   ]
  },
  {
   "cell_type": "markdown",
   "id": "6add9144",
   "metadata": {},
   "source": [
    "**Lets look at what each topic looks like for the best model**"
   ]
  },
  {
   "cell_type": "code",
   "execution_count": 69,
   "id": "a574ac4a",
   "metadata": {
    "scrolled": false
   },
   "outputs": [
    {
     "name": "stdout",
     "output_type": "stream",
     "text": [
      "Topic 1 ['ayanna', 'awe', 'audition', 'alshariah', 'armenia', 'arkansas', 'aka', 'airborne', 'arctic', 'aspen', 'amc', 'bacteria', 'apron', 'achille', 'aston', 'armenian', 'amtrak', 'azerbaijan', 'anymore', 'agree', 'alexandria', 'atheism', 'absolute', 'allege', 'agricultural', 'audioneutralinformative', 'backward', 'axelrod', 'ahead', 'afford', 'asianamericans', 'adolescent', 'bahama', 'arabia', 'badly', 'angst', 'associated', 'baldwin', 'andr', 'airwave', 'affairs', 'americans', 'airtime', 'appoint', 'balcony', 'assert', 'affix', 'angola', 'abduction']\n",
      "Topic 2 ['apply', 'ballot', 'adorn', 'ballet', 'acrobatic', 'agency', 'audioneutralinformative', 'arbor', 'ancestry', 'average', 'aston', 'ark', 'anthology', 'astonishing', 'approve', 'alienation', 'almeida', 'amazoncom', 'arenas', 'awry', 'ann', 'apprentice', 'april', 'advocate', 'adventure', 'anthony', 'allow', 'annal', 'approval', 'bag', 'baker', 'apostle', 'astro', 'ai', 'balance', 'angelique', 'ansar', 'ayn', 'atrocity', 'arise', 'adversary', 'authoritarianism', 'aloud', 'antifascist', 'autistic', 'anemia', 'artillery', 'alphonse', 'anthropologist']\n",
      "Topic 3 ['anticipation', 'baffert', 'alabamas', 'affluence', 'arabian', 'actively', 'antisemitic', 'assure', 'assemble', 'adm', 'aol', 'adoptive', 'airconditioned', 'altercation', 'arts', 'argentinas', 'albaghdadi', 'armored', 'allinclusive', 'ayman', 'alastair', 'agard', 'adherent', 'approve', 'attract', 'attest', 'audiblecom', 'assistance', 'antony', 'ann', 'ayn', 'afterward', 'anchorage', 'anticipated', 'akbar', 'age', 'anatomy', 'appreciation', 'advanced', 'athlete', 'accuser', 'addict', 'bailout', 'ballot', 'balance', 'ambulance', 'andreas', 'assign', 'abstraction']\n"
     ]
    }
   ],
   "source": [
    "print_H_matrix(best_H, 3)"
   ]
  },
  {
   "cell_type": "code",
   "execution_count": 70,
   "id": "bb5e366d",
   "metadata": {},
   "outputs": [
    {
     "name": "stdout",
     "output_type": "stream",
     "text": [
      "Topic 1 : Doc Idx : 4891 Document Snippet: warmonger late lose dignity donald trump say donald trump may transform american politic kleptocrati\n",
      "Topic 1 : Doc Idx : 5818 Document Snippet: white house invitation rodrigo duterte philippine erodes americas reputation united states long see \n",
      "Topic 1 : Doc Idx : 4211 Document Snippet: vision islam inherently hostile long flourish far right president trump bring view white house washi\n",
      "Topic 2 : Doc Idx : 1053 Document Snippet: new york new york new year day\n",
      "Topic 2 : Doc Idx : 1138 Document Snippet: public service affect new york new year day schedule new york region new york city new jersey connec\n",
      "Topic 2 : Doc Idx : 2362 Document Snippet: new york new york information voter new jersey elections new york city\n",
      "Topic 3 : Doc Idx : 1716 Document Snippet: couple meet stanford graduate distinction mary catherine jones alexander mitchell fenner marry satur\n",
      "Topic 3 : Doc Idx : 4524 Document Snippet: couple marry scarsdale congregational church scarsdale cousin bride marguerite wise sivon gregory ma\n",
      "Topic 3 : Doc Idx : 851 Document Snippet: couple marry southern california jenny jiayin wang dr allen szuhao ho marry saturday marisa e rollan\n"
     ]
    }
   ],
   "source": [
    "print_W_matrix(best_W, 3)"
   ]
  },
  {
   "cell_type": "code",
   "execution_count": null,
   "id": "ff9758a0",
   "metadata": {},
   "outputs": [],
   "source": []
  },
  {
   "cell_type": "code",
   "execution_count": null,
   "id": "11c8b928",
   "metadata": {},
   "outputs": [],
   "source": []
  }
 ],
 "metadata": {
  "kernelspec": {
   "display_name": "Python 3 (ipykernel)",
   "language": "python",
   "name": "python3"
  },
  "language_info": {
   "codemirror_mode": {
    "name": "ipython",
    "version": 3
   },
   "file_extension": ".py",
   "mimetype": "text/x-python",
   "name": "python",
   "nbconvert_exporter": "python",
   "pygments_lexer": "ipython3",
   "version": "3.11.5"
  }
 },
 "nbformat": 4,
 "nbformat_minor": 5
}
