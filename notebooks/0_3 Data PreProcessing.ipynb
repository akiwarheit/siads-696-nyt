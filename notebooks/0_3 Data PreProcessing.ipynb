{
 "cells": [
  {
   "cell_type": "code",
   "execution_count": 1,
   "id": "dffec98f",
   "metadata": {},
   "outputs": [],
   "source": [
    "import pandas as pd\n",
    "import numpy as np\n",
    "import ast"
   ]
  },
  {
   "cell_type": "code",
   "execution_count": 2,
   "id": "2ac92d0e",
   "metadata": {},
   "outputs": [],
   "source": [
    "df = pd.read_csv(\"../dataset/combined_dataset.csv\")"
   ]
  },
  {
   "cell_type": "code",
   "execution_count": 3,
   "id": "810b9b3d",
   "metadata": {},
   "outputs": [
    {
     "data": {
      "text/html": [
       "<div>\n",
       "<style scoped>\n",
       "    .dataframe tbody tr th:only-of-type {\n",
       "        vertical-align: middle;\n",
       "    }\n",
       "\n",
       "    .dataframe tbody tr th {\n",
       "        vertical-align: top;\n",
       "    }\n",
       "\n",
       "    .dataframe thead th {\n",
       "        text-align: right;\n",
       "    }\n",
       "</style>\n",
       "<table border=\"1\" class=\"dataframe\">\n",
       "  <thead>\n",
       "    <tr style=\"text-align: right;\">\n",
       "      <th></th>\n",
       "      <th>abstract</th>\n",
       "      <th>web_url</th>\n",
       "      <th>lead_paragraph</th>\n",
       "      <th>multimedia</th>\n",
       "      <th>headline</th>\n",
       "      <th>keywords</th>\n",
       "      <th>pub_date</th>\n",
       "      <th>document_type</th>\n",
       "      <th>news_desk</th>\n",
       "      <th>section_name</th>\n",
       "      <th>byline</th>\n",
       "      <th>type_of_material</th>\n",
       "      <th>_id</th>\n",
       "      <th>word_count</th>\n",
       "      <th>uri</th>\n",
       "    </tr>\n",
       "  </thead>\n",
       "  <tbody>\n",
       "    <tr>\n",
       "      <th>0</th>\n",
       "      <td>Point of view — prescriptive, descriptive and ...</td>\n",
       "      <td>https://www.nytimes.com/2009/04/02/garden/02bo...</td>\n",
       "      <td>Point of view  prescriptive, descriptive and ...</td>\n",
       "      <td>[{'rank': 0, 'subtype': 'articleInline', 'capt...</td>\n",
       "      <td>{'main': 'An Algebraic Approach to Style', 'ki...</td>\n",
       "      <td>[{'name': 'subject', 'value': 'Books and Liter...</td>\n",
       "      <td>2009-04-02 00:00:43+00:00</td>\n",
       "      <td>article</td>\n",
       "      <td>Home</td>\n",
       "      <td>Home &amp; Garden</td>\n",
       "      <td>{'original': 'By Penelope Green', 'person': [{...</td>\n",
       "      <td>News</td>\n",
       "      <td>nyt://article/b16284bd-135e-58f3-867a-268a1129...</td>\n",
       "      <td>252</td>\n",
       "      <td>nyt://article/b16284bd-135e-58f3-867a-268a1129...</td>\n",
       "    </tr>\n",
       "  </tbody>\n",
       "</table>\n",
       "</div>"
      ],
      "text/plain": [
       "                                            abstract  \\\n",
       "0  Point of view — prescriptive, descriptive and ...   \n",
       "\n",
       "                                             web_url  \\\n",
       "0  https://www.nytimes.com/2009/04/02/garden/02bo...   \n",
       "\n",
       "                                      lead_paragraph  \\\n",
       "0  Point of view  prescriptive, descriptive and ...   \n",
       "\n",
       "                                          multimedia  \\\n",
       "0  [{'rank': 0, 'subtype': 'articleInline', 'capt...   \n",
       "\n",
       "                                            headline  \\\n",
       "0  {'main': 'An Algebraic Approach to Style', 'ki...   \n",
       "\n",
       "                                            keywords  \\\n",
       "0  [{'name': 'subject', 'value': 'Books and Liter...   \n",
       "\n",
       "                    pub_date document_type news_desk   section_name  \\\n",
       "0  2009-04-02 00:00:43+00:00       article      Home  Home & Garden   \n",
       "\n",
       "                                              byline type_of_material  \\\n",
       "0  {'original': 'By Penelope Green', 'person': [{...             News   \n",
       "\n",
       "                                                 _id  word_count  \\\n",
       "0  nyt://article/b16284bd-135e-58f3-867a-268a1129...         252   \n",
       "\n",
       "                                                 uri  \n",
       "0  nyt://article/b16284bd-135e-58f3-867a-268a1129...  "
      ]
     },
     "execution_count": 3,
     "metadata": {},
     "output_type": "execute_result"
    }
   ],
   "source": [
    "df.head(1)"
   ]
  },
  {
   "cell_type": "code",
   "execution_count": 4,
   "id": "c9ee702f",
   "metadata": {},
   "outputs": [
    {
     "data": {
      "text/plain": [
       "Index(['abstract', 'web_url', 'lead_paragraph', 'multimedia', 'headline',\n",
       "       'keywords', 'pub_date', 'document_type', 'news_desk', 'section_name',\n",
       "       'byline', 'type_of_material', '_id', 'word_count', 'uri'],\n",
       "      dtype='object')"
      ]
     },
     "execution_count": 4,
     "metadata": {},
     "output_type": "execute_result"
    }
   ],
   "source": [
    "df.columns"
   ]
  },
  {
   "cell_type": "code",
   "execution_count": 5,
   "id": "d02e9435",
   "metadata": {},
   "outputs": [],
   "source": [
    "col_ke = ['abstract', 'lead_paragraph', 'headline', 'keywords', 'type_of_material', 'news_desk', 'section_name', 'byline']\n",
    "\n",
    "df= df[col_ke]"
   ]
  },
  {
   "cell_type": "code",
   "execution_count": 6,
   "id": "47941bd1",
   "metadata": {},
   "outputs": [
    {
     "data": {
      "text/html": [
       "<div>\n",
       "<style scoped>\n",
       "    .dataframe tbody tr th:only-of-type {\n",
       "        vertical-align: middle;\n",
       "    }\n",
       "\n",
       "    .dataframe tbody tr th {\n",
       "        vertical-align: top;\n",
       "    }\n",
       "\n",
       "    .dataframe thead th {\n",
       "        text-align: right;\n",
       "    }\n",
       "</style>\n",
       "<table border=\"1\" class=\"dataframe\">\n",
       "  <thead>\n",
       "    <tr style=\"text-align: right;\">\n",
       "      <th></th>\n",
       "      <th>abstract</th>\n",
       "      <th>lead_paragraph</th>\n",
       "      <th>headline</th>\n",
       "      <th>keywords</th>\n",
       "      <th>type_of_material</th>\n",
       "      <th>news_desk</th>\n",
       "      <th>section_name</th>\n",
       "      <th>byline</th>\n",
       "    </tr>\n",
       "  </thead>\n",
       "  <tbody>\n",
       "    <tr>\n",
       "      <th>0</th>\n",
       "      <td>Point of view — prescriptive, descriptive and ...</td>\n",
       "      <td>Point of view  prescriptive, descriptive and ...</td>\n",
       "      <td>{'main': 'An Algebraic Approach to Style', 'ki...</td>\n",
       "      <td>[{'name': 'subject', 'value': 'Books and Liter...</td>\n",
       "      <td>News</td>\n",
       "      <td>Home</td>\n",
       "      <td>Home &amp; Garden</td>\n",
       "      <td>{'original': 'By Penelope Green', 'person': [{...</td>\n",
       "    </tr>\n",
       "    <tr>\n",
       "      <th>1</th>\n",
       "      <td>Ten high-end design galleries will offer 30 to...</td>\n",
       "      <td>Ten high-end design galleries, including Antik...</td>\n",
       "      <td>{'main': 'Price Cuts and Gift-Card Rescues', '...</td>\n",
       "      <td>[{'name': 'subject', 'value': 'Furniture', 'ra...</td>\n",
       "      <td>News</td>\n",
       "      <td>Home</td>\n",
       "      <td>Home &amp; Garden</td>\n",
       "      <td>{'original': 'By Marianne Rohrlich', 'person':...</td>\n",
       "    </tr>\n",
       "    <tr>\n",
       "      <th>2</th>\n",
       "      <td>Bankers may be suffering but the decline in de...</td>\n",
       "      <td>Bankers may be suffering but Wall Street’s leg...</td>\n",
       "      <td>{'main': 'Lack of Mergers Idling Lawyers', 'ki...</td>\n",
       "      <td>[{'name': 'subject', 'value': 'Legal Professio...</td>\n",
       "      <td>News</td>\n",
       "      <td>Business</td>\n",
       "      <td>Business Day</td>\n",
       "      <td>{'original': 'By Lauren Silva Laughlin, Rob Co...</td>\n",
       "    </tr>\n",
       "    <tr>\n",
       "      <th>3</th>\n",
       "      <td>Florida scaled back its purchase of sugar comp...</td>\n",
       "      <td>MIAMI — The Everglades have become yet another...</td>\n",
       "      <td>{'main': 'Everglades Restoration Plan Shrinks'...</td>\n",
       "      <td>[{'name': 'persons', 'value': 'Crist, Charlie'...</td>\n",
       "      <td>News</td>\n",
       "      <td>National</td>\n",
       "      <td>U.S.</td>\n",
       "      <td>{'original': 'By Damien Cave', 'person': [{'fi...</td>\n",
       "    </tr>\n",
       "    <tr>\n",
       "      <th>4</th>\n",
       "      <td>Take-Two Interactive, the maker of Grand Theft...</td>\n",
       "      <td>Take-Two Interactive Software, the maker of th...</td>\n",
       "      <td>{'main': 'Video Game Maker to Pay $3 Million t...</td>\n",
       "      <td>[{'name': 'subject', 'value': 'Suits and Litig...</td>\n",
       "      <td>News</td>\n",
       "      <td>Business</td>\n",
       "      <td>Technology</td>\n",
       "      <td>{'original': 'By Bloomberg News', 'person': [{...</td>\n",
       "    </tr>\n",
       "  </tbody>\n",
       "</table>\n",
       "</div>"
      ],
      "text/plain": [
       "                                            abstract  \\\n",
       "0  Point of view — prescriptive, descriptive and ...   \n",
       "1  Ten high-end design galleries will offer 30 to...   \n",
       "2  Bankers may be suffering but the decline in de...   \n",
       "3  Florida scaled back its purchase of sugar comp...   \n",
       "4  Take-Two Interactive, the maker of Grand Theft...   \n",
       "\n",
       "                                      lead_paragraph  \\\n",
       "0  Point of view  prescriptive, descriptive and ...   \n",
       "1  Ten high-end design galleries, including Antik...   \n",
       "2  Bankers may be suffering but Wall Street’s leg...   \n",
       "3  MIAMI — The Everglades have become yet another...   \n",
       "4  Take-Two Interactive Software, the maker of th...   \n",
       "\n",
       "                                            headline  \\\n",
       "0  {'main': 'An Algebraic Approach to Style', 'ki...   \n",
       "1  {'main': 'Price Cuts and Gift-Card Rescues', '...   \n",
       "2  {'main': 'Lack of Mergers Idling Lawyers', 'ki...   \n",
       "3  {'main': 'Everglades Restoration Plan Shrinks'...   \n",
       "4  {'main': 'Video Game Maker to Pay $3 Million t...   \n",
       "\n",
       "                                            keywords type_of_material  \\\n",
       "0  [{'name': 'subject', 'value': 'Books and Liter...             News   \n",
       "1  [{'name': 'subject', 'value': 'Furniture', 'ra...             News   \n",
       "2  [{'name': 'subject', 'value': 'Legal Professio...             News   \n",
       "3  [{'name': 'persons', 'value': 'Crist, Charlie'...             News   \n",
       "4  [{'name': 'subject', 'value': 'Suits and Litig...             News   \n",
       "\n",
       "  news_desk   section_name                                             byline  \n",
       "0      Home  Home & Garden  {'original': 'By Penelope Green', 'person': [{...  \n",
       "1      Home  Home & Garden  {'original': 'By Marianne Rohrlich', 'person':...  \n",
       "2  Business   Business Day  {'original': 'By Lauren Silva Laughlin, Rob Co...  \n",
       "3  National           U.S.  {'original': 'By Damien Cave', 'person': [{'fi...  \n",
       "4  Business     Technology  {'original': 'By Bloomberg News', 'person': [{...  "
      ]
     },
     "execution_count": 6,
     "metadata": {},
     "output_type": "execute_result"
    }
   ],
   "source": [
    "df.head()"
   ]
  },
  {
   "cell_type": "code",
   "execution_count": 7,
   "id": "9cac3ebd",
   "metadata": {},
   "outputs": [
    {
     "name": "stdout",
     "output_type": "stream",
     "text": [
      "{'main': 'Price Cuts and Gift-Card Rescues', 'kicker': 'Currents | Deals', 'content_kicker': None, 'print_headline': 'Price Cuts and Gift-Card Rescues', 'name': None, 'seo': None, 'sub': None}\n"
     ]
    }
   ],
   "source": [
    "print(df.loc[1, 'headline'])"
   ]
  },
  {
   "cell_type": "code",
   "execution_count": 8,
   "id": "96d5324a",
   "metadata": {},
   "outputs": [
    {
     "name": "stdout",
     "output_type": "stream",
     "text": [
      "[{'name': 'subject', 'value': 'Furniture', 'rank': 1, 'major': 'N'}, {'name': 'subject', 'value': 'Sales', 'rank': 2, 'major': 'N'}, {'name': 'subject', 'value': 'Textiles', 'rank': 3, 'major': 'N'}]\n"
     ]
    }
   ],
   "source": [
    "print(df.loc[1, 'keywords'])"
   ]
  },
  {
   "cell_type": "markdown",
   "id": "11c97b65",
   "metadata": {},
   "source": [
    "### Extract value info from \"headline\" and \"keywords\""
   ]
  },
  {
   "cell_type": "code",
   "execution_count": 9,
   "id": "8d3366d3",
   "metadata": {},
   "outputs": [],
   "source": [
    "#extract value texts from \"headline\" and \"keywords\"\n",
    "def string_to_dict(string):\n",
    "    try:\n",
    "        return ast.literal_eval(string)\n",
    "    except ValueError:\n",
    "        return {}\n",
    "    \n",
    "def string_to_list_of_dicts(string):\n",
    "    try:\n",
    "        return ast.literal_eval(string)\n",
    "    except ValueError:\n",
    "        return []\n",
    "#for the 'headline', extract the value associated with the 'main' key.\n",
    "df['headline_text'] = df['headline'].apply(lambda x: string_to_dict(x).get('main', ''))\n",
    "\n",
    "#for the \"keywords\", extract the \"value\" key\n",
    "df['keywords_text'] = df['keywords'].apply(lambda x: ' '.join([kw.get('value', '') for kw in string_to_list_of_dicts(x)]))"
   ]
  },
  {
   "cell_type": "code",
   "execution_count": 10,
   "id": "a42d19ff",
   "metadata": {},
   "outputs": [
    {
     "data": {
      "text/html": [
       "<div>\n",
       "<style scoped>\n",
       "    .dataframe tbody tr th:only-of-type {\n",
       "        vertical-align: middle;\n",
       "    }\n",
       "\n",
       "    .dataframe tbody tr th {\n",
       "        vertical-align: top;\n",
       "    }\n",
       "\n",
       "    .dataframe thead th {\n",
       "        text-align: right;\n",
       "    }\n",
       "</style>\n",
       "<table border=\"1\" class=\"dataframe\">\n",
       "  <thead>\n",
       "    <tr style=\"text-align: right;\">\n",
       "      <th></th>\n",
       "      <th>abstract</th>\n",
       "      <th>lead_paragraph</th>\n",
       "      <th>type_of_material</th>\n",
       "      <th>news_desk</th>\n",
       "      <th>section_name</th>\n",
       "      <th>byline</th>\n",
       "      <th>headline_text</th>\n",
       "      <th>keywords_text</th>\n",
       "    </tr>\n",
       "  </thead>\n",
       "  <tbody>\n",
       "    <tr>\n",
       "      <th>0</th>\n",
       "      <td>Point of view — prescriptive, descriptive and ...</td>\n",
       "      <td>Point of view  prescriptive, descriptive and ...</td>\n",
       "      <td>News</td>\n",
       "      <td>Home</td>\n",
       "      <td>Home &amp; Garden</td>\n",
       "      <td>{'original': 'By Penelope Green', 'person': [{...</td>\n",
       "      <td>An Algebraic Approach to Style</td>\n",
       "      <td>Books and Literature Interior Design</td>\n",
       "    </tr>\n",
       "    <tr>\n",
       "      <th>1</th>\n",
       "      <td>Ten high-end design galleries will offer 30 to...</td>\n",
       "      <td>Ten high-end design galleries, including Antik...</td>\n",
       "      <td>News</td>\n",
       "      <td>Home</td>\n",
       "      <td>Home &amp; Garden</td>\n",
       "      <td>{'original': 'By Marianne Rohrlich', 'person':...</td>\n",
       "      <td>Price Cuts and Gift-Card Rescues</td>\n",
       "      <td>Furniture Sales Textiles</td>\n",
       "    </tr>\n",
       "    <tr>\n",
       "      <th>2</th>\n",
       "      <td>Bankers may be suffering but the decline in de...</td>\n",
       "      <td>Bankers may be suffering but Wall Street’s leg...</td>\n",
       "      <td>News</td>\n",
       "      <td>Business</td>\n",
       "      <td>Business Day</td>\n",
       "      <td>{'original': 'By Lauren Silva Laughlin, Rob Co...</td>\n",
       "      <td>Lack of Mergers Idling Lawyers</td>\n",
       "      <td>Legal Profession Banks and Banking Subprime Mo...</td>\n",
       "    </tr>\n",
       "    <tr>\n",
       "      <th>3</th>\n",
       "      <td>Florida scaled back its purchase of sugar comp...</td>\n",
       "      <td>MIAMI — The Everglades have become yet another...</td>\n",
       "      <td>News</td>\n",
       "      <td>National</td>\n",
       "      <td>U.S.</td>\n",
       "      <td>{'original': 'By Damien Cave', 'person': [{'fi...</td>\n",
       "      <td>Everglades Restoration Plan Shrinks</td>\n",
       "      <td>Crist, Charlie Everglades (Fla) Restoration an...</td>\n",
       "    </tr>\n",
       "    <tr>\n",
       "      <th>4</th>\n",
       "      <td>Take-Two Interactive, the maker of Grand Theft...</td>\n",
       "      <td>Take-Two Interactive Software, the maker of th...</td>\n",
       "      <td>News</td>\n",
       "      <td>Business</td>\n",
       "      <td>Technology</td>\n",
       "      <td>{'original': 'By Bloomberg News', 'person': [{...</td>\n",
       "      <td>Video Game Maker to Pay $3 Million to Settle S...</td>\n",
       "      <td>Suits and Litigation Take-Two Interactive Soft...</td>\n",
       "    </tr>\n",
       "  </tbody>\n",
       "</table>\n",
       "</div>"
      ],
      "text/plain": [
       "                                            abstract  \\\n",
       "0  Point of view — prescriptive, descriptive and ...   \n",
       "1  Ten high-end design galleries will offer 30 to...   \n",
       "2  Bankers may be suffering but the decline in de...   \n",
       "3  Florida scaled back its purchase of sugar comp...   \n",
       "4  Take-Two Interactive, the maker of Grand Theft...   \n",
       "\n",
       "                                      lead_paragraph type_of_material  \\\n",
       "0  Point of view  prescriptive, descriptive and ...             News   \n",
       "1  Ten high-end design galleries, including Antik...             News   \n",
       "2  Bankers may be suffering but Wall Street’s leg...             News   \n",
       "3  MIAMI — The Everglades have become yet another...             News   \n",
       "4  Take-Two Interactive Software, the maker of th...             News   \n",
       "\n",
       "  news_desk   section_name                                             byline  \\\n",
       "0      Home  Home & Garden  {'original': 'By Penelope Green', 'person': [{...   \n",
       "1      Home  Home & Garden  {'original': 'By Marianne Rohrlich', 'person':...   \n",
       "2  Business   Business Day  {'original': 'By Lauren Silva Laughlin, Rob Co...   \n",
       "3  National           U.S.  {'original': 'By Damien Cave', 'person': [{'fi...   \n",
       "4  Business     Technology  {'original': 'By Bloomberg News', 'person': [{...   \n",
       "\n",
       "                                       headline_text  \\\n",
       "0                     An Algebraic Approach to Style   \n",
       "1                   Price Cuts and Gift-Card Rescues   \n",
       "2                     Lack of Mergers Idling Lawyers   \n",
       "3                Everglades Restoration Plan Shrinks   \n",
       "4  Video Game Maker to Pay $3 Million to Settle S...   \n",
       "\n",
       "                                       keywords_text  \n",
       "0               Books and Literature Interior Design  \n",
       "1                           Furniture Sales Textiles  \n",
       "2  Legal Profession Banks and Banking Subprime Mo...  \n",
       "3  Crist, Charlie Everglades (Fla) Restoration an...  \n",
       "4  Suits and Litigation Take-Two Interactive Soft...  "
      ]
     },
     "execution_count": 10,
     "metadata": {},
     "output_type": "execute_result"
    }
   ],
   "source": [
    "df = df.drop([\"headline\", \"keywords\"], axis = 1)\n",
    "df.head()"
   ]
  },
  {
   "cell_type": "markdown",
   "id": "526fd981",
   "metadata": {},
   "source": [
    "### Concatenation of Text Features"
   ]
  },
  {
   "cell_type": "code",
   "execution_count": 11,
   "id": "a94a367f",
   "metadata": {},
   "outputs": [],
   "source": [
    "df['combined_text'] = df['abstract'].astype(str) + ' ' + df['lead_paragraph'].astype(str) + ' ' + df['headline_text'].astype(str) + ' ' + df['keywords_text'].astype(str)"
   ]
  },
  {
   "cell_type": "code",
   "execution_count": 12,
   "id": "f5bda573",
   "metadata": {},
   "outputs": [],
   "source": [
    "df = df.drop(['abstract', 'lead_paragraph', 'headline_text', 'keywords_text'], axis=1)"
   ]
  },
  {
   "cell_type": "code",
   "execution_count": 13,
   "id": "d903f524",
   "metadata": {},
   "outputs": [
    {
     "data": {
      "text/html": [
       "<div>\n",
       "<style scoped>\n",
       "    .dataframe tbody tr th:only-of-type {\n",
       "        vertical-align: middle;\n",
       "    }\n",
       "\n",
       "    .dataframe tbody tr th {\n",
       "        vertical-align: top;\n",
       "    }\n",
       "\n",
       "    .dataframe thead th {\n",
       "        text-align: right;\n",
       "    }\n",
       "</style>\n",
       "<table border=\"1\" class=\"dataframe\">\n",
       "  <thead>\n",
       "    <tr style=\"text-align: right;\">\n",
       "      <th></th>\n",
       "      <th>type_of_material</th>\n",
       "      <th>news_desk</th>\n",
       "      <th>section_name</th>\n",
       "      <th>byline</th>\n",
       "      <th>combined_text</th>\n",
       "    </tr>\n",
       "  </thead>\n",
       "  <tbody>\n",
       "    <tr>\n",
       "      <th>7059</th>\n",
       "      <td>News</td>\n",
       "      <td>Foreign</td>\n",
       "      <td>World</td>\n",
       "      <td>{'original': 'By Marc Santora', 'person': [{'f...</td>\n",
       "      <td>Russia’s Ministry of Defense said it had destr...</td>\n",
       "    </tr>\n",
       "    <tr>\n",
       "      <th>7060</th>\n",
       "      <td>News</td>\n",
       "      <td>Foreign</td>\n",
       "      <td>International Home</td>\n",
       "      <td>{'original': 'By Ian Austen', 'person': [{'fir...</td>\n",
       "      <td>Nelson, British Columbia, is one of several pl...</td>\n",
       "    </tr>\n",
       "    <tr>\n",
       "      <th>7061</th>\n",
       "      <td>briefing</td>\n",
       "      <td>NYTNow</td>\n",
       "      <td>Briefing</td>\n",
       "      <td>{'original': 'By Melissa Kirsch', 'person': [{...</td>\n",
       "      <td>Labor Day weekend marks the unofficial end of ...</td>\n",
       "    </tr>\n",
       "    <tr>\n",
       "      <th>7062</th>\n",
       "      <td>Op-Ed</td>\n",
       "      <td>OpEd</td>\n",
       "      <td>Opinion</td>\n",
       "      <td>{'original': 'By Henry Grabar', 'person': [{'f...</td>\n",
       "      <td>The fight over congestion pricing gets at some...</td>\n",
       "    </tr>\n",
       "    <tr>\n",
       "      <th>7063</th>\n",
       "      <td>Op-Ed</td>\n",
       "      <td>OpEd</td>\n",
       "      <td>Opinion</td>\n",
       "      <td>{'original': 'By Ilan Stavans', 'person': [{'f...</td>\n",
       "      <td>The language has been experiencing something o...</td>\n",
       "    </tr>\n",
       "  </tbody>\n",
       "</table>\n",
       "</div>"
      ],
      "text/plain": [
       "     type_of_material news_desk        section_name  \\\n",
       "7059             News   Foreign               World   \n",
       "7060             News   Foreign  International Home   \n",
       "7061         briefing    NYTNow            Briefing   \n",
       "7062            Op-Ed      OpEd             Opinion   \n",
       "7063            Op-Ed      OpEd             Opinion   \n",
       "\n",
       "                                                 byline  \\\n",
       "7059  {'original': 'By Marc Santora', 'person': [{'f...   \n",
       "7060  {'original': 'By Ian Austen', 'person': [{'fir...   \n",
       "7061  {'original': 'By Melissa Kirsch', 'person': [{...   \n",
       "7062  {'original': 'By Henry Grabar', 'person': [{'f...   \n",
       "7063  {'original': 'By Ilan Stavans', 'person': [{'f...   \n",
       "\n",
       "                                          combined_text  \n",
       "7059  Russia’s Ministry of Defense said it had destr...  \n",
       "7060  Nelson, British Columbia, is one of several pl...  \n",
       "7061  Labor Day weekend marks the unofficial end of ...  \n",
       "7062  The fight over congestion pricing gets at some...  \n",
       "7063  The language has been experiencing something o...  "
      ]
     },
     "execution_count": 13,
     "metadata": {},
     "output_type": "execute_result"
    }
   ],
   "source": [
    "df.tail()"
   ]
  },
  {
   "cell_type": "code",
   "execution_count": 14,
   "id": "69e5d3f0",
   "metadata": {},
   "outputs": [
    {
     "name": "stdout",
     "output_type": "stream",
     "text": [
      "Ten high-end design galleries will offer 30 to 70 percent off modern and midcentury modern furniture on April 3 and 4. Ten high-end design galleries, including Antik, R20th Century, Cristina Grajales and Moss, will offer 30 to 70 percent off modern and midcentury modern furniture on April 3 and 4 at 520 West 19th Street (10th Avenue); for a complete list of participating galleries and sale hours: mossonline.com/ddgprivatesale.  Price Cuts and Gift-Card Rescues Furniture Sales Textiles\n"
     ]
    }
   ],
   "source": [
    "print(df.loc[1, 'combined_text'])"
   ]
  },
  {
   "cell_type": "code",
   "execution_count": 15,
   "id": "d5905366",
   "metadata": {},
   "outputs": [
    {
     "data": {
      "text/plain": [
       "news_desk\n",
       "Foreign                            749\n",
       "Metro                              715\n",
       "Sports                             708\n",
       "National                           668\n",
       "Business                           668\n",
       "                                  ... \n",
       "Sports / Soccer                      1\n",
       "Watching                             1\n",
       "Business / Energy & Environment      1\n",
       "Live                                 1\n",
       "Fashion & Style                      1\n",
       "Name: count, Length: 65, dtype: int64"
      ]
     },
     "execution_count": 15,
     "metadata": {},
     "output_type": "execute_result"
    }
   ],
   "source": [
    "df[\"news_desk\"].value_counts()"
   ]
  },
  {
   "cell_type": "code",
   "execution_count": 16,
   "id": "7faab6b5",
   "metadata": {},
   "outputs": [
    {
     "data": {
      "text/plain": [
       "array(['Home', 'Business', 'National', 'SpecialSections', 'BookReview',\n",
       "       'Metro', 'Foreign', 'Magazine', 'Sports', 'Editorial', 'OpEd',\n",
       "       'Culture', 'Dining', 'Styles', 'SundayBusiness', 'Summary',\n",
       "       'Science', 'Letters', 'TLiving', 'TCulture', 'Sports / Soccer',\n",
       "       'US', 'Fashion & Style', 'Business / Energy & Environment',\n",
       "       'Technology', 'Opinion', 'Weekend', 'NODESK', 'Society', 'TStyle',\n",
       "       'Washington', 'RealEstate', 'Obits', 'Arts&Leisure', 'Upshot',\n",
       "       'TDesign', 'CityWeekly', 'Travel', '0', 'Politics', 'NYTNow',\n",
       "       'Express', 'Corrections', 'Learning', 'Smarter Living', 'Photo',\n",
       "       'Games', 'Books', 'Well', 'Metropolitan', 'Climate', 'Video',\n",
       "       'EdLife', 'Investigative', 'Universal', 'Podcasts', 'Gender',\n",
       "       'NYTI', 'Neediest', 'Insider', 'NewsDesk', 'Watching', 'Parenting',\n",
       "       'Live', 'AtHome'], dtype=object)"
      ]
     },
     "execution_count": 16,
     "metadata": {},
     "output_type": "execute_result"
    }
   ],
   "source": [
    "df[\"news_desk\"].unique()"
   ]
  },
  {
   "cell_type": "code",
   "execution_count": 17,
   "id": "1962b65f",
   "metadata": {},
   "outputs": [
    {
     "data": {
      "text/plain": [
       "array(['Home & Garden', 'Business Day', 'U.S.', 'Technology', 'Books',\n",
       "       'New York', 'Science', 'Washington', 'World', 'Magazine', 'Sports',\n",
       "       'Opinion', 'Crosswords & Games', 'Health', 'UrbanEye', 'Food',\n",
       "       'Fashion & Style', 'Arts', 'Education', 'Theater', 'Corrections',\n",
       "       'T Magazine', 'Movies', 'Real Estate',\n",
       "       'Great Homes & Destinations', 'Blogs', 'The Upshot', 'Your Money',\n",
       "       'Travel', 'Today’s Paper', 'NYT Now', 'Style', 'Briefing',\n",
       "       'The Learning Network', 'Obituaries', 'Smarter Living', 'Lens',\n",
       "       'Reader Center', 'Well', 'Climate', 'Times Insider', 'The Weekly',\n",
       "       'Sunday Review', 'Podcasts', 'Neediest Cases', 'Watching',\n",
       "       'Parenting', 'International Home', 'Automobiles', 'Admin', 'Video',\n",
       "       'At Home'], dtype=object)"
      ]
     },
     "execution_count": 17,
     "metadata": {},
     "output_type": "execute_result"
    }
   ],
   "source": [
    "df[\"section_name\"].unique()"
   ]
  },
  {
   "cell_type": "code",
   "execution_count": 18,
   "id": "fc75eb62",
   "metadata": {},
   "outputs": [
    {
     "data": {
      "text/plain": [
       "section_name\n",
       "U.S.                          943\n",
       "Opinion                       823\n",
       "New York                      758\n",
       "World                         745\n",
       "Sports                        727\n",
       "Business Day                  581\n",
       "Fashion & Style               402\n",
       "Arts                          310\n",
       "Books                         209\n",
       "Style                         137\n",
       "Corrections                   135\n",
       "Crosswords & Games            134\n",
       "The Learning Network          109\n",
       "Technology                     95\n",
       "Magazine                       81\n",
       "Health                         74\n",
       "Movies                         73\n",
       "Today’s Paper                  73\n",
       "Science                        71\n",
       "Briefing                       70\n",
       "Real Estate                    63\n",
       "Food                           54\n",
       "Travel                         53\n",
       "Well                           52\n",
       "Theater                        50\n",
       "Education                      32\n",
       "Home & Garden                  24\n",
       "The Upshot                     24\n",
       "Climate                        23\n",
       "T Magazine                     20\n",
       "Times Insider                  18\n",
       "Obituaries                     16\n",
       "Podcasts                       11\n",
       "Smarter Living                 10\n",
       "UrbanEye                        9\n",
       "Your Money                      8\n",
       "Reader Center                   7\n",
       "Lens                            6\n",
       "Washington                      5\n",
       "At Home                         5\n",
       "Parenting                       4\n",
       "Admin                           4\n",
       "Neediest Cases                  3\n",
       "Great Homes & Destinations      2\n",
       "International Home              2\n",
       "Automobiles                     2\n",
       "Video                           2\n",
       "Blogs                           1\n",
       "The Weekly                      1\n",
       "Sunday Review                   1\n",
       "NYT Now                         1\n",
       "Watching                        1\n",
       "Name: count, dtype: int64"
      ]
     },
     "execution_count": 18,
     "metadata": {},
     "output_type": "execute_result"
    }
   ],
   "source": [
    "df[\"section_name\"].value_counts()"
   ]
  },
  {
   "cell_type": "markdown",
   "id": "2109f2bb",
   "metadata": {},
   "source": [
    "### Consolidate Rare Categories in \"news_desk"
   ]
  },
  {
   "cell_type": "code",
   "execution_count": 19,
   "id": "df63d1b9",
   "metadata": {},
   "outputs": [],
   "source": [
    "\n",
    "#Consolidate Rare Categories in \"news_desk\"\n",
    "\n",
    "df['news_desk'] = df['news_desk'].replace({\n",
    "    'Sports / Soccer': 'Sports',\n",
    "    'Business / Energy & Environment': 'Business',\n",
    "    'NODESK': 'Unknown',\n",
    "    '0': 'Unknown',\n",
    "    'Styles': 'Style & Fashion',\n",
    "    'Fashion & Style': 'Style & Fashion',\n",
    "    'TStyle': 'Style & Fashion',\n",
    "    'Arts&Leisure': 'Arts & Culture',\n",
    "    'Culture': 'Arts & Culture',\n",
    "    'TCulture': 'Arts & Culture',\n",
    "    'Editorial': 'Opinion & Editorial',\n",
    "    'OpEd': 'Opinion & Editorial',\n",
    "    'Opinion': 'Opinion & Editorial',\n",
    "    'Dining': 'Lifestyle & Leisure',\n",
    "    'Travel': 'Lifestyle & Leisure',\n",
    "    'Well': 'Lifestyle & Leisure',\n",
    "    'Home': 'Lifestyle & Leisure'\n",
    "})\n",
    "\n",
    "# Handling infrequent categories\n",
    "infrequent_desks = df['news_desk'].value_counts()[df['news_desk'].value_counts() < 5].index\n",
    "df['news_desk'] = df['news_desk'].replace(infrequent_desks, 'Other')\n"
   ]
  },
  {
   "cell_type": "code",
   "execution_count": 20,
   "id": "7b0107a4",
   "metadata": {},
   "outputs": [
    {
     "data": {
      "text/plain": [
       "news_desk\n",
       "Foreign                749\n",
       "Metro                  715\n",
       "Sports                 709\n",
       "Business               669\n",
       "National               668\n",
       "Opinion & Editorial    664\n",
       "Arts & Culture         357\n",
       "Society                355\n",
       "Lifestyle & Leisure    184\n",
       "Style & Fashion        175\n",
       "BookReview             170\n",
       "Washington             169\n",
       "Letters                161\n",
       "Summary                136\n",
       "Express                110\n",
       "Learning               108\n",
       "Games                  105\n",
       "Politics                86\n",
       "Science                 85\n",
       "Weekend                 81\n",
       "Magazine                81\n",
       "Corrections             78\n",
       "NYTNow                  71\n",
       "SpecialSections         65\n",
       "RealEstate              58\n",
       "Metropolitan            42\n",
       "SundayBusiness          40\n",
       "Obits                   29\n",
       "Other                   26\n",
       "Upshot                  22\n",
       "Climate                 20\n",
       "Insider                 13\n",
       "CityWeekly              10\n",
       "Podcasts                10\n",
       "Investigative            9\n",
       "Photo                    8\n",
       "AtHome                   8\n",
       "Books                    7\n",
       "Smarter Living           6\n",
       "Unknown                  5\n",
       "Name: count, dtype: int64"
      ]
     },
     "execution_count": 20,
     "metadata": {},
     "output_type": "execute_result"
    }
   ],
   "source": [
    "df[\"news_desk\"].value_counts()"
   ]
  },
  {
   "cell_type": "code",
   "execution_count": 21,
   "id": "4811347d",
   "metadata": {},
   "outputs": [
    {
     "name": "stdout",
     "output_type": "stream",
     "text": [
      "{'original': 'By Marianne Rohrlich', 'person': [{'firstname': 'Marianne', 'middlename': None, 'lastname': 'Rohrlich', 'qualifier': None, 'title': None, 'role': 'reported', 'organization': '', 'rank': 1}], 'organization': None}\n"
     ]
    }
   ],
   "source": [
    "print(df.loc[1, 'byline'])"
   ]
  },
  {
   "cell_type": "markdown",
   "id": "9ce6db82",
   "metadata": {},
   "source": [
    "### Extract Author's name from \"byline\""
   ]
  },
  {
   "cell_type": "code",
   "execution_count": 22,
   "id": "6c3542ff",
   "metadata": {},
   "outputs": [],
   "source": [
    "\n",
    "\n",
    "def extract_author(byline):\n",
    "    if pd.isna(byline) or not byline:\n",
    "        return ''  # Return empty string if byline is NaN or empty\n",
    "\n",
    "    try:\n",
    "        byline_dict = ast.literal_eval(byline)\n",
    "        if 'person' in byline_dict and byline_dict['person']:\n",
    "            person_info = byline_dict['person'][0]\n",
    "            first_name = person_info.get('firstname', '')\n",
    "            last_name = person_info.get('lastname', '')\n",
    "            return f\"{first_name} {last_name}\".strip()\n",
    "        elif 'original' in byline_dict and byline_dict['original']:\n",
    "            return byline_dict.get('original', '').split('By ')[-1].strip()\n",
    "        else:\n",
    "            return ''\n",
    "    except (ValueError, SyntaxError):\n",
    "        return ''\n",
    "\n",
    "df['author'] = df['byline'].apply(extract_author)\n",
    "\n",
    "df = df.drop(columns=['byline'])"
   ]
  },
  {
   "cell_type": "code",
   "execution_count": 23,
   "id": "8547f6ae",
   "metadata": {},
   "outputs": [
    {
     "data": {
      "text/html": [
       "<div>\n",
       "<style scoped>\n",
       "    .dataframe tbody tr th:only-of-type {\n",
       "        vertical-align: middle;\n",
       "    }\n",
       "\n",
       "    .dataframe tbody tr th {\n",
       "        vertical-align: top;\n",
       "    }\n",
       "\n",
       "    .dataframe thead th {\n",
       "        text-align: right;\n",
       "    }\n",
       "</style>\n",
       "<table border=\"1\" class=\"dataframe\">\n",
       "  <thead>\n",
       "    <tr style=\"text-align: right;\">\n",
       "      <th></th>\n",
       "      <th>type_of_material</th>\n",
       "      <th>news_desk</th>\n",
       "      <th>section_name</th>\n",
       "      <th>combined_text</th>\n",
       "      <th>author</th>\n",
       "    </tr>\n",
       "  </thead>\n",
       "  <tbody>\n",
       "    <tr>\n",
       "      <th>0</th>\n",
       "      <td>News</td>\n",
       "      <td>Lifestyle &amp; Leisure</td>\n",
       "      <td>Home &amp; Garden</td>\n",
       "      <td>Point of view — prescriptive, descriptive and ...</td>\n",
       "      <td>Penelope Green</td>\n",
       "    </tr>\n",
       "    <tr>\n",
       "      <th>1</th>\n",
       "      <td>News</td>\n",
       "      <td>Lifestyle &amp; Leisure</td>\n",
       "      <td>Home &amp; Garden</td>\n",
       "      <td>Ten high-end design galleries will offer 30 to...</td>\n",
       "      <td>Marianne Rohrlich</td>\n",
       "    </tr>\n",
       "    <tr>\n",
       "      <th>2</th>\n",
       "      <td>News</td>\n",
       "      <td>Business</td>\n",
       "      <td>Business Day</td>\n",
       "      <td>Bankers may be suffering but the decline in de...</td>\n",
       "      <td>Lauren Laughlin</td>\n",
       "    </tr>\n",
       "    <tr>\n",
       "      <th>3</th>\n",
       "      <td>News</td>\n",
       "      <td>National</td>\n",
       "      <td>U.S.</td>\n",
       "      <td>Florida scaled back its purchase of sugar comp...</td>\n",
       "      <td>Damien Cave</td>\n",
       "    </tr>\n",
       "    <tr>\n",
       "      <th>4</th>\n",
       "      <td>News</td>\n",
       "      <td>Business</td>\n",
       "      <td>Technology</td>\n",
       "      <td>Take-Two Interactive, the maker of Grand Theft...</td>\n",
       "      <td>Bloomberg News</td>\n",
       "    </tr>\n",
       "  </tbody>\n",
       "</table>\n",
       "</div>"
      ],
      "text/plain": [
       "  type_of_material            news_desk   section_name  \\\n",
       "0             News  Lifestyle & Leisure  Home & Garden   \n",
       "1             News  Lifestyle & Leisure  Home & Garden   \n",
       "2             News             Business   Business Day   \n",
       "3             News             National           U.S.   \n",
       "4             News             Business     Technology   \n",
       "\n",
       "                                       combined_text             author  \n",
       "0  Point of view — prescriptive, descriptive and ...     Penelope Green  \n",
       "1  Ten high-end design galleries will offer 30 to...  Marianne Rohrlich  \n",
       "2  Bankers may be suffering but the decline in de...    Lauren Laughlin  \n",
       "3  Florida scaled back its purchase of sugar comp...        Damien Cave  \n",
       "4  Take-Two Interactive, the maker of Grand Theft...     Bloomberg News  "
      ]
     },
     "execution_count": 23,
     "metadata": {},
     "output_type": "execute_result"
    }
   ],
   "source": [
    "df.head()"
   ]
  },
  {
   "cell_type": "code",
   "execution_count": 24,
   "id": "f0ae4057",
   "metadata": {},
   "outputs": [
    {
     "data": {
      "text/plain": [
       "author\n",
       "                        1004\n",
       "The Editorial Board      116\n",
       "Deb Amlen                 60\n",
       "The Learning Network      51\n",
       "Tyler Kepner              42\n",
       "                        ... \n",
       "Stacey Stowe               1\n",
       "Jeff Ihaza                 1\n",
       "Tim Lahey                  1\n",
       "Elia Alba                  1\n",
       "Ilan Stavans               1\n",
       "Name: count, Length: 2036, dtype: int64"
      ]
     },
     "execution_count": 24,
     "metadata": {},
     "output_type": "execute_result"
    }
   ],
   "source": [
    "df[\"author\"].value_counts()"
   ]
  },
  {
   "cell_type": "code",
   "execution_count": 25,
   "id": "88d0d490",
   "metadata": {},
   "outputs": [],
   "source": [
    "df.to_csv('processced df.csv', index=False)"
   ]
  }
 ],
 "metadata": {
  "kernelspec": {
   "display_name": "Python (dojo-env)",
   "language": "python",
   "name": "dojo-env"
  },
  "language_info": {
   "codemirror_mode": {
    "name": "ipython",
    "version": 3
   },
   "file_extension": ".py",
   "mimetype": "text/x-python",
   "name": "python",
   "nbconvert_exporter": "python",
   "pygments_lexer": "ipython3",
   "version": "3.8.13"
  },
  "toc": {
   "base_numbering": 1,
   "nav_menu": {},
   "number_sections": false,
   "sideBar": true,
   "skip_h1_title": false,
   "title_cell": "Table of Contents",
   "title_sidebar": "Contents",
   "toc_cell": false,
   "toc_position": {},
   "toc_section_display": true,
   "toc_window_display": false
  }
 },
 "nbformat": 4,
 "nbformat_minor": 5
}
